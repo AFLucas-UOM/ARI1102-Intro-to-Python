{
 "cells": [
  {
   "cell_type": "markdown",
   "metadata": {},
   "source": [
    "# Worksheet 6A: `collections` Module\n",
    "\n",
    "The collections module is a built-in module that implements specialised container data types providing alternatives to Python’s general purpose built-in containers. We've already gone over the basics: `dict`, `list`, `set`, & `tuple`.\n",
    "\n",
    "Now we'll learn about the alternatives that the `collections` module provides."
   ]
  },
  {
   "cell_type": "markdown",
   "metadata": {},
   "source": [
    "---\n",
    "## Q1: `Counter`\n",
    "\n",
    "`Counter` is a `dict` subclass which helps count hashable objects. Inside of it, elements are stored as dictionary keys and the counts of the objects are stored as the value.\n",
    "\n",
    "To start using this class, we first need to import it:"
   ]
  },
  {
   "cell_type": "code",
   "execution_count": null,
   "metadata": {},
   "outputs": [],
   "source": [
    "from collections import Counter"
   ]
  },
  {
   "cell_type": "markdown",
   "metadata": {},
   "source": [
    "Then we can retrieve counts as follows:"
   ]
  },
  {
   "cell_type": "code",
   "execution_count": null,
   "metadata": {},
   "outputs": [],
   "source": [
    "lst = [1, 2, 2, 2, 2, 3, 3, 3, 1, 2, 1, 12, 3, 2, 32, 1, 21, 1, 223, 1]\n",
    "\n",
    "c = Counter(lst)\n",
    "c"
   ]
  },
  {
   "cell_type": "markdown",
   "metadata": {},
   "source": [
    "### Q1 a\n",
    "\n",
    "Given the following:"
   ]
  },
  {
   "cell_type": "code",
   "execution_count": null,
   "metadata": {},
   "outputs": [],
   "source": [
    "text = \"dkjhskjfhkjfhsk\""
   ]
  },
  {
   "cell_type": "markdown",
   "metadata": {},
   "source": [
    "Use `Counter` to count the characters in `text`."
   ]
  },
  {
   "cell_type": "code",
   "execution_count": null,
   "metadata": {
    "id": "1a",
    "marks": 1,
    "tags": [
     "answer"
    ]
   },
   "outputs": [],
   "source": [
    "# answer:\n"
   ]
  },
  {
   "cell_type": "markdown",
   "metadata": {},
   "source": [
    "### Q1 b\n",
    "\n",
    "Given the following:"
   ]
  },
  {
   "cell_type": "code",
   "execution_count": null,
   "metadata": {},
   "outputs": [],
   "source": [
    "text = \"This is a very long sentence because is has several words\""
   ]
  },
  {
   "cell_type": "markdown",
   "metadata": {},
   "source": [
    "Use `Counter` to count the **words** in `text`."
   ]
  },
  {
   "cell_type": "code",
   "execution_count": null,
   "metadata": {
    "id": "1b",
    "marks": 1,
    "tags": [
     "answer"
    ]
   },
   "outputs": [],
   "source": [
    "# answer:\n"
   ]
  },
  {
   "cell_type": "markdown",
   "metadata": {},
   "source": [
    "### Q1 c\n",
    "\n",
    "Using the function `most_common` on `c`, get the most common value & count."
   ]
  },
  {
   "cell_type": "code",
   "execution_count": null,
   "metadata": {
    "id": "1c",
    "marks": 1,
    "tags": [
     "answer"
    ]
   },
   "outputs": [],
   "source": [
    "# answer:\n"
   ]
  },
  {
   "cell_type": "markdown",
   "metadata": {},
   "source": [
    "---\n",
    "## Q2: `defaultdict`\n",
    "\n",
    "`defaultdict` is a container like dictionaries and a sub-class of the `dict` class that returns a dictionary-like object. The functionality of both `dict` & `defualtdict` are almost the same except for the fact that defualtdict **never** raises a `KeyError`. If you query a defaultdict with a key that doesn't exist, it will simply insert a new entry for it providing it with the default value.\n",
    "\n",
    "To use it we have to import it first:"
   ]
  },
  {
   "cell_type": "code",
   "execution_count": null,
   "metadata": {},
   "outputs": [],
   "source": [
    "from collections import defaultdict"
   ]
  },
  {
   "cell_type": "markdown",
   "metadata": {},
   "source": [
    "Querying a key which isn't in the dictionary results in an error with a standard `dict`:"
   ]
  },
  {
   "cell_type": "code",
   "execution_count": null,
   "metadata": {},
   "outputs": [],
   "source": [
    "d1 = {}\n",
    "d1[\"one\"]"
   ]
  },
  {
   "cell_type": "markdown",
   "metadata": {},
   "source": [
    "But a default value is returned if we try this with a `defaultdict`:"
   ]
  },
  {
   "cell_type": "code",
   "execution_count": null,
   "metadata": {
    "scrolled": true
   },
   "outputs": [],
   "source": [
    "d2 = defaultdict(int)\n",
    "d2[\"one\"]"
   ]
  },
  {
   "cell_type": "markdown",
   "metadata": {},
   "source": [
    "And the original dictionary is modified to include the new key-value pair in `d2`:"
   ]
  },
  {
   "cell_type": "code",
   "execution_count": null,
   "metadata": {},
   "outputs": [],
   "source": [
    "print(d1)\n",
    "print(d2)"
   ]
  },
  {
   "cell_type": "markdown",
   "metadata": {},
   "source": [
    "Notice how we are passing `int` to the `defaultdict` function. Remember that `int` is a built-in function, & this can be replaced with any other function to supply a default value of choice:"
   ]
  },
  {
   "cell_type": "code",
   "execution_count": null,
   "metadata": {},
   "outputs": [],
   "source": [
    "d3 = defaultdict(lambda: 123)\n",
    "d3[\"one\"]"
   ]
  },
  {
   "cell_type": "markdown",
   "metadata": {},
   "source": [
    "### Q2 a\n",
    "\n",
    "Suppose we have the following list:"
   ]
  },
  {
   "cell_type": "code",
   "execution_count": null,
   "metadata": {},
   "outputs": [],
   "source": [
    "words = [\"code\", \"worksheet\", \"computer\", \"class\", \"glass\", \"vase\", \"base\", \"wise\"]"
   ]
  },
  {
   "cell_type": "markdown",
   "metadata": {},
   "source": [
    "Using a standard `dict`, we can calculate how many words starting with a given letter as follows:"
   ]
  },
  {
   "cell_type": "code",
   "execution_count": null,
   "metadata": {},
   "outputs": [],
   "source": [
    "d = {}\n",
    "for word in words:\n",
    "    character = word[0]\n",
    "    if character not in d:\n",
    "        d[character] = 0\n",
    "    d[character] += 1\n",
    "d"
   ]
  },
  {
   "cell_type": "markdown",
   "metadata": {},
   "source": [
    "Notice how we need to have an `if` statement to add the dictionary item if we have encountered a new character. Without it, we would encounter a `KeyError`. This sort of mechanical code can be reduced by using `defaultdict`s. Provide the code."
   ]
  },
  {
   "cell_type": "code",
   "execution_count": null,
   "metadata": {
    "id": "2a",
    "marks": 1,
    "tags": [
     "answer"
    ]
   },
   "outputs": [],
   "source": [
    "# answer:\n"
   ]
  },
  {
   "cell_type": "markdown",
   "metadata": {},
   "source": [
    "### Q2 b\n",
    "\n",
    "Now, provide the code to give the words starting with each letter instead of the counts (still using `defaultdict`)."
   ]
  },
  {
   "cell_type": "code",
   "execution_count": null,
   "metadata": {
    "id": "2b",
    "marks": 1,
    "tags": [
     "answer"
    ]
   },
   "outputs": [],
   "source": [
    "# answer:\n"
   ]
  },
  {
   "cell_type": "markdown",
   "metadata": {},
   "source": [
    "---\n",
    "## Q3: `namedtuple`\n",
    "\n",
    "The standard tuple uses numerical indexes to access its members, for example:"
   ]
  },
  {
   "cell_type": "code",
   "execution_count": null,
   "metadata": {},
   "outputs": [],
   "source": [
    "t1 = (2, \"Lab\", \"Sammy\")"
   ]
  },
  {
   "cell_type": "code",
   "execution_count": null,
   "metadata": {},
   "outputs": [],
   "source": [
    "t1[0]"
   ]
  },
  {
   "cell_type": "markdown",
   "metadata": {},
   "source": [
    "For simple use cases, this is usually enough. On the other hand, remembering which index should be used for each value can lead to errors, especially if the tuple has a lot of fields and is constructed far from where it is used. A `namedtuple` assigns names, as well as the numerical index, to each member. \n",
    "\n",
    "Each kind of `namedtuple` is represented by its own class, created by using the `namedtuple` factory function. The arguments are the name of the new class and a string containing the names of the elements.\n",
    "\n",
    "You can basically think of `namedtuple`s as a very quick way of creating a new object/class type with some attribute fields.\n",
    "For example:"
   ]
  },
  {
   "cell_type": "code",
   "execution_count": null,
   "metadata": {},
   "outputs": [],
   "source": [
    "from collections import namedtuple"
   ]
  },
  {
   "cell_type": "code",
   "execution_count": null,
   "metadata": {},
   "outputs": [],
   "source": [
    "Dog = namedtuple(\"Dog\", [\"age\", \"breed\", \"name\"])\n",
    "\n",
    "sam = Dog(age=2, breed=\"Lab\", name=\"Sammy\")\n",
    "sam"
   ]
  },
  {
   "cell_type": "markdown",
   "metadata": {},
   "source": [
    "### Q3 a\n",
    "\n",
    "This allows us to use the field names we provided to access the individual member of a tuple. Provide the code to access the `breed` value of `sam` using the field name."
   ]
  },
  {
   "cell_type": "code",
   "execution_count": null,
   "metadata": {
    "id": "3a",
    "marks": 0.5,
    "tags": [
     "answer"
    ]
   },
   "outputs": [],
   "source": [
    "# answer:\n"
   ]
  },
  {
   "cell_type": "markdown",
   "metadata": {},
   "source": [
    "### Q3 b\n",
    "\n",
    "We can still access the values using indexes. Provide the code to access the `breed` value of `sam` using the index."
   ]
  },
  {
   "cell_type": "code",
   "execution_count": null,
   "metadata": {
    "id": "3b",
    "marks": 0.5,
    "tags": [
     "answer"
    ]
   },
   "outputs": [],
   "source": [
    "# answer:\n"
   ]
  }
 ],
 "metadata": {
  "kernelspec": {
   "display_name": "Python 3 (ipykernel)",
   "language": "python",
   "name": "python3"
  },
  "language_info": {
   "codemirror_mode": {
    "name": "ipython",
    "version": 3
   },
   "file_extension": ".py",
   "mimetype": "text/x-python",
   "name": "python",
   "nbconvert_exporter": "python",
   "pygments_lexer": "ipython3",
   "version": "3.9.13"
  }
 },
 "nbformat": 4,
 "nbformat_minor": 1
}
