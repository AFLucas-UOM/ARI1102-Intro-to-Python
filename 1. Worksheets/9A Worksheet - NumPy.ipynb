{
 "cells": [
  {
   "cell_type": "markdown",
   "id": "d15bcd67",
   "metadata": {},
   "source": [
    "# Worksheet 9A: NumPy\n",
    "\n",
    "NumPy is one of the most fundamental external package used by Python users. Its array structure is a core component of its functionality offering functionalities functionalities beyond what's possible with Python's built-in data structures in a concise & efficient way.\n",
    "\n",
    "Let's start by installing the library using `pip` (here we're using a Jupyter magic command to execute the shell command within the notebook):"
   ]
  },
  {
   "cell_type": "code",
   "execution_count": null,
   "id": "d0f0fdf0",
   "metadata": {},
   "outputs": [],
   "source": [
    "!pip install numpy"
   ]
  },
  {
   "cell_type": "markdown",
   "id": "1d8a6984",
   "metadata": {},
   "source": [
    "If the installation was successful you should be able to import the package:"
   ]
  },
  {
   "cell_type": "code",
   "execution_count": null,
   "id": "dcd251ff",
   "metadata": {},
   "outputs": [],
   "source": [
    "import numpy as np"
   ]
  },
  {
   "cell_type": "markdown",
   "id": "c8b22493",
   "metadata": {},
   "source": [
    "---\n",
    "## Q1: Creation\n",
    "\n",
    "Arrays are one of the most important data structures in NumPy. Arrays can be initialised through a number of [creation routines](https://numpy.org/doc/stable/reference/routines.array-creation.html). Let's look at a few of them."
   ]
  },
  {
   "cell_type": "markdown",
   "id": "1f6e9dbd",
   "metadata": {},
   "source": [
    "Consider the following `list`:"
   ]
  },
  {
   "cell_type": "code",
   "execution_count": null,
   "id": "5e4e4d08",
   "metadata": {},
   "outputs": [],
   "source": [
    "l = [1, 2, 3, 4, 5, 6]"
   ]
  },
  {
   "cell_type": "markdown",
   "id": "4e5e545a",
   "metadata": {},
   "source": [
    "We can create the equivalent NumPy array using the original data as follows:"
   ]
  },
  {
   "cell_type": "code",
   "execution_count": null,
   "id": "e8d16537",
   "metadata": {},
   "outputs": [],
   "source": [
    "a = np.array(l)\n",
    "a"
   ]
  },
  {
   "cell_type": "markdown",
   "id": "be038601",
   "metadata": {},
   "source": [
    "Notice that its type isn't a `list`:"
   ]
  },
  {
   "cell_type": "code",
   "execution_count": null,
   "id": "86203a3b",
   "metadata": {},
   "outputs": [],
   "source": [
    "type(a)"
   ]
  },
  {
   "cell_type": "markdown",
   "id": "f539e23a",
   "metadata": {},
   "source": [
    "### Q1 a\n",
    "\n",
    "Similarly, to how we could create `l1` using `range` as follows:"
   ]
  },
  {
   "cell_type": "code",
   "execution_count": null,
   "id": "3bfa7f6e",
   "metadata": {},
   "outputs": [],
   "source": [
    "list(range(1, 7))"
   ]
  },
  {
   "cell_type": "markdown",
   "id": "079d2faf",
   "metadata": {},
   "source": [
    "NumPy also provides an analogous method:"
   ]
  },
  {
   "cell_type": "code",
   "execution_count": null,
   "id": "17859336",
   "metadata": {},
   "outputs": [],
   "source": [
    "np.arange(1, 7)"
   ]
  },
  {
   "cell_type": "markdown",
   "id": "a98afbfc",
   "metadata": {},
   "source": [
    "Note how we don't need to cast the result to `list`, since an array is immediately returned by `arange`. In fact, if we did this, we would cast the result to a Python `list`.\n",
    "\n",
    "This package also provides the capability of initialising array with particular values. The following examples initialise arrays of `3` elements with a specific value:"
   ]
  },
  {
   "cell_type": "code",
   "execution_count": null,
   "id": "4a5d61c2",
   "metadata": {},
   "outputs": [],
   "source": [
    "np.ones(3)"
   ]
  },
  {
   "cell_type": "code",
   "execution_count": null,
   "id": "1619d12a",
   "metadata": {},
   "outputs": [],
   "source": [
    "np.zeros(3)"
   ]
  },
  {
   "cell_type": "code",
   "execution_count": null,
   "id": "a18661ae",
   "metadata": {},
   "outputs": [],
   "source": [
    "np.full(3, 2)"
   ]
  },
  {
   "cell_type": "markdown",
   "id": "1afe4c60",
   "metadata": {},
   "source": [
    "---\n",
    "## Shape\n",
    "\n",
    "Let's talk about an array's [`shape`](https://numpy.org/doc/stable/reference/generated/numpy.shape.html), which is an attribute that can be accessed from an array instance:"
   ]
  },
  {
   "cell_type": "code",
   "execution_count": null,
   "id": "88b19551",
   "metadata": {},
   "outputs": [],
   "source": [
    "a.shape"
   ]
  },
  {
   "cell_type": "markdown",
   "id": "7d60363e",
   "metadata": {},
   "source": [
    "This gives an output similar to what we would get when checking the `len` of a `list`:"
   ]
  },
  {
   "cell_type": "code",
   "execution_count": null,
   "id": "340b44ea",
   "metadata": {},
   "outputs": [],
   "source": [
    "len(l)"
   ]
  },
  {
   "cell_type": "markdown",
   "id": "d1d03eca",
   "metadata": {},
   "source": [
    "The `shape` isn't a single integer though, but a tuple with an integer. The reason for this is that NumPy supports multiple dimensions. Let's construct a $2 \\times 3$ array:"
   ]
  },
  {
   "cell_type": "code",
   "execution_count": null,
   "id": "fb0670ed",
   "metadata": {
    "scrolled": true
   },
   "outputs": [],
   "source": [
    "m = np.array([[1, 2, 3], [4, 5, 6]])\n",
    "m"
   ]
  },
  {
   "cell_type": "markdown",
   "id": "aa71e2de",
   "metadata": {},
   "source": [
    "Now the `shape` gives us the dimensions in the form of `(row, column)`, but the length of the list gives us the number of nested lists:"
   ]
  },
  {
   "cell_type": "code",
   "execution_count": null,
   "id": "2ec47ae7",
   "metadata": {
    "scrolled": true
   },
   "outputs": [],
   "source": [
    "m.shape"
   ]
  },
  {
   "cell_type": "markdown",
   "id": "f636f521",
   "metadata": {},
   "source": [
    "The length of the list"
   ]
  },
  {
   "cell_type": "code",
   "execution_count": null,
   "id": "bdc980c9",
   "metadata": {},
   "outputs": [],
   "source": [
    "print(m.tolist())\n",
    "print(len(m.tolist()))"
   ]
  },
  {
   "cell_type": "markdown",
   "id": "7fd5e7ef",
   "metadata": {},
   "source": [
    "### Q1: Reshaping\n",
    "\n",
    "We could [`transpose`](https://numpy.org/doc/stable/reference/generated/numpy.transpose.html) a multi-dimensional array, which inverts the rows & columns:"
   ]
  },
  {
   "cell_type": "code",
   "execution_count": null,
   "id": "db3eeba1",
   "metadata": {},
   "outputs": [],
   "source": [
    "m_T = m.transpose()\n",
    "m_T"
   ]
  },
  {
   "cell_type": "code",
   "execution_count": null,
   "id": "7afdfe36",
   "metadata": {},
   "outputs": [],
   "source": [
    "m_T.shape"
   ]
  },
  {
   "cell_type": "markdown",
   "id": "d3c70442",
   "metadata": {},
   "source": [
    "A more flexible method is [`reshape`](https://numpy.org/doc/stable/reference/generated/numpy.reshape.html), which allows us to specify a custom shape:"
   ]
  },
  {
   "cell_type": "code",
   "execution_count": null,
   "id": "ef35829a",
   "metadata": {},
   "outputs": [],
   "source": [
    "m.reshape((6, 1))"
   ]
  },
  {
   "cell_type": "markdown",
   "id": "7345c61a",
   "metadata": {},
   "source": [
    "There has to be enough elements in the error to fill the specified shape, otherwise, an error is raised:"
   ]
  },
  {
   "cell_type": "code",
   "execution_count": null,
   "id": "734abc33",
   "metadata": {},
   "outputs": [],
   "source": [
    "m.reshape((11, 2))"
   ]
  },
  {
   "cell_type": "markdown",
   "id": "5a46eda6",
   "metadata": {},
   "source": [
    "Note how `m` is still the $2 \\times 3$ array we original had. Since the `reshape` method doesn't reshape the array in-place, but returns a new array which is reshaped."
   ]
  },
  {
   "cell_type": "code",
   "execution_count": null,
   "id": "e5b918e8",
   "metadata": {},
   "outputs": [],
   "source": [
    "m"
   ]
  },
  {
   "cell_type": "markdown",
   "id": "c3cbd02b",
   "metadata": {},
   "source": [
    "`reshape` arguments can be `-1` when we want NumPy to infer the resultant elements along a particular dimension:"
   ]
  },
  {
   "cell_type": "code",
   "execution_count": null,
   "id": "a53a6065",
   "metadata": {},
   "outputs": [],
   "source": [
    "m.reshape(3, -1)"
   ]
  },
  {
   "cell_type": "code",
   "execution_count": null,
   "id": "903645b8",
   "metadata": {
    "scrolled": true
   },
   "outputs": [],
   "source": [
    "a.reshape((-1, 1))"
   ]
  },
  {
   "cell_type": "markdown",
   "id": "66125c0e",
   "metadata": {},
   "source": [
    "#### Q1 a\n",
    "\n",
    "Write code to re-create `m` from the contents of `a` using `reshape`:"
   ]
  },
  {
   "cell_type": "code",
   "execution_count": null,
   "id": "08917f3a",
   "metadata": {
    "id": "1a",
    "marks": 1,
    "tags": [
     "answer"
    ]
   },
   "outputs": [],
   "source": [
    "# answer:\n"
   ]
  },
  {
   "cell_type": "markdown",
   "id": "afc926ff",
   "metadata": {},
   "source": [
    "#### Q1 b\n",
    "\n",
    "Write code to re-create `a` from the contents of `m` using `reshape`:"
   ]
  },
  {
   "cell_type": "code",
   "execution_count": null,
   "id": "1ec1e9a8",
   "metadata": {
    "id": "1b",
    "marks": 1,
    "tags": [
     "answer"
    ]
   },
   "outputs": [],
   "source": [
    "# answer:\n"
   ]
  },
  {
   "cell_type": "markdown",
   "id": "220fc7c9",
   "metadata": {},
   "source": [
    "### Q2\n",
    "\n",
    "We can create multi-dimensional arrays of a custom shape without needing to use `reshape`."
   ]
  },
  {
   "cell_type": "markdown",
   "id": "4c4e9948",
   "metadata": {},
   "source": [
    "#### Q2 a\n",
    "\n",
    "Create an array `a1` which is a $3 \\times 3$ array using [`ones`](https://numpy.org/doc/stable/reference/generated/numpy.ones.html) (without using `reshape`)."
   ]
  },
  {
   "cell_type": "code",
   "execution_count": null,
   "id": "ea5d163a",
   "metadata": {
    "id": "2a",
    "marks": 1,
    "tags": [
     "answer"
    ]
   },
   "outputs": [],
   "source": [
    "# answer:\n"
   ]
  },
  {
   "cell_type": "markdown",
   "id": "82df8641",
   "metadata": {},
   "source": [
    "#### Q2 b\n",
    "\n",
    "Use the [`zeros_like`](https://numpy.org/doc/stable/reference/generated/numpy.zeros_like.html) method to create an array `a2` which is the same shape of `a1` (without using `reshape`)."
   ]
  },
  {
   "cell_type": "code",
   "execution_count": null,
   "id": "67048d2f",
   "metadata": {
    "id": "2b",
    "marks": 1,
    "tags": [
     "answer"
    ]
   },
   "outputs": [],
   "source": [
    "# answer:\n"
   ]
  },
  {
   "cell_type": "markdown",
   "id": "e22bcf4c",
   "metadata": {},
   "source": [
    "---\n",
    "## Arithmetic & Conditional operations\n",
    "\n",
    "One of the most powerful functionalities of NumPy array is the ease by which we can perform arithmetic & conditional operations."
   ]
  },
  {
   "cell_type": "code",
   "execution_count": null,
   "id": "32db630e",
   "metadata": {
    "scrolled": true
   },
   "outputs": [],
   "source": [
    "x = np.arange(1, 4)\n",
    "x"
   ]
  },
  {
   "cell_type": "code",
   "execution_count": null,
   "id": "e94f4c46",
   "metadata": {},
   "outputs": [],
   "source": [
    "x - 1"
   ]
  },
  {
   "cell_type": "markdown",
   "id": "331148bb",
   "metadata": {},
   "source": [
    "Note, that the original contents of `x` aren't modified:"
   ]
  },
  {
   "cell_type": "code",
   "execution_count": null,
   "id": "6628b2b6",
   "metadata": {},
   "outputs": [],
   "source": [
    "x"
   ]
  },
  {
   "cell_type": "markdown",
   "id": "f2505c87",
   "metadata": {},
   "source": [
    "For these changes to take effect we have to assign the result to the original variable:"
   ]
  },
  {
   "cell_type": "code",
   "execution_count": null,
   "id": "98fd00f1",
   "metadata": {},
   "outputs": [],
   "source": [
    "x -= 1\n",
    "x"
   ]
  },
  {
   "cell_type": "markdown",
   "id": "6bd27ccb",
   "metadata": {},
   "source": [
    "Conditional operators are also supported. For example:"
   ]
  },
  {
   "cell_type": "code",
   "execution_count": null,
   "id": "4f44fb12",
   "metadata": {},
   "outputs": [],
   "source": [
    "x > 2"
   ]
  },
  {
   "cell_type": "code",
   "execution_count": null,
   "id": "822e61a4",
   "metadata": {},
   "outputs": [],
   "source": [
    "x == 2"
   ]
  },
  {
   "cell_type": "code",
   "execution_count": null,
   "id": "036ac7ee",
   "metadata": {},
   "outputs": [],
   "source": [
    "x % 2 == True"
   ]
  },
  {
   "cell_type": "markdown",
   "id": "7b53e666",
   "metadata": {},
   "source": [
    "Apart from doing these operations against a single value, we can also perform element-wise operations between 2 arrays:"
   ]
  },
  {
   "cell_type": "code",
   "execution_count": null,
   "id": "6abed497",
   "metadata": {},
   "outputs": [],
   "source": [
    "y = np.arange(4, 7)\n",
    "y"
   ]
  },
  {
   "cell_type": "code",
   "execution_count": null,
   "id": "e2b817c6",
   "metadata": {},
   "outputs": [],
   "source": [
    "x + y"
   ]
  },
  {
   "cell_type": "code",
   "execution_count": null,
   "id": "3c709c4e",
   "metadata": {},
   "outputs": [],
   "source": [
    "x - y"
   ]
  },
  {
   "cell_type": "code",
   "execution_count": null,
   "id": "7698889a",
   "metadata": {},
   "outputs": [],
   "source": [
    "x * y"
   ]
  },
  {
   "cell_type": "markdown",
   "id": "5caf471b",
   "metadata": {},
   "source": [
    "In addition to making the resulting code more concise, the code is also much more efficient thanks to NumPy's built-in vectorisation capabilities. Let's compare this to list comprehension (feel free to compare it against a `for` loop as well)."
   ]
  },
  {
   "cell_type": "code",
   "execution_count": null,
   "id": "fa80c503",
   "metadata": {},
   "outputs": [],
   "source": [
    "n = 10000\n",
    "a = np.random.random(n)\n",
    "b = np.random.random(n)\n",
    "a.shape"
   ]
  },
  {
   "cell_type": "code",
   "execution_count": null,
   "id": "da7a5056",
   "metadata": {},
   "outputs": [],
   "source": [
    "%%timeit\n",
    "[a_i * b_i for a_i, b_i in zip(a, b)]"
   ]
  },
  {
   "cell_type": "code",
   "execution_count": null,
   "id": "d588c6ca",
   "metadata": {},
   "outputs": [],
   "source": [
    "%%timeit\n",
    "a * b"
   ]
  },
  {
   "cell_type": "markdown",
   "id": "1273447e",
   "metadata": {},
   "source": [
    "These operations also work on multi-dimensional arrays:"
   ]
  },
  {
   "cell_type": "code",
   "execution_count": null,
   "id": "369d4d9e",
   "metadata": {},
   "outputs": [],
   "source": [
    "z = np.array([[2, 11, 5],\n",
    "              [10, 12, 13]])\n",
    "z"
   ]
  },
  {
   "cell_type": "code",
   "execution_count": null,
   "id": "e25c0956",
   "metadata": {},
   "outputs": [],
   "source": [
    "z * 2"
   ]
  },
  {
   "cell_type": "code",
   "execution_count": null,
   "id": "695bfff2",
   "metadata": {},
   "outputs": [],
   "source": [
    "z > 10"
   ]
  },
  {
   "cell_type": "code",
   "execution_count": null,
   "id": "2165a7ad",
   "metadata": {},
   "outputs": [],
   "source": [
    "z + z"
   ]
  },
  {
   "cell_type": "markdown",
   "id": "74d88007",
   "metadata": {},
   "source": [
    "### Q3: Broadcasting \n",
    "\n",
    "Let's now try performing an operation between arrays of a different shape:"
   ]
  },
  {
   "cell_type": "code",
   "execution_count": null,
   "id": "653e2e7b",
   "metadata": {},
   "outputs": [],
   "source": [
    "z - x"
   ]
  },
  {
   "cell_type": "markdown",
   "id": "818f9cb6",
   "metadata": {},
   "source": [
    "Why does this work? Explain what's happening & in what cases this won't work. Feel free to modify the operation between the arrays to understand what's happening."
   ]
  },
  {
   "cell_type": "markdown",
   "id": "959cb38a",
   "metadata": {
    "id": "3",
    "marks": 2,
    "tags": [
     "answer"
    ]
   },
   "source": [
    "*answer:*\n"
   ]
  },
  {
   "cell_type": "markdown",
   "id": "9e65caa4",
   "metadata": {},
   "source": [
    "### Q4: Methods\n",
    "\n",
    "There are a number of methods on arrays which perform different computations."
   ]
  },
  {
   "cell_type": "markdown",
   "id": "64f9c9d0",
   "metadata": {},
   "source": [
    "#### Q4 a\n",
    "\n",
    "The [`min`](https://numpy.org/doc/stable/reference/generated/numpy.ndarray.min.html) method computes the minimum number of an array:"
   ]
  },
  {
   "cell_type": "code",
   "execution_count": null,
   "id": "753042c2",
   "metadata": {},
   "outputs": [],
   "source": [
    "z.min()"
   ]
  },
  {
   "cell_type": "markdown",
   "id": "542122d5",
   "metadata": {},
   "source": [
    "But what if we wanted to get the minimum for each column? Provide the code to do this. *Hint: you should be able to do this by specifying an additional parameter to `min`.*"
   ]
  },
  {
   "cell_type": "code",
   "execution_count": null,
   "id": "fd74d168",
   "metadata": {
    "id": "4a",
    "marks": 1,
    "tags": [
     "answer"
    ]
   },
   "outputs": [],
   "source": [
    "# answer:\n"
   ]
  },
  {
   "cell_type": "markdown",
   "id": "58292057",
   "metadata": {},
   "source": [
    "#### Q4 b\n",
    "\n",
    "Use the [`clip`](https://numpy.org/doc/stable/reference/generated/numpy.ndarray.clip.html) method to return an array whose elements are between `0` & `9`."
   ]
  },
  {
   "cell_type": "code",
   "execution_count": null,
   "id": "2f0659ce",
   "metadata": {
    "id": "4b",
    "marks": 1,
    "tags": [
     "answer"
    ]
   },
   "outputs": [],
   "source": [
    "# answer:\n"
   ]
  },
  {
   "cell_type": "markdown",
   "id": "d8ec6edf",
   "metadata": {},
   "source": [
    "#### Matrix operations\n",
    "\n",
    "We can perform multiplication between matrices"
   ]
  },
  {
   "cell_type": "code",
   "execution_count": null,
   "id": "eee78e52",
   "metadata": {},
   "outputs": [],
   "source": [
    "z * z"
   ]
  },
  {
   "cell_type": "markdown",
   "id": "691c6b4a",
   "metadata": {},
   "source": [
    "But this is element-wise multiplication & not matrix multiplication:"
   ]
  },
  {
   "cell_type": "code",
   "execution_count": null,
   "id": "6666a58d",
   "metadata": {},
   "outputs": [],
   "source": [
    "np.matmul(z, z.transpose())"
   ]
  },
  {
   "cell_type": "markdown",
   "id": "fc05da2b",
   "metadata": {},
   "source": [
    "Remember that when performing matrix multiplication between matrices of sizes $n \\times m$ & $m \\times l$, the result is a matrix of size $n \\times l$."
   ]
  },
  {
   "cell_type": "code",
   "execution_count": null,
   "id": "1fc8f51a",
   "metadata": {},
   "outputs": [],
   "source": [
    "m"
   ]
  },
  {
   "cell_type": "markdown",
   "id": "f92efebe",
   "metadata": {},
   "source": [
    "Let's no compute matrix multiplication between a square matrix & its inverse:"
   ]
  },
  {
   "cell_type": "code",
   "execution_count": null,
   "id": "e81bdbe2",
   "metadata": {},
   "outputs": [],
   "source": [
    "m = np.array([\n",
    "    [2, 6, 7],\n",
    "    [2, 6, 5],\n",
    "    [1, 1, 2],\n",
    "])\n",
    "\n",
    "I = np.matmul(m, np.linalg.inv(m))\n",
    "I"
   ]
  },
  {
   "cell_type": "markdown",
   "id": "dbaa2c88",
   "metadata": {},
   "source": [
    "Remember that multiplying a matrix by its inverse is equal to the identity matrix: $A A^-1 = I$."
   ]
  },
  {
   "cell_type": "code",
   "execution_count": null,
   "id": "c2974802",
   "metadata": {},
   "outputs": [],
   "source": [
    "np.identity(3)"
   ]
  },
  {
   "cell_type": "markdown",
   "id": "b4f0a724",
   "metadata": {},
   "source": [
    "If we try this with different values, we might get some rounding errors:"
   ]
  },
  {
   "cell_type": "code",
   "execution_count": null,
   "id": "14c70c12",
   "metadata": {},
   "outputs": [],
   "source": [
    "m = np.array([\n",
    "    [2, 4, 7],\n",
    "    [3, 6, 9],\n",
    "    [1, 1, 2],\n",
    "])\n",
    "\n",
    "I = np.matmul(m, np.linalg.inv(m))\n",
    "I"
   ]
  },
  {
   "cell_type": "markdown",
   "id": "56257e95",
   "metadata": {},
   "source": [
    "This is a [common issue in floating point implementations](https://stackoverflow.com/q/21895756), but we can round to get the desired output:"
   ]
  },
  {
   "cell_type": "code",
   "execution_count": null,
   "id": "9da33927",
   "metadata": {},
   "outputs": [],
   "source": [
    "np.around(I)"
   ]
  },
  {
   "cell_type": "code",
   "execution_count": null,
   "id": "38c82d8f",
   "metadata": {},
   "outputs": [],
   "source": [
    "np.array_equal(np.around(I), np.identity(3))"
   ]
  },
  {
   "cell_type": "markdown",
   "id": "24650bab",
   "metadata": {},
   "source": [
    "## Concatenation"
   ]
  },
  {
   "cell_type": "markdown",
   "id": "d22bf092",
   "metadata": {},
   "source": [
    "### [`append`](https://numpy.org/doc/stable/reference/generated/numpy.append.html)\n",
    "\n",
    "Similar to `list.append`, we can append items to arrays."
   ]
  },
  {
   "cell_type": "code",
   "execution_count": null,
   "id": "3fe63962",
   "metadata": {
    "scrolled": true
   },
   "outputs": [],
   "source": [
    "np.append(a, 4)"
   ]
  },
  {
   "cell_type": "markdown",
   "id": "5b947a6a",
   "metadata": {},
   "source": [
    "Notice how the syntax is slightly different to `list`s:"
   ]
  },
  {
   "cell_type": "code",
   "execution_count": null,
   "id": "fc255dc2",
   "metadata": {},
   "outputs": [],
   "source": [
    "l.append(4)\n",
    "l"
   ]
  },
  {
   "cell_type": "markdown",
   "id": "5847c5b9",
   "metadata": {},
   "source": [
    "The main reason is that the `append` operation doesn't happen in-place, so the original array wasn't changed by our previous operation:"
   ]
  },
  {
   "cell_type": "code",
   "execution_count": null,
   "id": "179b5f1f",
   "metadata": {},
   "outputs": [],
   "source": [
    "a"
   ]
  },
  {
   "cell_type": "code",
   "execution_count": null,
   "id": "f6f7f394",
   "metadata": {},
   "outputs": [],
   "source": [
    "a = np.append(a, 4)  # assign the result to change the array\n",
    "a"
   ]
  },
  {
   "cell_type": "markdown",
   "id": "7ac16f39",
   "metadata": {},
   "source": [
    "Multiple elements can be added at once by supplying an iterable instead of a single element:"
   ]
  },
  {
   "cell_type": "code",
   "execution_count": null,
   "id": "f3424c86",
   "metadata": {},
   "outputs": [],
   "source": [
    "np.append(a, [5, 6])"
   ]
  },
  {
   "cell_type": "markdown",
   "id": "48f7e87c",
   "metadata": {},
   "source": [
    "With `list.append` the list would have been added as a single element in the list, which is why we would use `extend` instead to get the same sequence as above:"
   ]
  },
  {
   "cell_type": "code",
   "execution_count": null,
   "id": "82f95968",
   "metadata": {},
   "outputs": [],
   "source": [
    "l.extend([5, 6])\n",
    "l"
   ]
  },
  {
   "cell_type": "markdown",
   "id": "3a7dd76d",
   "metadata": {},
   "source": [
    "Since NumPy's `append` accepts either a single element or a sequence of elements, the following statements would produce the same sequence:"
   ]
  },
  {
   "cell_type": "code",
   "execution_count": null,
   "id": "162eaa34",
   "metadata": {},
   "outputs": [],
   "source": [
    "np.append(a, 5)"
   ]
  },
  {
   "cell_type": "code",
   "execution_count": null,
   "id": "0b6b82a8",
   "metadata": {
    "scrolled": true
   },
   "outputs": [],
   "source": [
    "np.append(a, [5])"
   ]
  },
  {
   "cell_type": "markdown",
   "id": "a9b7cef5",
   "metadata": {},
   "source": [
    "We can also append along a particular dimension for multi-dimensional arrays:"
   ]
  },
  {
   "cell_type": "code",
   "execution_count": null,
   "id": "b14c2689",
   "metadata": {},
   "outputs": [],
   "source": [
    "m = np.array([[1, 2, 3], [5, 6, 7]])\n",
    "m"
   ]
  },
  {
   "cell_type": "code",
   "execution_count": null,
   "id": "4becf840",
   "metadata": {},
   "outputs": [],
   "source": [
    "np.append(m, [[4], [8]], axis=1)"
   ]
  },
  {
   "cell_type": "markdown",
   "id": "619d1f21",
   "metadata": {},
   "source": [
    "Notice how we are appending a \"column\" array since we are appending along `axis` `1` of `m`."
   ]
  },
  {
   "cell_type": "markdown",
   "id": "d0f8e9d5",
   "metadata": {},
   "source": [
    "### Stacking\n",
    "\n",
    "While append is generally useful for appending individual elements, stacking is a more versatile functionality which allows us to stack arrays against each other along an axis, to create a larger array. Let's consider the following arrays:"
   ]
  },
  {
   "cell_type": "code",
   "execution_count": null,
   "id": "fa7fd9e3",
   "metadata": {
    "scrolled": true
   },
   "outputs": [],
   "source": [
    "m1 = np.arange(0, 4)\n",
    "m1"
   ]
  },
  {
   "cell_type": "code",
   "execution_count": null,
   "id": "7e78bc01",
   "metadata": {},
   "outputs": [],
   "source": [
    "m2 = np.arange(4, 8)\n",
    "m2"
   ]
  },
  {
   "cell_type": "markdown",
   "id": "004ca851",
   "metadata": {},
   "source": [
    "We could stack horizontally:"
   ]
  },
  {
   "cell_type": "code",
   "execution_count": null,
   "id": "adb7949f",
   "metadata": {},
   "outputs": [],
   "source": [
    "m3 = np.hstack((m1, m2))\n",
    "m3"
   ]
  },
  {
   "cell_type": "markdown",
   "id": "740ccb04",
   "metadata": {},
   "source": [
    "The results is something similar to what would happen with `append`.\n",
    "\n",
    "However, if we stack vertically, we would end up with a multi-dimensional array:"
   ]
  },
  {
   "cell_type": "code",
   "execution_count": null,
   "id": "ad1129f6",
   "metadata": {},
   "outputs": [],
   "source": [
    "m3 = np.vstack((m1, m2))\n",
    "m3"
   ]
  },
  {
   "cell_type": "markdown",
   "id": "033d2c39",
   "metadata": {},
   "source": [
    "Notice how, similar to `append`, both `hstack` & `vstack` don't modify the array in-place, but return a new array.\n",
    "\n",
    "We can also stack multi-dimensional arrays against each other, as long as the dimension we're stacking against matches."
   ]
  },
  {
   "cell_type": "code",
   "execution_count": null,
   "id": "f114449f",
   "metadata": {},
   "outputs": [],
   "source": [
    "rows, columns = m3.shape"
   ]
  },
  {
   "cell_type": "code",
   "execution_count": null,
   "id": "20d0fd0c",
   "metadata": {
    "scrolled": true
   },
   "outputs": [],
   "source": [
    "# the number of rows in m4 does not necessarily have to be equal to m3, but the number of columns has to!\n",
    "m4 = np.arange(8, 32).reshape((-1, columns))\n",
    "m4"
   ]
  },
  {
   "cell_type": "code",
   "execution_count": null,
   "id": "e666223b",
   "metadata": {},
   "outputs": [],
   "source": [
    "m5 = np.vstack((m3, m4))\n",
    "m5"
   ]
  },
  {
   "cell_type": "code",
   "execution_count": null,
   "id": "aba12712",
   "metadata": {},
   "outputs": [],
   "source": [
    "# the number of columns in m6 does not necessarily have to be equal to m3, but the number of rows has to!\n",
    "m6 = np.arange(8, 32).reshape((rows, -1))\n",
    "m6"
   ]
  },
  {
   "cell_type": "code",
   "execution_count": null,
   "id": "c56974c9",
   "metadata": {},
   "outputs": [],
   "source": [
    "m7 = np.hstack((m3, m6))\n",
    "m7"
   ]
  },
  {
   "cell_type": "markdown",
   "id": "d01b4d2e",
   "metadata": {},
   "source": [
    "---\n",
    "## Array access\n",
    "\n",
    "Let's use the following array"
   ]
  },
  {
   "cell_type": "code",
   "execution_count": null,
   "id": "a8351a78",
   "metadata": {},
   "outputs": [],
   "source": [
    "a = np.arange(1, 17)\n",
    "a"
   ]
  },
  {
   "cell_type": "markdown",
   "id": "5153012f",
   "metadata": {},
   "source": [
    "We can access elements in an array similar to a list:"
   ]
  },
  {
   "cell_type": "code",
   "execution_count": null,
   "id": "ad376af1",
   "metadata": {},
   "outputs": [],
   "source": [
    "a[0]"
   ]
  },
  {
   "cell_type": "code",
   "execution_count": null,
   "id": "2df61abd",
   "metadata": {},
   "outputs": [],
   "source": [
    "a[-1]"
   ]
  },
  {
   "cell_type": "code",
   "execution_count": null,
   "id": "624f9dd3",
   "metadata": {
    "scrolled": true
   },
   "outputs": [],
   "source": [
    "a[:2]"
   ]
  },
  {
   "cell_type": "code",
   "execution_count": null,
   "id": "74074aed",
   "metadata": {},
   "outputs": [],
   "source": [
    "a[1:17:2]"
   ]
  },
  {
   "cell_type": "code",
   "execution_count": null,
   "id": "3d0bf4b8",
   "metadata": {},
   "outputs": [],
   "source": [
    "a[0:17:2]"
   ]
  },
  {
   "cell_type": "markdown",
   "id": "0c269f3b",
   "metadata": {},
   "source": [
    "Let's now consider multi-dimensional arrays:"
   ]
  },
  {
   "cell_type": "code",
   "execution_count": null,
   "id": "61c29ff3",
   "metadata": {},
   "outputs": [],
   "source": [
    "m = np.arange(1, 17).reshape((4, 4))\n",
    "m"
   ]
  },
  {
   "cell_type": "markdown",
   "id": "5a17823e",
   "metadata": {},
   "source": [
    "Individual elements could be accessed like lists:"
   ]
  },
  {
   "cell_type": "code",
   "execution_count": null,
   "id": "6e832210",
   "metadata": {},
   "outputs": [],
   "source": [
    "m[0][1]"
   ]
  },
  {
   "cell_type": "markdown",
   "id": "52e11722",
   "metadata": {},
   "source": [
    "However, we can specifiy multiple indices for each dimension in one go:"
   ]
  },
  {
   "cell_type": "code",
   "execution_count": null,
   "id": "9a2075e3",
   "metadata": {
    "scrolled": true
   },
   "outputs": [],
   "source": [
    "m[0, 1]"
   ]
  },
  {
   "cell_type": "markdown",
   "id": "5fb4ef00",
   "metadata": {},
   "source": [
    "This syntax allows us to access multiple elements easier. For example, if we wanted to access the first column of an array, this becomes much more straight-forward."
   ]
  },
  {
   "cell_type": "code",
   "execution_count": null,
   "id": "a95e410e",
   "metadata": {},
   "outputs": [],
   "source": [
    "[x[1] for x in m]"
   ]
  },
  {
   "cell_type": "code",
   "execution_count": null,
   "id": "0f32758b",
   "metadata": {},
   "outputs": [],
   "source": [
    "m[:, 1]"
   ]
  },
  {
   "cell_type": "markdown",
   "id": "3f48aff3",
   "metadata": {},
   "source": [
    "Where the `:` indicates that we want the entire slice along that dimension. This is similar to how we can write `a[:2]` or `a[2:]` to indicate \"from the start\" or \"till the end\", respectively."
   ]
  },
  {
   "cell_type": "markdown",
   "id": "1b2a6029",
   "metadata": {},
   "source": [
    "### Q5"
   ]
  },
  {
   "cell_type": "markdown",
   "id": "838d388b",
   "metadata": {},
   "source": [
    "#### Q5 a\n",
    "\n",
    "Write the code to get the first 2 columns of `m`, by using the array access directly. _Hint: remember that the end index is not inclusive when accessing a slice._"
   ]
  },
  {
   "cell_type": "code",
   "execution_count": null,
   "id": "67e94ea1",
   "metadata": {
    "id": "5a",
    "marks": 1,
    "tags": [
     "answer"
    ]
   },
   "outputs": [],
   "source": [
    "# answer:\n"
   ]
  },
  {
   "cell_type": "markdown",
   "id": "d8b1c449",
   "metadata": {},
   "source": [
    "#### Q5 b\n",
    "\n",
    "Write the code to get columns `0` & `2` (the odd numbers) from `m`, by using the array access directly. _Hint: the columns are spaced by 1 column._"
   ]
  },
  {
   "cell_type": "code",
   "execution_count": null,
   "id": "c6dbaec3",
   "metadata": {
    "id": "5b",
    "marks": 2,
    "tags": [
     "answer"
    ]
   },
   "outputs": [],
   "source": [
    "# answer:\n"
   ]
  },
  {
   "cell_type": "markdown",
   "id": "7b161e71",
   "metadata": {},
   "source": [
    "#### Q5 c\n",
    "\n",
    "Write the code to get the `2`, `4`, `10`, & `12` from `m`, by using the array access directly. *Hint: the elements are spaced by 1 column & 1 row.*"
   ]
  },
  {
   "cell_type": "code",
   "execution_count": null,
   "id": "fb3b0f1b",
   "metadata": {
    "id": "5c",
    "marks": 3,
    "tags": [
     "answer"
    ]
   },
   "outputs": [],
   "source": [
    "# answer:\n"
   ]
  },
  {
   "cell_type": "markdown",
   "id": "ae55e719",
   "metadata": {},
   "source": [
    "### Q6\n",
    "\n",
    "You can also access elements by specifying a mask:"
   ]
  },
  {
   "cell_type": "code",
   "execution_count": null,
   "id": "8f2dc93d",
   "metadata": {
    "scrolled": true
   },
   "outputs": [],
   "source": [
    "x = np.arange(10)\n",
    "x[[True, True, True, False, False, False, True, False, True, True]]"
   ]
  },
  {
   "cell_type": "markdown",
   "id": "43bbb295",
   "metadata": {},
   "source": [
    "This gives back the elements whose corresponding index is `True`.\n",
    "\n",
    "Write the code to retrieve the elements which are even from `y`. You should not use a loop to do this & your answer should be generic for any array. _Hint: Remember that we get an array of `bool`s by directly by performing conditional operations on an array._"
   ]
  },
  {
   "cell_type": "code",
   "execution_count": null,
   "id": "f98aca76",
   "metadata": {},
   "outputs": [],
   "source": [
    "y = np.array([\n",
    "    [1, 2, 3],\n",
    "    [2, 4, 6],\n",
    "    [3, 6, 9],\n",
    "])"
   ]
  },
  {
   "cell_type": "code",
   "execution_count": null,
   "id": "25402a6e",
   "metadata": {
    "id": "6",
    "marks": 2,
    "tags": [
     "answer"
    ]
   },
   "outputs": [],
   "source": [
    "# answer:\n"
   ]
  },
  {
   "cell_type": "markdown",
   "id": "6a11bfc1",
   "metadata": {},
   "source": [
    "## Appendix\n",
    "\n",
    "This notebook gave you a brief overview of the NumPy package. In this notebook we mostly looked at how we can exploit the vectorisation capabilites to do certain operations with less code & more efficiently.\n",
    "\n",
    "You are encouraged to go over the documentation & search for tutorials to explore more functionalities that the package has to offer. An exercise you can do is to go over the notebooks where we worked with lists & try replacing each list with a NumPy array to see how you can achieve the same functionality."
   ]
  },
  {
   "cell_type": "code",
   "execution_count": null,
   "id": "afb490a8",
   "metadata": {},
   "outputs": [],
   "source": []
  }
 ],
 "metadata": {
  "kernelspec": {
   "display_name": "Python 3 (ipykernel)",
   "language": "python",
   "name": "python3"
  },
  "language_info": {
   "codemirror_mode": {
    "name": "ipython",
    "version": 3
   },
   "file_extension": ".py",
   "mimetype": "text/x-python",
   "name": "python",
   "nbconvert_exporter": "python",
   "pygments_lexer": "ipython3",
   "version": "3.9.5"
  }
 },
 "nbformat": 4,
 "nbformat_minor": 5
}
