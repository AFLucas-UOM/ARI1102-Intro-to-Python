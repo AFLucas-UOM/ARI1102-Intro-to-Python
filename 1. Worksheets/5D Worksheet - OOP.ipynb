{
 "cells": [
  {
   "cell_type": "markdown",
   "metadata": {},
   "source": [
    "# Worksheet 5D: OOP\n",
    "\n",
    "### Let's play cards! \n",
    "\n",
    "We will be creating an object representing a deck of cards - with each card being an object itself. You have the following requirements:\n",
    "\n",
    "- The `Card` class should have a suit (**H**earts, **D**iamonds, **C**lubs, **S**pades) and a value (A,2,3,4,5,6,7,8,9,10,J,Q,K).\n",
    "- The `Deck` class will start off with a list of all 52 cards.\n",
    "- The `Deck` class will have a method to `shuffle` the cards and rearrange them in random order.\n",
    "- The `Deck` class will have a `deal` method to draw a single card from the deck. Once the card is drawn, it is discarded."
   ]
  },
  {
   "cell_type": "code",
   "execution_count": null,
   "metadata": {
    "id": "1",
    "marks": 20,
    "tags": [
     "answer"
    ]
   },
   "outputs": [],
   "source": [
    "# answer:\n"
   ]
  }
 ],
 "metadata": {
  "kernelspec": {
   "display_name": "Python 3 (ipykernel)",
   "language": "python",
   "name": "python3"
  },
  "language_info": {
   "codemirror_mode": {
    "name": "ipython",
    "version": 3
   },
   "file_extension": ".py",
   "mimetype": "text/x-python",
   "name": "python",
   "nbconvert_exporter": "python",
   "pygments_lexer": "ipython3",
   "version": "3.9.5"
  }
 },
 "nbformat": 4,
 "nbformat_minor": 4
}
