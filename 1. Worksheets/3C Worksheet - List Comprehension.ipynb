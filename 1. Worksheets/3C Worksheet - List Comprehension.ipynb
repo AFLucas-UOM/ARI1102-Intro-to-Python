{
 "cells": [
  {
   "cell_type": "markdown",
   "metadata": {
    "collapsed": true
   },
   "source": [
    "# Worksheet 3C: List Comprehensions\n",
    "\n",
    "In addition to sequence operations and list methods, Python includes a more advanced/elegant operation called a list comprehension.\n",
    "\n",
    "List comprehensions allow us to build out lists using a different notation. These are essentially a `for` loop in a single statement/line.\n",
    "\n",
    "Consider the following example:"
   ]
  },
  {
   "cell_type": "code",
   "execution_count": null,
   "metadata": {},
   "outputs": [],
   "source": [
    "my_list = []\n",
    "for letter in \"abcde\":\n",
    "    my_list.append(letter)\n",
    "        \n",
    "my_list"
   ]
  },
  {
   "cell_type": "markdown",
   "metadata": {},
   "source": [
    "This can be expressed in a more concise manner, using list comprehension:"
   ]
  },
  {
   "cell_type": "code",
   "execution_count": null,
   "metadata": {},
   "outputs": [],
   "source": [
    "my_list = [letter for letter in \"abcde\"]\n",
    "\n",
    "my_list"
   ]
  },
  {
   "cell_type": "markdown",
   "metadata": {},
   "source": [
    "---\n",
    "## Q1\n",
    "\n",
    "Use list comprehension to _square_ a list of numbers which is obtained by using `range(0, 11)`."
   ]
  },
  {
   "cell_type": "code",
   "execution_count": null,
   "metadata": {
    "id": "1",
    "marks": 1,
    "tags": [
     "answer"
    ]
   },
   "outputs": [],
   "source": [
    "# answer:\n"
   ]
  },
  {
   "cell_type": "markdown",
   "metadata": {},
   "source": [
    "---\n",
    "## Q2\n",
    "\n",
    "It is also possible to include conditionals in a list comprehension, something that can be rather useful:\n",
    "\n",
    "```python\n",
    "[variable for variable in some_list if some_condition]\n",
    "```\n",
    "    \n",
    "This basically would iterate through `some_list`, and if `some_condition` is true, then the `variable` would end up in the resultant list\n",
    "\n",
    "Extend your code from **Q1** and include a conditional that will only give the number if it is even."
   ]
  },
  {
   "cell_type": "code",
   "execution_count": null,
   "metadata": {
    "id": "2",
    "marks": 1,
    "tags": [
     "answer"
    ]
   },
   "outputs": [],
   "source": [
    "# answer:\n"
   ]
  },
  {
   "cell_type": "markdown",
   "metadata": {},
   "source": [
    "---\n",
    "## Q3\n",
    "\n",
    "Use list comprehension which takes `\"This is Some SAMple STriNG\"` and will output only the characters that are in upper case. *Hint: you can use the function `isupper`.*"
   ]
  },
  {
   "cell_type": "code",
   "execution_count": null,
   "metadata": {
    "id": "3",
    "marks": 1,
    "tags": [
     "answer"
    ]
   },
   "outputs": [],
   "source": [
    "# answer:\n"
   ]
  },
  {
   "cell_type": "markdown",
   "metadata": {},
   "source": [
    "---\n",
    "## Q4\n",
    "\n",
    "Given this list:"
   ]
  },
  {
   "cell_type": "code",
   "execution_count": null,
   "metadata": {},
   "outputs": [],
   "source": [
    "celsius = [0, 10, 20.1, 34.5]"
   ]
  },
  {
   "cell_type": "markdown",
   "metadata": {},
   "source": [
    "And the formula to convert Celsius to Fahrenheit:\n",
    "```python\n",
    "((9 / 5) * temperature + 32)\n",
    "```\n",
    "\n",
    "Write a list comprehension that will convert the celsius list."
   ]
  },
  {
   "cell_type": "code",
   "execution_count": null,
   "metadata": {
    "id": "4",
    "marks": 1,
    "tags": [
     "answer"
    ]
   },
   "outputs": [],
   "source": [
    "# answer:\n"
   ]
  },
  {
   "cell_type": "markdown",
   "metadata": {},
   "source": [
    "---\n",
    "## Q5\n",
    "\n",
    "So far we saw that list comprehensions take the following format:\n",
    "```python\n",
    "[variable/function for variable in some_list]\n",
    "[variable/function for variable in some_list if some_condition]\n",
    "```\n",
    "\n",
    "Since the output of list comprehension is a list, it is possible to have nested list comprehension, like so:\n",
    "```python\n",
    "[variable/function for variable in [variable/function for variable in some_list]]\n",
    "[variable/function for variable in [variable/function for variable in some_list if some_condition] if some_condition]\n",
    "```\n",
    "\n",
    "Use the list comprehension from **Q1** and square AGAIN the output of the first list comprehension through a nested one. "
   ]
  },
  {
   "cell_type": "code",
   "execution_count": null,
   "metadata": {
    "id": "5",
    "marks": 1,
    "tags": [
     "answer"
    ]
   },
   "outputs": [],
   "source": [
    "# answer:\n"
   ]
  }
 ],
 "metadata": {
  "kernelspec": {
   "display_name": "Python 3 (ipykernel)",
   "language": "python",
   "name": "python3"
  },
  "language_info": {
   "codemirror_mode": {
    "name": "ipython",
    "version": 3
   },
   "file_extension": ".py",
   "mimetype": "text/x-python",
   "name": "python",
   "nbconvert_exporter": "python",
   "pygments_lexer": "ipython3",
   "version": "3.9.5"
  }
 },
 "nbformat": 4,
 "nbformat_minor": 1
}
