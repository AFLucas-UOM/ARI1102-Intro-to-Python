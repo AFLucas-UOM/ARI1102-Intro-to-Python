{
 "cells": [
  {
   "cell_type": "markdown",
   "metadata": {},
   "source": [
    "# Worksheet 4C: File I/O\n",
    "Python uses file objects to interact with external files on your computer. These file objects can be any sort of file you have on your computer, whether it be an audio file, a text file, emails, Excel documents, etc. Note: You will probably need to install certain libraries or modules to interact with those various file types, but they are easily available (we will cover downloading modules later on in the course).\n",
    "\n",
    "Python has a built-in open function that allows us to open and play with basic file types. First we will need a file though!\n",
    "\n",
    "## IPython Writing a File\n",
    "\n",
    "We're going to use some IPython magic to create a text file, this is functionality specific to Jupyter Notebooks."
   ]
  },
  {
   "cell_type": "code",
   "execution_count": null,
   "metadata": {},
   "outputs": [],
   "source": [
    "%%writefile test.txt\n",
    "Hello, this is a quick test file."
   ]
  },
  {
   "cell_type": "markdown",
   "metadata": {},
   "source": [
    "Running this cell should create a `test.txt` file (check your directory on your computer!), but you can of course create a file manually outside of the notebook."
   ]
  },
  {
   "cell_type": "markdown",
   "metadata": {},
   "source": [
    "---\n",
    "## Q1\n",
    "\n",
    "Let's being by opening files. For now we will work with files located in the same directory as the notebook or `.py` script you are using.\n",
    "\n",
    "The built-in function `open` is used to open a file & usually we need a variable to act as a handle to access the file:"
   ]
  },
  {
   "cell_type": "code",
   "execution_count": null,
   "metadata": {
    "scrolled": true
   },
   "outputs": [],
   "source": [
    "my_file = open(\"some file name which does not exists hopefully.txt\")"
   ]
  },
  {
   "cell_type": "markdown",
   "metadata": {},
   "source": [
    "Running this code results in an error, because the name we provided doesn't exist, hopefully!\n",
    "\n",
    "To avoid this error, make sure your `.txt` file is saved in the same location as your notebook, to check your notebook location, use `pwd` (this is short for ***print working directory***)."
   ]
  },
  {
   "cell_type": "code",
   "execution_count": null,
   "metadata": {},
   "outputs": [],
   "source": [
    "pwd"
   ]
  },
  {
   "cell_type": "markdown",
   "metadata": {},
   "source": [
    "Alternatively, to grab files from any location on your computer, simply pass in the entire file path.\n",
    "\n",
    "For Windows you need to use double `\\` so Python doesn't treat the second `\\` as an escape character, a file path is in the form:\n",
    "\n",
    "```python\n",
    "my_file = open(\"C:\\\\Users\\\\UserName\\\\Home\\\\Folder\\\\file.txt\")\n",
    "```\n",
    "\n",
    "For Unix you use `/`:\n",
    "```python\n",
    "my_file = open(\"/Users/UserName/Folder/file.txt\")\n",
    "```"
   ]
  },
  {
   "cell_type": "markdown",
   "metadata": {},
   "source": [
    "Now, use the `open` function to open the `test.txt` file we created earlier."
   ]
  },
  {
   "cell_type": "code",
   "execution_count": null,
   "metadata": {
    "id": "1",
    "marks": 1,
    "tags": [
     "answer"
    ]
   },
   "outputs": [],
   "source": [
    "# answer:\n"
   ]
  },
  {
   "cell_type": "markdown",
   "metadata": {},
   "source": [
    "---\n",
    "## Q2"
   ]
  },
  {
   "cell_type": "markdown",
   "metadata": {},
   "source": [
    "### Q2 a\n",
    "\n",
    "Now, use the `read` method in order to read the contents of the file you opened."
   ]
  },
  {
   "cell_type": "code",
   "execution_count": null,
   "metadata": {
    "id": "2a",
    "marks": 2,
    "tags": [
     "answer"
    ]
   },
   "outputs": [],
   "source": [
    "# answer:\n"
   ]
  },
  {
   "cell_type": "markdown",
   "metadata": {},
   "source": [
    "### Q2 b\n",
    "\n",
    "Try reading the file again."
   ]
  },
  {
   "cell_type": "code",
   "execution_count": null,
   "metadata": {},
   "outputs": [],
   "source": []
  },
  {
   "cell_type": "markdown",
   "metadata": {},
   "source": [
    "What happens & why?"
   ]
  },
  {
   "cell_type": "markdown",
   "metadata": {
    "id": "2b",
    "marks": 2,
    "tags": [
     "answer"
    ]
   },
   "source": [
    "*answer:*\n"
   ]
  },
  {
   "cell_type": "markdown",
   "metadata": {},
   "source": [
    "### Q2 c\n",
    "\n",
    "File Access in python allows us to set the \"offset\" or reading position back to `0` (the start of the file) using the `seek` method. Try it out and then read the file again."
   ]
  },
  {
   "cell_type": "code",
   "execution_count": null,
   "metadata": {
    "id": "2c",
    "marks": 2,
    "tags": [
     "answer"
    ]
   },
   "outputs": [],
   "source": [
    "# answer:\n"
   ]
  },
  {
   "cell_type": "markdown",
   "metadata": {},
   "source": [
    "### Q2 d\n",
    "\n",
    "Now set the offset again to `0` using `seek`, but instead of `read` use the `readlines` method."
   ]
  },
  {
   "cell_type": "code",
   "execution_count": null,
   "metadata": {
    "id": "2di",
    "marks": 1,
    "tags": [
     "answer"
    ]
   },
   "outputs": [],
   "source": [
    "# answer:\n"
   ]
  },
  {
   "cell_type": "markdown",
   "metadata": {},
   "source": [
    "What is the difference between `read` & `readlines`?"
   ]
  },
  {
   "cell_type": "markdown",
   "metadata": {
    "id": "2dii",
    "marks": 1,
    "tags": [
     "answer"
    ]
   },
   "source": [
    "*answer:*\n"
   ]
  },
  {
   "cell_type": "markdown",
   "metadata": {},
   "source": [
    "## File Closing\n",
    "\n",
    "When you have finished using a file, it is always good practice to close it:"
   ]
  },
  {
   "cell_type": "code",
   "execution_count": null,
   "metadata": {},
   "outputs": [],
   "source": [
    "my_file.close()"
   ]
  },
  {
   "cell_type": "markdown",
   "metadata": {},
   "source": [
    "---\n",
    "## Q3\n",
    "\n",
    "By default, the `open` function will only allow us to read the file. We need to pass the argument `\"w\"` (write) or `\"w+\"` (write & read) to write over the file (check out the different access `mode`s here: https://docs.python.org/3/library/functions.html#open)."
   ]
  },
  {
   "cell_type": "markdown",
   "metadata": {},
   "source": [
    "### Q3 a\n",
    "\n",
    "Open the `test.txt` file in writing & reading mode."
   ]
  },
  {
   "cell_type": "code",
   "execution_count": null,
   "metadata": {
    "id": "3a",
    "marks": 1,
    "tags": [
     "answer"
    ]
   },
   "outputs": [],
   "source": [
    "# answer:\n"
   ]
  },
  {
   "cell_type": "markdown",
   "metadata": {},
   "source": [
    "### <font color='red'>**Use caution!**</font>\n",
    "\n",
    "Opening a file with `\"w\"` or `\"w+\"` truncates the original, meaning that anything that was in the original file is **deleted**!"
   ]
  },
  {
   "cell_type": "markdown",
   "metadata": {},
   "source": [
    "### Q3 b\n",
    "\n",
    "Using the `write` method, write some text into the file. You can introduce new lines using `\\n` and you can test the difference between `read` and `readlines` again (remember to reset the `offset` back to `0`)."
   ]
  },
  {
   "cell_type": "code",
   "execution_count": null,
   "metadata": {
    "id": "3b",
    "marks": 2,
    "tags": [
     "answer"
    ]
   },
   "outputs": [],
   "source": [
    "# answer:\n"
   ]
  },
  {
   "cell_type": "code",
   "execution_count": null,
   "metadata": {},
   "outputs": [],
   "source": [
    "my_file.close()  # always do this when you're done with a file"
   ]
  },
  {
   "cell_type": "markdown",
   "metadata": {},
   "source": [
    "---\n",
    "## Q4\n",
    "\n",
    "Passing the argument `\"a\"` to the `open` function opens the file and puts the pointer at the end, so anything written is appended, instead of overwritten. Like `\"w+\"`, `\"a+\"` lets us read and write to a file. If the file does not exist, one will be created."
   ]
  },
  {
   "cell_type": "markdown",
   "metadata": {},
   "source": [
    "### Q4 a\n",
    "\n",
    "Try it out with `test.txt`, write a few lines to the file and read/print the contents of the file."
   ]
  },
  {
   "cell_type": "code",
   "execution_count": null,
   "metadata": {
    "id": "4a",
    "marks": 2,
    "scrolled": true,
    "tags": [
     "answer"
    ]
   },
   "outputs": [],
   "source": [
    "# answer:\n"
   ]
  },
  {
   "cell_type": "markdown",
   "metadata": {},
   "source": [
    "### Q4 b\n",
    "\n",
    "Now, try to read the contents of the file:"
   ]
  },
  {
   "cell_type": "code",
   "execution_count": null,
   "metadata": {},
   "outputs": [],
   "source": []
  },
  {
   "cell_type": "markdown",
   "metadata": {},
   "source": [
    "What is the difference between `\"a\"` & `\"w\"`?"
   ]
  },
  {
   "cell_type": "markdown",
   "metadata": {
    "id": "4b",
    "marks": 1,
    "tags": [
     "answer"
    ]
   },
   "source": [
    "*answer:*\n"
   ]
  },
  {
   "cell_type": "code",
   "execution_count": null,
   "metadata": {},
   "outputs": [],
   "source": [
    "my_file.close()  # always do this when you're done with a file"
   ]
  },
  {
   "cell_type": "markdown",
   "metadata": {},
   "source": [
    "---\n",
    "## Q5\n",
    "\n",
    "Now that we have multiple lines in the file, we can use a little bit of flow. Using a `for` loop, iterate over every line in `\"test.txt\"` & print it."
   ]
  },
  {
   "cell_type": "markdown",
   "metadata": {},
   "source": [
    "Now we can use a little bit of flow to tell the program to for through every line of the file and do something:"
   ]
  },
  {
   "cell_type": "code",
   "execution_count": null,
   "metadata": {
    "id": "5",
    "marks": 2,
    "tags": [
     "answer"
    ]
   },
   "outputs": [],
   "source": [
    "# answer:\n"
   ]
  },
  {
   "cell_type": "markdown",
   "metadata": {},
   "source": [
    "Something <strong><font color='red'>Important</font></strong>  about the code above: By not calling `.read()` on the file, the whole text file was not stored in memory! This is very useful when you are using large files. "
   ]
  }
 ],
 "metadata": {
  "kernelspec": {
   "display_name": "Python 3 (ipykernel)",
   "language": "python",
   "name": "python3"
  },
  "language_info": {
   "codemirror_mode": {
    "name": "ipython",
    "version": 3
   },
   "file_extension": ".py",
   "mimetype": "text/x-python",
   "name": "python",
   "nbconvert_exporter": "python",
   "pygments_lexer": "ipython3",
   "version": "3.9.5"
  }
 },
 "nbformat": 4,
 "nbformat_minor": 1
}
