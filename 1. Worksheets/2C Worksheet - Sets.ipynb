{
 "cells": [
  {
   "cell_type": "markdown",
   "metadata": {},
   "source": [
    "# Worksheet 2C: Sets"
   ]
  },
  {
   "cell_type": "markdown",
   "metadata": {},
   "source": [
    "---\n",
    "## Q1\n",
    "\n",
    "Sets are an unordered collection of unique elements. We can construct them by using the `set` function:"
   ]
  },
  {
   "cell_type": "code",
   "execution_count": null,
   "metadata": {},
   "outputs": [],
   "source": [
    "a = set()\n",
    "a"
   ]
  },
  {
   "cell_type": "markdown",
   "metadata": {},
   "source": [
    "### Q1 a\n",
    "\n",
    "Check the type of `a`:"
   ]
  },
  {
   "cell_type": "code",
   "execution_count": null,
   "metadata": {
    "id": "1a",
    "marks": 1,
    "tags": [
     "answer"
    ]
   },
   "outputs": [],
   "source": [
    "# answer:\n"
   ]
  },
  {
   "cell_type": "markdown",
   "metadata": {},
   "source": [
    "### Q1 b\n",
    "\n",
    "To add elements to a set, we use the method `add` and pass on the element as a parameter.\n",
    "\n",
    "Add the integer `1` to `a`. Then add the string `\"hello\"`:"
   ]
  },
  {
   "cell_type": "code",
   "execution_count": null,
   "metadata": {
    "id": "1b",
    "marks": 1,
    "tags": [
     "answer"
    ]
   },
   "outputs": [],
   "source": [
    "# answer:\n"
   ]
  },
  {
   "cell_type": "markdown",
   "metadata": {},
   "source": [
    "### Q1 c\n",
    "\n",
    "Try adding either `1` or `\"hello\"` again."
   ]
  },
  {
   "cell_type": "code",
   "execution_count": null,
   "metadata": {},
   "outputs": [],
   "source": []
  },
  {
   "cell_type": "markdown",
   "metadata": {},
   "source": [
    "What happens?"
   ]
  },
  {
   "cell_type": "markdown",
   "metadata": {
    "id": "1c",
    "marks": 1,
    "tags": [
     "answer"
    ]
   },
   "source": [
    "*answer:*\n"
   ]
  },
  {
   "cell_type": "markdown",
   "metadata": {},
   "source": [
    "---\n",
    "## Q2\n",
    "\n",
    "Let's try to add multiple elements to `a` in one call:"
   ]
  },
  {
   "cell_type": "code",
   "execution_count": null,
   "metadata": {},
   "outputs": [],
   "source": [
    "a.add(\"a\", \"b\")\n",
    "a"
   ]
  },
  {
   "cell_type": "markdown",
   "metadata": {},
   "source": [
    "### Q2 a\n",
    "\n",
    "It seems that the `add` function only accepts 1 argument. Try passing the elements `\"a\"` and `\"b\"` as a list to the `add` function:"
   ]
  },
  {
   "cell_type": "code",
   "execution_count": null,
   "metadata": {
    "answer_type": "output",
    "id": "2ai",
    "marks": 1,
    "tags": [
     "answer"
    ]
   },
   "outputs": [],
   "source": [
    "# answer:\n"
   ]
  },
  {
   "cell_type": "markdown",
   "metadata": {},
   "source": [
    "What is different in this error from the previous one?"
   ]
  },
  {
   "cell_type": "markdown",
   "metadata": {
    "id": "2aii",
    "marks": 1,
    "tags": [
     "answer"
    ]
   },
   "source": [
    "*answer:*\n"
   ]
  },
  {
   "cell_type": "markdown",
   "metadata": {},
   "source": [
    "### Q2 c\n",
    "\n",
    "Finally, try adding the elements to `a` by passing them as a tuple:"
   ]
  },
  {
   "cell_type": "code",
   "execution_count": null,
   "metadata": {
    "id": "2ci",
    "marks": 1,
    "tags": [
     "answer"
    ]
   },
   "outputs": [],
   "source": [
    "# answer:\n"
   ]
  },
  {
   "cell_type": "markdown",
   "metadata": {},
   "source": [
    "Why does this work?"
   ]
  },
  {
   "cell_type": "markdown",
   "metadata": {
    "id": "2cii",
    "marks": 1,
    "tags": [
     "answer"
    ]
   },
   "source": [
    "*answer:*\n"
   ]
  },
  {
   "cell_type": "markdown",
   "metadata": {},
   "source": [
    "### Important sidenote\n",
    "\n",
    "With sets you can add different types of elements because they are unordered. So Python does not need to compare the values of `1` as an integer and `\"d\"` as a string. In fact, if you try the following you will get an error:"
   ]
  },
  {
   "cell_type": "code",
   "execution_count": null,
   "metadata": {},
   "outputs": [],
   "source": [
    "\"d\" < 1"
   ]
  },
  {
   "cell_type": "markdown",
   "metadata": {},
   "source": [
    "If sets were an ordered datatype, we would have a problem adding elements which cannot be compared to each other!"
   ]
  },
  {
   "cell_type": "markdown",
   "metadata": {},
   "source": [
    "---\n",
    "## Q3\n",
    "\n",
    "Sets have another function to add elements to it: `update`."
   ]
  },
  {
   "cell_type": "markdown",
   "metadata": {},
   "source": [
    "### Q3 a\n",
    "\n",
    "Write the code to add `\"x\"` to set `a` using the `update` function."
   ]
  },
  {
   "cell_type": "code",
   "execution_count": null,
   "metadata": {
    "id": "3a",
    "marks": 1,
    "tags": [
     "answer"
    ]
   },
   "outputs": [],
   "source": [
    "# answer:\n"
   ]
  },
  {
   "cell_type": "markdown",
   "metadata": {},
   "source": [
    "### Q3 b\n",
    "\n",
    "Now, try the same function but instead pass the list `[1, 2, 3]` as a parameter to the update function."
   ]
  },
  {
   "cell_type": "code",
   "execution_count": null,
   "metadata": {
    "id": "3ai",
    "marks": 1,
    "tags": [
     "answer"
    ]
   },
   "outputs": [],
   "source": [
    "# answer:\n"
   ]
  },
  {
   "cell_type": "markdown",
   "metadata": {},
   "source": [
    "What is happening?"
   ]
  },
  {
   "cell_type": "markdown",
   "metadata": {
    "id": "3aii",
    "marks": 1,
    "tags": [
     "answer"
    ]
   },
   "source": [
    "*answer:*\n"
   ]
  },
  {
   "cell_type": "markdown",
   "metadata": {},
   "source": [
    "---\n",
    "## Q4"
   ]
  },
  {
   "cell_type": "markdown",
   "metadata": {},
   "source": [
    "### Q4 a\n",
    "\n",
    "Let's create the following list:"
   ]
  },
  {
   "cell_type": "code",
   "execution_count": null,
   "metadata": {},
   "outputs": [],
   "source": [
    "list1 = [1, 2, 20, 6, 210]"
   ]
  },
  {
   "cell_type": "markdown",
   "metadata": {},
   "source": [
    "It is possible to have a list of elements and convert it into a set by passing the list as a parameter to the `set` function. Create the a new set using `list1`."
   ]
  },
  {
   "cell_type": "code",
   "execution_count": null,
   "metadata": {
    "id": "4ai",
    "marks": 1,
    "tags": [
     "answer"
    ]
   },
   "outputs": [],
   "source": [
    "# answer:\n"
   ]
  },
  {
   "cell_type": "markdown",
   "metadata": {},
   "source": [
    "What is happening to the order in the set? "
   ]
  },
  {
   "cell_type": "markdown",
   "metadata": {
    "id": "4aii",
    "marks": 1,
    "tags": [
     "answer"
    ]
   },
   "source": [
    "*answer:*\n"
   ]
  },
  {
   "cell_type": "markdown",
   "metadata": {},
   "source": [
    "### Q4 b\n",
    "\n",
    "Initialise the a set from a list again but this time, include a string in the list:"
   ]
  },
  {
   "cell_type": "code",
   "execution_count": null,
   "metadata": {},
   "outputs": [],
   "source": [
    "list2 = [1, \"two\", 4, 3, 5, 0.3]"
   ]
  },
  {
   "cell_type": "code",
   "execution_count": null,
   "metadata": {
    "id": "4bi",
    "marks": 1,
    "tags": [
     "answer"
    ]
   },
   "outputs": [],
   "source": [
    "# answer:\n"
   ]
  },
  {
   "cell_type": "markdown",
   "metadata": {},
   "source": [
    "Now, if you initialise a set as follows:"
   ]
  },
  {
   "cell_type": "code",
   "execution_count": null,
   "metadata": {},
   "outputs": [],
   "source": [
    "set(\"two\")"
   ]
  },
  {
   "cell_type": "markdown",
   "metadata": {},
   "source": [
    "What happens differently to the way the string is handled?"
   ]
  },
  {
   "cell_type": "markdown",
   "metadata": {
    "id": "4bii",
    "marks": 1,
    "tags": [
     "answer"
    ]
   },
   "source": [
    "*answer:*\n"
   ]
  },
  {
   "cell_type": "markdown",
   "metadata": {},
   "source": [
    "---\n",
    "## Q5\n",
    "\n",
    "Try accessing a set element in a similar way as we would with a list. "
   ]
  },
  {
   "cell_type": "code",
   "execution_count": null,
   "metadata": {
    "answer_type": "output",
    "id": "5ii",
    "marks": 1,
    "tags": [
     "answer"
    ]
   },
   "outputs": [],
   "source": [
    "# answer:\n"
   ]
  },
  {
   "cell_type": "markdown",
   "metadata": {},
   "source": [
    "Why does this happen?"
   ]
  },
  {
   "cell_type": "markdown",
   "metadata": {
    "id": "5ii",
    "marks": 1,
    "tags": [
     "answer"
    ]
   },
   "source": [
    "*answer:*\n"
   ]
  },
  {
   "cell_type": "markdown",
   "metadata": {},
   "source": [
    "---\n",
    "## Q6\n",
    "\n",
    "Try the following code:"
   ]
  },
  {
   "cell_type": "code",
   "execution_count": null,
   "metadata": {},
   "outputs": [],
   "source": [
    "s2 = {1, 2, 3}\n",
    "print(1 in s2)\n",
    "print(4 in s2)"
   ]
  },
  {
   "cell_type": "markdown",
   "metadata": {},
   "source": [
    "What does the `in` keyword do? Feel free to change the values above to see what's happening."
   ]
  },
  {
   "cell_type": "markdown",
   "metadata": {
    "id": "6",
    "marks": 1,
    "tags": [
     "answer"
    ]
   },
   "source": [
    "*answer:*\n"
   ]
  },
  {
   "cell_type": "markdown",
   "metadata": {},
   "source": [
    "---\n",
    "## Q7\n",
    "\n",
    "There are some other methods that we use with sets. Try `remove` and `discard` on a set — try removing elements that are in the set and those that aren't in the set."
   ]
  },
  {
   "cell_type": "code",
   "execution_count": null,
   "metadata": {},
   "outputs": [],
   "source": []
  },
  {
   "cell_type": "code",
   "execution_count": null,
   "metadata": {},
   "outputs": [],
   "source": []
  },
  {
   "cell_type": "markdown",
   "metadata": {},
   "source": [
    "What do the methods do? And in what ways are they different?"
   ]
  },
  {
   "cell_type": "markdown",
   "metadata": {
    "id": "7",
    "marks": 2,
    "tags": [
     "answer"
    ]
   },
   "source": [
    "*answer:*\n"
   ]
  },
  {
   "cell_type": "markdown",
   "metadata": {},
   "source": [
    "---\n",
    "## Q8\n",
    "\n",
    "Try the `pop` function on a set."
   ]
  },
  {
   "cell_type": "code",
   "execution_count": null,
   "metadata": {},
   "outputs": [],
   "source": []
  },
  {
   "cell_type": "markdown",
   "metadata": {},
   "source": [
    "What does it do?"
   ]
  },
  {
   "cell_type": "markdown",
   "metadata": {
    "id": "8",
    "marks": 2,
    "tags": [
     "answer"
    ]
   },
   "source": [
    "*answer:*\n"
   ]
  },
  {
   "cell_type": "markdown",
   "metadata": {},
   "source": [
    "---\n",
    "## Appendix\n",
    "\n",
    "Try out some additional methods that are available for the Set Data Structure and familiarise yourself with them:\n",
    "\n",
    "https://docs.python.org/3.9/library/stdtypes.html#set "
   ]
  },
  {
   "cell_type": "code",
   "execution_count": null,
   "metadata": {},
   "outputs": [],
   "source": []
  }
 ],
 "metadata": {
  "celltoolbar": "Tags",
  "kernelspec": {
   "display_name": "Python 3 (ipykernel)",
   "language": "python",
   "name": "python3"
  },
  "language_info": {
   "codemirror_mode": {
    "name": "ipython",
    "version": 3
   },
   "file_extension": ".py",
   "mimetype": "text/x-python",
   "name": "python",
   "nbconvert_exporter": "python",
   "pygments_lexer": "ipython3",
   "version": "3.9.5"
  }
 },
 "nbformat": 4,
 "nbformat_minor": 4
}
