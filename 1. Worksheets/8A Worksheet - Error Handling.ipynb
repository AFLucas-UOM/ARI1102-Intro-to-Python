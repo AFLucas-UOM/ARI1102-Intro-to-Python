{
 "cells": [
  {
   "cell_type": "markdown",
   "metadata": {},
   "source": [
    "# Worksheet 8A: Error Handling\n",
    "\n",
    "In this worksheet we will learn about Error & Exception Handling in Python. You've definitely already encountered errors by this point in the course. For example:"
   ]
  },
  {
   "cell_type": "code",
   "execution_count": null,
   "metadata": {},
   "outputs": [],
   "source": [
    "print(\"Hello)"
   ]
  },
  {
   "cell_type": "markdown",
   "metadata": {},
   "source": [
    "Note how we get a `SyntaxError`, with the further description that it was an EOL (End of Line Error) while scanning the string literal. This is specific enough for us to see that we forgot a single quote at the end of the line. Understanding these various error types will help you debug your code much faster. \n",
    "\n",
    "This type of error and description is known as an Exception. Even if a statement or expression is syntactically correct, it may cause an error when an attempt is made to execute it. Errors detected during execution are called exceptions and are not unconditionally fatal.\n",
    "\n",
    "Check out the full list of [built-in exceptions](https://docs.python.org/3/library/exceptions.html). \n",
    "\n",
    "Now let's learn how to handle errors and exceptions in our own code."
   ]
  },
  {
   "cell_type": "markdown",
   "metadata": {},
   "source": [
    "---\n",
    "## `try` & `except`\n",
    "\n",
    "The basic terminology and syntax used to handle errors in Python are the `try` and `except` statements. The code which can cause an exception to occur is put in the `try` block and the handling of the exception is then implemented in the `except` block of code. The syntax follows:\n",
    "\n",
    "```python\n",
    "try:\n",
    "   ...  # code goes here\n",
    "except ExceptionI:\n",
    "   ...  # if there is ExceptionI, then execute this block\n",
    "except ExceptionII:\n",
    "   ...  # if there is ExceptionII, then execute this block\n",
    "else:\n",
    "   ...  # if there is no exception then execute this block\n",
    "```\n",
    "\n",
    "We can also just check for any exception with just using `except:`. To get a better understanding of all this let's work out an example: We will look at some code that opens and writes a file.\n",
    "\n",
    "The following code should raise an error:"
   ]
  },
  {
   "cell_type": "code",
   "execution_count": null,
   "metadata": {},
   "outputs": [],
   "source": [
    "f = open(\"test.txt\", \"r\")\n",
    "f.write(\"Test write this\")  # should raise an error"
   ]
  },
  {
   "cell_type": "markdown",
   "metadata": {},
   "source": [
    "---\n",
    "## Q1\n",
    "\n",
    "Place the code in a `try`-`except`-`else` block to capture the error and print out some meaningful information related to the error."
   ]
  },
  {
   "cell_type": "code",
   "execution_count": null,
   "metadata": {
    "id": "1",
    "marks": 2,
    "tags": [
     "answer"
    ]
   },
   "outputs": [],
   "source": [
    "# answer:\n"
   ]
  },
  {
   "cell_type": "markdown",
   "metadata": {},
   "source": [
    "Note that sometimes you might not know what error your code will raise, or maybe no matter what error is raised, you want your code to execute the same commands. \n",
    "\n",
    "Ideally, when you know the type of error that you are expecting, you specify it, e.g.:\n",
    "```python\n",
    "except IOError:\n",
    "    ...\n",
    "```\n",
    "\n",
    "But otherwise you can simply use:\n",
    "```python\n",
    "except:\n",
    "    ...\n",
    "```\n",
    "\n",
    "Notice also how the code continued to execute and did not stop. This is extremely useful when you have to account for possible input errors in your code. You can be prepared for the error and keep running code, instead of your code just breaking as we saw before."
   ]
  },
  {
   "cell_type": "markdown",
   "metadata": {},
   "source": [
    "---\n",
    "## `finally`\n",
    "\n",
    "The `finally` block of code will always be run regardless if there was an exception in the `try` code block. The syntax is:\n",
    "```python\n",
    "try:\n",
    "   ...  # code here, some of which may be skipped due to an exception\n",
    "finally:\n",
    "   ...  # this code block would always be executed\n",
    "```\n",
    "\n",
    "---\n",
    "## Q2\n",
    "\n",
    "Copy the code from **Q1** & include a `finally` statement with a print statement.\n",
    "\n",
    "After trying this out, remove the `except` block & try it again to observe the difference between `try`-`except`-`finally` & `try`-`finally`."
   ]
  },
  {
   "cell_type": "code",
   "execution_count": null,
   "metadata": {
    "id": "2",
    "marks": 2,
    "tags": [
     "answer"
    ]
   },
   "outputs": [],
   "source": [
    "# answer:\n"
   ]
  },
  {
   "cell_type": "markdown",
   "metadata": {},
   "source": [
    "---\n",
    "## Q3\n",
    "\n",
    "When asking for input from the user of a specific type, we use the `input` function & cast the result. For example:"
   ]
  },
  {
   "cell_type": "code",
   "execution_count": null,
   "metadata": {},
   "outputs": [],
   "source": [
    "value = int(input(\"Please enter an integer: \"))\n",
    "print(value)"
   ]
  },
  {
   "cell_type": "markdown",
   "metadata": {},
   "source": [
    "However, this will raise an error if we type anything that can't be converted to an `int` (if it contains a letter, for example). Reproduce this error, by retrying the above, so that you can see what type of error this raises."
   ]
  },
  {
   "cell_type": "markdown",
   "metadata": {},
   "source": [
    "### Q3 a\n",
    "\n",
    "Wrap the entire code with a `try`-`except`-`finally`. In the `except` block print `\"You didn't enter a number!\"`. In the `finally` block print the `\"Finished asking...\"`."
   ]
  },
  {
   "cell_type": "code",
   "execution_count": null,
   "metadata": {
    "id": "3a",
    "marks": 2,
    "tags": [
     "answer"
    ]
   },
   "outputs": [],
   "source": [
    "# answer:\n"
   ]
  },
  {
   "cell_type": "markdown",
   "metadata": {},
   "source": [
    "### Q3 b\n",
    "\n",
    "Copy the code from **Q3a**. Now we want to extend the functionality so that we keep asking the user for input until they enter an integer and we can print it out without raising any errors. *Hint: use `continue` and `break` so that you can continue looping if the input isn't a number or else break it off when the input is an integer.*"
   ]
  },
  {
   "cell_type": "code",
   "execution_count": null,
   "metadata": {
    "id": "3b",
    "marks": 3,
    "tags": [
     "answer"
    ]
   },
   "outputs": [],
   "source": [
    "# answer:\n"
   ]
  },
  {
   "cell_type": "markdown",
   "metadata": {},
   "source": [
    "---\n",
    "## Q4\n",
    "\n",
    "Handle the exception raised by the code below by using a `try`-`except` block, printing `\"Wrong type!\"` when an error occurs."
   ]
  },
  {
   "cell_type": "code",
   "execution_count": null,
   "metadata": {},
   "outputs": [],
   "source": [
    "for i in [\"a\", \"b\", \"c\"]:\n",
    "    print(i**2)"
   ]
  },
  {
   "cell_type": "code",
   "execution_count": null,
   "metadata": {
    "id": "4",
    "marks": 1,
    "tags": [
     "answer"
    ]
   },
   "outputs": [],
   "source": [
    "# answer:\n"
   ]
  },
  {
   "cell_type": "markdown",
   "metadata": {},
   "source": [
    "---\n",
    "## Q5\n",
    "\n",
    "Consider the following function:"
   ]
  },
  {
   "cell_type": "code",
   "execution_count": null,
   "metadata": {},
   "outputs": [],
   "source": [
    "def divide(x, y):\n",
    "    return x / y"
   ]
  },
  {
   "cell_type": "markdown",
   "metadata": {},
   "source": [
    "And the following scenarios which produce 2 different errors:"
   ]
  },
  {
   "cell_type": "code",
   "execution_count": null,
   "metadata": {
    "scrolled": true
   },
   "outputs": [],
   "source": [
    "divide(2, 0)"
   ]
  },
  {
   "cell_type": "code",
   "execution_count": null,
   "metadata": {},
   "outputs": [],
   "source": [
    "divide(2, \"a\")"
   ]
  },
  {
   "cell_type": "markdown",
   "metadata": {},
   "source": [
    "Rewrite the `divide` function to handle these errors raised by the code. You should use separate `except` blocks for each type of error, returning `-1` in case of a `ZeroDivisionError` & `-2` in case of a `TypeError`."
   ]
  },
  {
   "cell_type": "code",
   "execution_count": null,
   "metadata": {
    "id": "5",
    "marks": 2,
    "tags": [
     "answer"
    ]
   },
   "outputs": [],
   "source": [
    "# answer:\n"
   ]
  },
  {
   "cell_type": "code",
   "execution_count": null,
   "metadata": {},
   "outputs": [],
   "source": [
    "print(divide(2, 1))  # 2\n",
    "print(divide(2, 0))  # -1\n",
    "print(divide(2, \"a\"))  # -2"
   ]
  },
  {
   "cell_type": "markdown",
   "metadata": {},
   "source": [
    "---\n",
    "## Q6\n",
    "\n",
    "You can also `raise` your own custom error like so:"
   ]
  },
  {
   "cell_type": "code",
   "execution_count": null,
   "metadata": {
    "scrolled": true
   },
   "outputs": [],
   "source": [
    "raise Exception(\"Oh no!\")"
   ]
  },
  {
   "cell_type": "markdown",
   "metadata": {},
   "source": [
    "### Q6 a\n",
    "\n",
    "Of course, we typically `raise` errors only in certain conditions. Write a function `read_int`, which accepts a single parameter `x` & raises a `TypeError` with message `\"Not an int!\"` if `x` isn't an `int`. *Hint: you can use the `isinstance` function to check the type of `x`.*"
   ]
  },
  {
   "cell_type": "code",
   "execution_count": null,
   "metadata": {
    "id": "6a",
    "marks": 1,
    "tags": [
     "answer"
    ]
   },
   "outputs": [],
   "source": [
    "# answer:\n"
   ]
  },
  {
   "cell_type": "code",
   "execution_count": null,
   "metadata": {},
   "outputs": [],
   "source": [
    "read_int(1)  # should work"
   ]
  },
  {
   "cell_type": "code",
   "execution_count": null,
   "metadata": {
    "scrolled": true
   },
   "outputs": [],
   "source": [
    "read_int(\"a\")  # should raise an error"
   ]
  },
  {
   "cell_type": "markdown",
   "metadata": {},
   "source": [
    "### Q6 b\n",
    "\n",
    "In addition, you can also define your custom error types. This is especially useful if the error is encountered in more than one place, or you want some other code to handle these specific types of errors. A custom error is defined as sub-class of the `Exception` class or any of its subclasses:"
   ]
  },
  {
   "cell_type": "code",
   "execution_count": null,
   "metadata": {},
   "outputs": [],
   "source": [
    "class NotAnIntError(TypeError):\n",
    "    \n",
    "    def __init__(self):\n",
    "        super().__init__(\"Not an int!\")"
   ]
  },
  {
   "cell_type": "markdown",
   "metadata": {},
   "source": [
    "Rewrite the code in **Q6a** to raise this `NotAnIntError` instead of a `TypeError`."
   ]
  },
  {
   "cell_type": "code",
   "execution_count": null,
   "metadata": {
    "id": "6b",
    "marks": 1,
    "tags": [
     "answer"
    ]
   },
   "outputs": [],
   "source": [
    "# answer:\n"
   ]
  },
  {
   "cell_type": "code",
   "execution_count": null,
   "metadata": {},
   "outputs": [],
   "source": [
    "read_int(1)  # should work"
   ]
  },
  {
   "cell_type": "code",
   "execution_count": null,
   "metadata": {
    "scrolled": false
   },
   "outputs": [],
   "source": [
    "read_int(\"a\")  # should raise an error"
   ]
  }
 ],
 "metadata": {
  "kernelspec": {
   "display_name": "Python 3 (ipykernel)",
   "language": "python",
   "name": "python3"
  },
  "language_info": {
   "codemirror_mode": {
    "name": "ipython",
    "version": 3
   },
   "file_extension": ".py",
   "mimetype": "text/x-python",
   "name": "python",
   "nbconvert_exporter": "python",
   "pygments_lexer": "ipython3",
   "version": "3.9.5"
  }
 },
 "nbformat": 4,
 "nbformat_minor": 1
}
