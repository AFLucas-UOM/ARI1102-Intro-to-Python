{
 "cells": [
  {
   "cell_type": "markdown",
   "metadata": {},
   "source": [
    "# Worksheet 5C: OOP\n",
    "\n",
    "In this worksheet we'll be creating classes relating to vehicles bit by bit. The questions will guide you to build more functionality to the classes, so you'll be expected to copy the code from a previous question & add to it."
   ]
  },
  {
   "cell_type": "markdown",
   "metadata": {},
   "source": [
    "## Q1\n",
    "\n",
    "Create a `Vehicle` class without any variables and methods."
   ]
  },
  {
   "cell_type": "code",
   "execution_count": null,
   "metadata": {
    "id": "1",
    "marks": 1,
    "tags": [
     "answer"
    ]
   },
   "outputs": [],
   "source": [
    "# answer:\n"
   ]
  },
  {
   "cell_type": "code",
   "execution_count": null,
   "metadata": {},
   "outputs": [],
   "source": [
    "Vehicle()"
   ]
  },
  {
   "cell_type": "markdown",
   "metadata": {},
   "source": [
    "## Q2\n",
    "\n",
    "Create a `Vehicle` class with `max_speed` & `mileage` instance attributes."
   ]
  },
  {
   "cell_type": "code",
   "execution_count": null,
   "metadata": {
    "id": "2",
    "marks": 2,
    "tags": [
     "answer"
    ]
   },
   "outputs": [],
   "source": [
    "# answer:\n"
   ]
  },
  {
   "cell_type": "code",
   "execution_count": null,
   "metadata": {},
   "outputs": [],
   "source": [
    "my_vehicle = Vehicle(\"Vehicle\", 240)\n",
    "print(my_vehicle.max_speed, my_vehicle.mileage)"
   ]
  },
  {
   "cell_type": "markdown",
   "metadata": {},
   "source": [
    "## Q3\n",
    "\n",
    "Create a class `Bus` that will inherit all of the variables and methods of the `Vehicle` class, but when printing the object it should pretty-print the class attributes."
   ]
  },
  {
   "cell_type": "code",
   "execution_count": null,
   "metadata": {
    "id": "3",
    "marks": 3,
    "tags": [
     "answer"
    ]
   },
   "outputs": [],
   "source": [
    "# answer:\n"
   ]
  },
  {
   "cell_type": "markdown",
   "metadata": {},
   "source": [
    "The following code should display this output:\n",
    "```\n",
    "Bus, Speed: 180, Mileage: 12\n",
    "```"
   ]
  },
  {
   "cell_type": "code",
   "execution_count": null,
   "metadata": {},
   "outputs": [],
   "source": [
    "bus = Bus(180, 12)\n",
    "print(bus)"
   ]
  },
  {
   "cell_type": "markdown",
   "metadata": {},
   "source": [
    "## Q4\n",
    "\n",
    "Introduce the method `seating_capacity` to the `Vehicle` class that returns an integer denoting the seating capacity of the vehicle. Also add this method to the `Bus` class by **overriding** the method. `Vehicle`s should return a seating capacity of `4` while `Bus`es should return `50`."
   ]
  },
  {
   "cell_type": "code",
   "execution_count": null,
   "metadata": {
    "id": "3",
    "marks": 2,
    "tags": [
     "answer"
    ]
   },
   "outputs": [],
   "source": [
    "# answer:\n"
   ]
  },
  {
   "cell_type": "code",
   "execution_count": null,
   "metadata": {},
   "outputs": [],
   "source": [
    "vehicle = Vehicle(240, 18)\n",
    "print(f\"Vehicle seating capacity is {vehicle.seating_capacity()} passengers\")\n",
    "bus = Bus(180, 12)\n",
    "print(f\"Bus seating capacity is {bus.seating_capacity()} passengers\")"
   ]
  },
  {
   "cell_type": "markdown",
   "metadata": {},
   "source": [
    "## Q5\n",
    "\n",
    "Modify the `Vehicle` class such that all instances will have an attribute `colour` with a default value `\"white\"`.\n",
    "Create two classes that inherit everything as is from the `Vehicle` class: `Car` & `Motorcycle`."
   ]
  },
  {
   "cell_type": "code",
   "execution_count": null,
   "metadata": {
    "id": "5",
    "marks": 2,
    "tags": [
     "answer"
    ]
   },
   "outputs": [],
   "source": [
    "# answer:\n"
   ]
  },
  {
   "cell_type": "markdown",
   "metadata": {},
   "source": [
    "Test this default attribute with the following code:"
   ]
  },
  {
   "cell_type": "code",
   "execution_count": null,
   "metadata": {},
   "outputs": [],
   "source": [
    "car = Car(240, 18)\n",
    "print(\"Colour:\", car.colour, \"Speed:\", car.max_speed, \"Mileage:\", car.mileage)\n",
    "motorcycle = Motorcycle(200, 22)\n",
    "print(\"Colour:\", motorcycle.colour, \"Speed:\", motorcycle.max_speed, \"Mileage:\", motorcycle.mileage)"
   ]
  },
  {
   "cell_type": "markdown",
   "metadata": {},
   "source": [
    "### Sidenote\n",
    "\n",
    "Variables created in `__init__` are called **instance variables**. An instance variable's value is specific to a particular instance of the class. For example, in the solution, all `Vehicle` objects have a `max_speed` & `mileage`, but their values will vary depending on the instance.\n",
    "\n",
    "On the other hand, **class attributes** are attributes that have the same value for ***all*** class instances. You can define a class attribute by assigning a value to a variable name outside of `__init__`."
   ]
  },
  {
   "cell_type": "markdown",
   "metadata": {},
   "source": [
    "## Q5\n",
    "\n",
    "Create a `Bus` child class that inherits from the `Vehicle` class. Create a method `fare` which gives the total fare charge of a given vehicle. The default fare charge of any `Vehicle` is **`seating_capacity * 10`**. However, if the `Vehicle` is a `Bus` instance, we need to add an extra **10%** on full fare as a maintenance charge. So the total fare for bus instance will become the **final amount = total fare + 10% of the total fare**.\n",
    "\n",
    "*Hint: when calculating the `fare` for `Bus`, you can use `super().fare()`.*"
   ]
  },
  {
   "cell_type": "code",
   "execution_count": null,
   "metadata": {
    "id": "5",
    "marks": 5,
    "tags": [
     "answer"
    ]
   },
   "outputs": [],
   "source": [
    "# answer:\n"
   ]
  },
  {
   "cell_type": "code",
   "execution_count": null,
   "metadata": {},
   "outputs": [],
   "source": [
    "vehicle = Vehicle(240, 18)\n",
    "print(f\"Vehicle total fare is {vehicle.fare()}\")  # should give 40\n",
    "bus = Bus(180, 12)\n",
    "print(f\"Bus total fare is {bus.fare()}\")  # should give 550"
   ]
  },
  {
   "cell_type": "markdown",
   "metadata": {},
   "source": [
    "## Q6"
   ]
  },
  {
   "cell_type": "markdown",
   "metadata": {},
   "source": [
    "### Q6 a\n",
    "\n",
    "Determine which class a given `Bus` object belongs to (check the `type` of the `bus` variable)."
   ]
  },
  {
   "cell_type": "code",
   "execution_count": null,
   "metadata": {
    "answer_type": "output",
    "id": "6a",
    "marks": 1,
    "tags": [
     "answer"
    ]
   },
   "outputs": [],
   "source": [
    "# answer:\n"
   ]
  },
  {
   "cell_type": "markdown",
   "metadata": {},
   "source": [
    "### Q6 b\n",
    "\n",
    "Determine if `bus` is also an instance of the `Vehicle` class.\n",
    "\n",
    "*Hint: use the built-in function `isinstance` which takes two parameters: the object and the class of interest.*"
   ]
  },
  {
   "cell_type": "code",
   "execution_count": null,
   "metadata": {
    "id": "6b",
    "marks": 1,
    "tags": [
     "answer"
    ]
   },
   "outputs": [],
   "source": [
    "# answer:\n"
   ]
  }
 ],
 "metadata": {
  "kernelspec": {
   "display_name": "Python 3 (ipykernel)",
   "language": "python",
   "name": "python3"
  },
  "language_info": {
   "codemirror_mode": {
    "name": "ipython",
    "version": 3
   },
   "file_extension": ".py",
   "mimetype": "text/x-python",
   "name": "python",
   "nbconvert_exporter": "python",
   "pygments_lexer": "ipython3",
   "version": "3.9.5"
  }
 },
 "nbformat": 4,
 "nbformat_minor": 4
}
