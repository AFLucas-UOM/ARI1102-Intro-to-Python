{
 "cells": [
  {
   "cell_type": "markdown",
   "metadata": {
    "collapsed": true
   },
   "source": [
    "# Worksheet 3C: List Comprehensions\n",
    "\n",
    "In addition to sequence operations and list methods, Python includes a more advanced/elegant operation called a list comprehension.\n",
    "\n",
    "List comprehensions allow us to build out lists using a different notation. These are essentially a `for` loop in a single statement/line.\n",
    "\n",
    "Consider the following example:"
   ]
  },
  {
   "cell_type": "code",
   "execution_count": 1,
   "metadata": {},
   "outputs": [
    {
     "data": {
      "text/plain": [
       "['a', 'b', 'c', 'd', 'e']"
      ]
     },
     "execution_count": 1,
     "metadata": {},
     "output_type": "execute_result"
    }
   ],
   "source": [
    "my_list = []\n",
    "for letter in \"abcde\":\n",
    "    my_list.append(letter)\n",
    "        \n",
    "my_list"
   ]
  },
  {
   "cell_type": "markdown",
   "metadata": {},
   "source": [
    "This can be expressed in a more concise manner, using list comprehension:"
   ]
  },
  {
   "cell_type": "code",
   "execution_count": 2,
   "metadata": {},
   "outputs": [
    {
     "data": {
      "text/plain": [
       "['a', 'b', 'c', 'd', 'e']"
      ]
     },
     "execution_count": 2,
     "metadata": {},
     "output_type": "execute_result"
    }
   ],
   "source": [
    "my_list = [letter for letter in \"abcde\"]\n",
    "\n",
    "my_list"
   ]
  },
  {
   "cell_type": "markdown",
   "metadata": {},
   "source": [
    "---\n",
    "## Q1\n",
    "\n",
    "Use list comprehension to _square_ a list of numbers which is obtained by using `range(0, 11)`."
   ]
  },
  {
   "cell_type": "code",
   "execution_count": 18,
   "metadata": {
    "id": "1",
    "marks": 1,
    "tags": [
     "answer"
    ]
   },
   "outputs": [
    {
     "data": {
      "text/plain": [
       "[0, 1, 4, 9, 16, 25, 36, 49, 64, 81, 100]"
      ]
     },
     "execution_count": 18,
     "metadata": {},
     "output_type": "execute_result"
    }
   ],
   "source": [
    "# answer:\n",
    "list1 = [no*no for no in range(0,11)]\n",
    "list1"
   ]
  },
  {
   "cell_type": "markdown",
   "metadata": {},
   "source": [
    "---\n",
    "## Q2\n",
    "\n",
    "It is also possible to include conditionals in a list comprehension, something that can be rather useful:\n",
    "\n",
    "```python\n",
    "[variable for variable in some_list if some_condition]\n",
    "```\n",
    "    \n",
    "This basically would iterate through `some_list`, and if `some_condition` is true, then the `variable` would end up in the resultant list\n",
    "\n",
    "Extend your code from **Q1** and include a conditional that will only give the number if it is even."
   ]
  },
  {
   "cell_type": "code",
   "execution_count": 7,
   "metadata": {
    "id": "2",
    "marks": 1,
    "tags": [
     "answer"
    ]
   },
   "outputs": [
    {
     "data": {
      "text/plain": [
       "[0, 4, 16, 36, 64, 100]"
      ]
     },
     "execution_count": 7,
     "metadata": {},
     "output_type": "execute_result"
    }
   ],
   "source": [
    "# answer:\n",
    "list1 = [no*no for no in range(0,11) if no*no%2==0]\n",
    "list1"
   ]
  },
  {
   "cell_type": "markdown",
   "metadata": {},
   "source": [
    "---\n",
    "## Q3\n",
    "\n",
    "Use list comprehension which takes `\"This is Some SAMple STriNG\"` and will output only the characters that are in upper case. *Hint: you can use the function `isupper`.*"
   ]
  },
  {
   "cell_type": "code",
   "execution_count": 13,
   "metadata": {
    "id": "3",
    "marks": 1,
    "tags": [
     "answer"
    ]
   },
   "outputs": [
    {
     "data": {
      "text/plain": [
       "['T', 'S', 'S', 'A', 'M', 'S', 'T', 'N', 'G']"
      ]
     },
     "execution_count": 13,
     "metadata": {},
     "output_type": "execute_result"
    }
   ],
   "source": [
    "# answer:\n",
    "list2 = [letter for letter in \"This is Some SAMple STriNG\" if letter.isupper()]\n",
    "list2"
   ]
  },
  {
   "cell_type": "markdown",
   "metadata": {},
   "source": [
    "---\n",
    "## Q4\n",
    "\n",
    "Given this list:"
   ]
  },
  {
   "cell_type": "code",
   "execution_count": 14,
   "metadata": {},
   "outputs": [],
   "source": [
    "celsius = [0, 10, 20.1, 34.5]"
   ]
  },
  {
   "cell_type": "markdown",
   "metadata": {},
   "source": [
    "And the formula to convert Celsius to Fahrenheit:\n",
    "```python\n",
    "((9 / 5) * temperature + 32)\n",
    "```\n",
    "\n",
    "Write a list comprehension that will convert the celsius list."
   ]
  },
  {
   "cell_type": "code",
   "execution_count": 17,
   "metadata": {
    "id": "4",
    "marks": 1,
    "tags": [
     "answer"
    ]
   },
   "outputs": [
    {
     "data": {
      "text/plain": [
       "[32.0, 50.0, 68.18, 94.1]"
      ]
     },
     "execution_count": 17,
     "metadata": {},
     "output_type": "execute_result"
    }
   ],
   "source": [
    "# answer:\n",
    "list3 = [((9 / 5) * celsius+ 32) for celsius in celsius ]\n",
    "list3"
   ]
  },
  {
   "cell_type": "markdown",
   "metadata": {},
   "source": [
    "---\n",
    "## Q5\n",
    "\n",
    "So far we saw that list comprehensions take the following format:\n",
    "```python\n",
    "[variable/function for variable in some_list]\n",
    "[variable/function for variable in some_list if some_condition]\n",
    "```\n",
    "\n",
    "Since the output of list comprehension is a list, it is possible to have nested list comprehension, like so:\n",
    "```python\n",
    "[variable/function for variable in [variable/function for variable in some_list]]\n",
    "[variable/function for variable in [variable/function for variable in some_list if some_condition] if some_condition]\n",
    "```\n",
    "\n",
    "Use the list comprehension from **Q1** and square AGAIN the output of the first list comprehension through a nested one. "
   ]
  },
  {
   "cell_type": "code",
   "execution_count": 5,
   "metadata": {
    "id": "5",
    "marks": 1,
    "tags": []
   },
   "outputs": [
    {
     "data": {
      "text/plain": [
       "[0, 1, 16, 81, 256, 625, 1296, 2401, 4096, 6561, 10000]"
      ]
     },
     "execution_count": 5,
     "metadata": {},
     "output_type": "execute_result"
    }
   ],
   "source": [
    "# answer:\n",
    "list4 = [no*no for no in [no*no for no in range(0,11)]]\n",
    "list4"
   ]
  }
 ],
 "metadata": {
  "kernelspec": {
   "display_name": "Python 3.10.6 ('base')",
   "language": "python",
   "name": "python3"
  },
  "language_info": {
   "codemirror_mode": {
    "name": "ipython",
    "version": 3
   },
   "file_extension": ".py",
   "mimetype": "text/x-python",
   "name": "python",
   "nbconvert_exporter": "python",
   "pygments_lexer": "ipython3",
   "version": "3.10.6"
  },
  "vscode": {
   "interpreter": {
    "hash": "70993373fce430daa4b9e58133f64fa7edb5d7eb76386b3e458b705645ab90c3"
   }
  }
 },
 "nbformat": 4,
 "nbformat_minor": 1
}
