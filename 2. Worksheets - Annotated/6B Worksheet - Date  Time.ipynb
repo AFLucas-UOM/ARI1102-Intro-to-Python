{
 "cells": [
  {
   "cell_type": "markdown",
   "metadata": {},
   "source": [
    "# Worksheet 6B: `datetime` module\n",
    "\n",
    "Python has the datetime module to help deal with timestamps in your code. Time values are represented with the time class. Times have attributes for hour, minute, second, and microsecond. They can also include time zone information. The arguments to initialize a time instance are optional, but the default of 0 is unlikely to be what you want."
   ]
  },
  {
   "cell_type": "markdown",
   "metadata": {},
   "source": [
    "---\n",
    "## `datetime.time`\n",
    "\n",
    "Let's take a look at how we can extract time information from the datetime module. We can create a timestamp by specifying `datetime.time(hour, minute, second, microsecond)`"
   ]
  },
  {
   "cell_type": "code",
   "execution_count": 2,
   "metadata": {},
   "outputs": [
    {
     "name": "stdout",
     "output_type": "stream",
     "text": [
      "04:20:01\n",
      "hour: 4\n",
      "minute: 20\n",
      "second: 1\n",
      "microsecond: 0\n",
      "tzinfo: None\n"
     ]
    }
   ],
   "source": [
    "import datetime\n",
    "\n",
    "t = datetime.time(4, 20, 1)\n",
    "\n",
    "# Let's show the different components\n",
    "print(t)\n",
    "print(\"hour:\", t.hour)\n",
    "print(\"minute:\", t.minute)\n",
    "print(\"second:\", t.second)\n",
    "print(\"microsecond:\", t.microsecond)\n",
    "print(\"tzinfo:\", t.tzinfo)"
   ]
  },
  {
   "cell_type": "markdown",
   "metadata": {},
   "source": [
    "Note: A time instance only holds values of time, and not a date associated with the time. \n",
    "\n",
    "We can also check the min and max values a time of day can have in the module:"
   ]
  },
  {
   "cell_type": "code",
   "execution_count": 3,
   "metadata": {},
   "outputs": [
    {
     "name": "stdout",
     "output_type": "stream",
     "text": [
      "Earliest: 00:00:00\n",
      "Latest: 23:59:59.999999\n",
      "Resolution: 0:00:00.000001\n"
     ]
    }
   ],
   "source": [
    "print(\"Earliest:\", datetime.time.min)\n",
    "print(\"Latest:\", datetime.time.max)\n",
    "print(\"Resolution:\", datetime.time.resolution)"
   ]
  },
  {
   "cell_type": "markdown",
   "metadata": {},
   "source": [
    "The min and max class attributes reflect the valid range of times in a single day."
   ]
  },
  {
   "cell_type": "markdown",
   "metadata": {},
   "source": [
    "---\n",
    "## `datetime.date`\n",
    "\n",
    "`datetime` (as you might suspect) also allows us to work with date timestamps. Calendar date values are represented with the date class. Instances have attributes for year, month, and day. It is easy to create a date representing today's date using the `today()` class method.\n",
    "\n",
    "Let's see some examples:"
   ]
  },
  {
   "cell_type": "code",
   "execution_count": 4,
   "metadata": {},
   "outputs": [
    {
     "name": "stdout",
     "output_type": "stream",
     "text": [
      "2022-11-29\n",
      "\n",
      "ctime: Tue Nov 29 00:00:00 2022\n",
      "\n",
      "tuple: time.struct_time(tm_year=2022, tm_mon=11, tm_mday=29, tm_hour=0, tm_min=0, tm_sec=0, tm_wday=1, tm_yday=333, tm_isdst=-1)\n",
      "\n",
      "ordinal: 738488\n",
      "\n",
      "Year: 2022\n",
      "\n",
      "Month: 11\n",
      "\n",
      "Day: 29\n"
     ]
    }
   ],
   "source": [
    "today = datetime.date.today()\n",
    "print(today)\n",
    "print(\"\\nctime:\", today.ctime())\n",
    "print(\"\\ntuple:\", today.timetuple())\n",
    "print(\"\\nordinal:\", today.toordinal())\n",
    "print(\"\\nYear:\", today.year)\n",
    "print(\"\\nMonth:\", today.month)\n",
    "print(\"\\nDay:\", today.day)"
   ]
  },
  {
   "cell_type": "markdown",
   "metadata": {},
   "source": [
    "As with time, the range of date values supported can be determined using the min and max attributes."
   ]
  },
  {
   "cell_type": "code",
   "execution_count": 5,
   "metadata": {},
   "outputs": [
    {
     "name": "stdout",
     "output_type": "stream",
     "text": [
      "Earliest: 0001-01-01\n",
      "Latest: 9999-12-31\n",
      "Resolution: 1 day, 0:00:00\n"
     ]
    }
   ],
   "source": [
    "print(\"Earliest:\", datetime.date.min)\n",
    "print(\"Latest:\", datetime.date.max)\n",
    "print(\"Resolution:\", datetime.date.resolution)"
   ]
  },
  {
   "cell_type": "markdown",
   "metadata": {},
   "source": [
    "Another way to create new date instances uses the replace() method of an existing date. For example, you can change the year, leaving the day and month alone."
   ]
  },
  {
   "cell_type": "code",
   "execution_count": 6,
   "metadata": {},
   "outputs": [
    {
     "name": "stdout",
     "output_type": "stream",
     "text": [
      "d1: 2019-05-02\n",
      "d2: 1995-05-02\n"
     ]
    }
   ],
   "source": [
    "d1 = datetime.date(2019, 5, 2)\n",
    "print(\"d1:\", d1)\n",
    "\n",
    "d2 = d1.replace(year=1995)\n",
    "print(\"d2:\", d2)"
   ]
  },
  {
   "cell_type": "markdown",
   "metadata": {},
   "source": [
    "---\n",
    "## `datetime.datetime`\n",
    "\n",
    "There's also `datetime.datetime` objects, which combine the date & time aspects of `datetime.date` & `datetime.time` into a single component. So, rather than keep track of two separate date & time objects:"
   ]
  },
  {
   "cell_type": "code",
   "execution_count": 7,
   "metadata": {},
   "outputs": [],
   "source": [
    "t = datetime.time(1, 55, 1)\n",
    "d = datetime.date(2013, 12, 10)"
   ]
  },
  {
   "cell_type": "markdown",
   "metadata": {},
   "source": [
    "We could have a singular object caputring both sets information:"
   ]
  },
  {
   "cell_type": "code",
   "execution_count": 8,
   "metadata": {},
   "outputs": [
    {
     "data": {
      "text/plain": [
       "datetime.datetime(2013, 12, 10, 1, 55, 1)"
      ]
     },
     "execution_count": 8,
     "metadata": {},
     "output_type": "execute_result"
    }
   ],
   "source": [
    "dt = datetime.datetime(2013, 12, 10, 1, 55, 1)\n",
    "dt"
   ]
  },
  {
   "cell_type": "markdown",
   "metadata": {},
   "source": [
    "---\n",
    "## Q1\n",
    "\n",
    "You can create `datetime.datetime` objects from `datetime.date` & `datetime.time` using the `datetime.datetime.combine` class method. Construct `dt` from `d` & `t`."
   ]
  },
  {
   "cell_type": "code",
   "execution_count": 14,
   "metadata": {
    "id": "1",
    "marks": 1,
    "tags": [
     "answer"
    ]
   },
   "outputs": [
    {
     "data": {
      "text/plain": [
       "datetime.datetime(2013, 12, 10, 1, 55, 1)"
      ]
     },
     "execution_count": 14,
     "metadata": {},
     "output_type": "execute_result"
    }
   ],
   "source": [
    "# answer:\n",
    "datetime.datetime.combine(d,t)"
   ]
  },
  {
   "cell_type": "markdown",
   "metadata": {},
   "source": [
    "---\n",
    "## Q2"
   ]
  },
  {
   "cell_type": "markdown",
   "metadata": {},
   "source": [
    "### Q2 a\n",
    "\n",
    "You can subtract 2 dates. Try subtracting `today` & `dt`"
   ]
  },
  {
   "cell_type": "code",
   "execution_count": 9,
   "metadata": {
    "id": "2ai",
    "marks": 1,
    "tags": [
     "answer"
    ]
   },
   "outputs": [
    {
     "data": {
      "text/plain": [
       "datetime.timedelta(days=3276, seconds=55607, microseconds=748296)"
      ]
     },
     "execution_count": 9,
     "metadata": {},
     "output_type": "execute_result"
    }
   ],
   "source": [
    "# answer:\n",
    "today = datetime.datetime.today()\n",
    "today\n",
    "dt = datetime.datetime(2013, 12, 10, 1, 55, 1)\n",
    "dt\n",
    "sub_date = today - dt\n",
    "sub_date\n"
   ]
  },
  {
   "cell_type": "markdown",
   "metadata": {},
   "source": [
    "Explain the result you get."
   ]
  },
  {
   "cell_type": "markdown",
   "metadata": {
    "id": "2aii",
    "marks": 1,
    "tags": [
     "answer"
    ]
   },
   "source": [
    "*answer:*\n",
    "result is the number of days in between the current date and dt (10/12/2013)\n"
   ]
  },
  {
   "cell_type": "markdown",
   "metadata": {},
   "source": [
    "### Q2 b\n",
    "\n",
    "Now, try adding the 2 dates:"
   ]
  },
  {
   "cell_type": "code",
   "execution_count": 21,
   "metadata": {
    "answer_type": "output",
    "id": "2bi",
    "marks": 1,
    "tags": [
     "answer"
    ]
   },
   "outputs": [
    {
     "ename": "TypeError",
     "evalue": "unsupported operand type(s) for +: 'datetime.date' and 'datetime.datetime'",
     "output_type": "error",
     "traceback": [
      "\u001b[0;31m---------------------------------------------------------------------------\u001b[0m",
      "\u001b[0;31mTypeError\u001b[0m                                 Traceback (most recent call last)",
      "Cell \u001b[0;32mIn [21], line 6\u001b[0m\n\u001b[1;32m      4\u001b[0m dt \u001b[39m=\u001b[39m datetime\u001b[39m.\u001b[39mdatetime(\u001b[39m2013\u001b[39m, \u001b[39m12\u001b[39m, \u001b[39m10\u001b[39m, \u001b[39m1\u001b[39m, \u001b[39m55\u001b[39m, \u001b[39m1\u001b[39m)\n\u001b[1;32m      5\u001b[0m dt\n\u001b[0;32m----> 6\u001b[0m add_date \u001b[39m=\u001b[39m today \u001b[39m+\u001b[39;49m dt\n\u001b[1;32m      7\u001b[0m add_date\n",
      "\u001b[0;31mTypeError\u001b[0m: unsupported operand type(s) for +: 'datetime.date' and 'datetime.datetime'"
     ]
    }
   ],
   "source": [
    "# answer:\n",
    "today = datetime.date.today()\n",
    "today\n",
    "dt = datetime.datetime(2013, 12, 10, 1, 55, 1)\n",
    "dt\n",
    "add_date = today + dt\n",
    "add_date"
   ]
  },
  {
   "cell_type": "markdown",
   "metadata": {},
   "source": [
    "Why does this happen?"
   ]
  },
  {
   "cell_type": "markdown",
   "metadata": {
    "id": "2bii",
    "marks": 1,
    "tags": [
     "answer"
    ]
   },
   "source": [
    "*answer:*\n",
    "Addition does not compute in this case, as one is trying to add datetime.date (today) and datetime.datetime (dt). Since they are of different types it mathematical addition doesn't occur "
   ]
  },
  {
   "cell_type": "markdown",
   "metadata": {},
   "source": [
    "---\n",
    "## Q3\n",
    "\n",
    "Using a `datetime.timedelta` object, provide the code to get tomorrow's date. *Hint: you can use `datetime.date.today().`*"
   ]
  },
  {
   "cell_type": "code",
   "execution_count": 10,
   "metadata": {
    "id": "3",
    "marks": 1,
    "tags": [
     "answer"
    ]
   },
   "outputs": [
    {
     "data": {
      "text/plain": [
       "datetime.date(2022, 11, 28)"
      ]
     },
     "execution_count": 10,
     "metadata": {},
     "output_type": "execute_result"
    }
   ],
   "source": [
    "# answer:\n",
    "today = datetime.date.today()\n",
    "tomorrow = today + datetime.timedelta(1)\n",
    "tomorrow\n"
   ]
  },
  {
   "cell_type": "markdown",
   "metadata": {},
   "source": [
    "---\n",
    "## Q4\n",
    "\n",
    "You can also create `datetime.datetime` objects from strings, using the `datetime.datetime.strptime` class method. Provide the code to parse `datetime_string`."
   ]
  },
  {
   "cell_type": "code",
   "execution_count": 29,
   "metadata": {},
   "outputs": [],
   "source": [
    "datetime_string = \"30/1/2020 5:00pm\""
   ]
  },
  {
   "cell_type": "code",
   "execution_count": 34,
   "metadata": {
    "id": "4",
    "marks": 1,
    "scrolled": false,
    "tags": [
     "answer"
    ]
   },
   "outputs": [
    {
     "name": "stdout",
     "output_type": "stream",
     "text": [
      "2020-01-30 05:00:00\n"
     ]
    }
   ],
   "source": [
    "# answer:\n",
    "from datetime import datetime\n",
    "\n",
    "dt_2str = datetime.strptime(datetime_string, \"%d/%m/%Y %H:%M%p\")\n",
    "print(dt_2str)"
   ]
  },
  {
   "cell_type": "markdown",
   "metadata": {},
   "source": [
    "---\n",
    "## Appendix\n",
    "\n",
    "This notebook provided an overview of the `datetime` module. There are other methods as well as other types which we didn't cover here. You are encouraged to consult the documentation & try these out: https://docs.python.org/3/library/datetime.html"
   ]
  },
  {
   "cell_type": "code",
   "execution_count": null,
   "metadata": {},
   "outputs": [],
   "source": []
  }
 ],
 "metadata": {
  "kernelspec": {
   "display_name": "Python 3.9.6 64-bit",
   "language": "python",
   "name": "python3"
  },
  "language_info": {
   "codemirror_mode": {
    "name": "ipython",
    "version": 3
   },
   "file_extension": ".py",
   "mimetype": "text/x-python",
   "name": "python",
   "nbconvert_exporter": "python",
   "pygments_lexer": "ipython3",
   "version": "3.9.6"
  },
  "vscode": {
   "interpreter": {
    "hash": "31f2aee4e71d21fbe5cf8b01ff0e069b9275f58929596ceb00d14d90e3e16cd6"
   }
  }
 },
 "nbformat": 4,
 "nbformat_minor": 1
}
