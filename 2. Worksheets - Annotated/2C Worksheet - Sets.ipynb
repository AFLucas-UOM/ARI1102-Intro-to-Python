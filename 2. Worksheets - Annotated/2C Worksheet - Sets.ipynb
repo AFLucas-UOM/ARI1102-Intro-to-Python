{
 "cells": [
  {
   "cell_type": "markdown",
   "metadata": {},
   "source": [
    "# Worksheet 2C: Sets"
   ]
  },
  {
   "cell_type": "markdown",
   "metadata": {},
   "source": [
    "---\n",
    "## Q1\n",
    "\n",
    "Sets are an unordered collection of unique elements. We can construct them by using the `set` function:"
   ]
  },
  {
   "cell_type": "code",
   "execution_count": 8,
   "metadata": {},
   "outputs": [
    {
     "data": {
      "text/plain": [
       "set()"
      ]
     },
     "execution_count": 8,
     "metadata": {},
     "output_type": "execute_result"
    }
   ],
   "source": [
    "a = set()\n",
    "a"
   ]
  },
  {
   "cell_type": "markdown",
   "metadata": {},
   "source": [
    "### Q1 a\n",
    "\n",
    "Check the type of `a`:"
   ]
  },
  {
   "cell_type": "code",
   "execution_count": 9,
   "metadata": {
    "id": "1a",
    "marks": 1,
    "tags": [
     "answer"
    ]
   },
   "outputs": [
    {
     "name": "stdout",
     "output_type": "stream",
     "text": [
      "<class 'set'>\n"
     ]
    }
   ],
   "source": [
    "# answer:\n",
    "print(type(a))"
   ]
  },
  {
   "cell_type": "markdown",
   "metadata": {},
   "source": [
    "### Q1 b\n",
    "\n",
    "To add elements to a set, we use the method `add` and pass on the element as a parameter.\n",
    "\n",
    "Add the integer `1` to `a`. Then add the string `\"hello\"`:"
   ]
  },
  {
   "cell_type": "code",
   "execution_count": 10,
   "metadata": {
    "id": "1b",
    "marks": 1,
    "tags": [
     "answer"
    ]
   },
   "outputs": [
    {
     "data": {
      "text/plain": [
       "{1, 'hello'}"
      ]
     },
     "execution_count": 10,
     "metadata": {},
     "output_type": "execute_result"
    }
   ],
   "source": [
    "# answer:\n",
    "a.add(1)\n",
    "a.add(\"hello\")\n",
    "a"
   ]
  },
  {
   "cell_type": "markdown",
   "metadata": {},
   "source": [
    "### Q1 c\n",
    "\n",
    "Try adding either `1` or `\"hello\"` again."
   ]
  },
  {
   "cell_type": "code",
   "execution_count": 11,
   "metadata": {},
   "outputs": [
    {
     "data": {
      "text/plain": [
       "{1, 'hello'}"
      ]
     },
     "execution_count": 11,
     "metadata": {},
     "output_type": "execute_result"
    }
   ],
   "source": [
    "a.add(\"hello\")\n",
    "a"
   ]
  },
  {
   "cell_type": "markdown",
   "metadata": {},
   "source": [
    "What happens?"
   ]
  },
  {
   "cell_type": "markdown",
   "metadata": {
    "id": "1c",
    "marks": 1,
    "tags": [
     "answer"
    ]
   },
   "source": [
    "*answer:*\n"
   ]
  },
  {
   "cell_type": "markdown",
   "metadata": {},
   "source": [
    "Since the sting \"hello\" already exist in the set, the set remains the same.\n",
    "This is because sets don't allow duplication "
   ]
  },
  {
   "cell_type": "markdown",
   "metadata": {},
   "source": [
    "---\n",
    "## Q2\n",
    "\n",
    "Let's try to add multiple elements to `a` in one call:"
   ]
  },
  {
   "cell_type": "code",
   "execution_count": 12,
   "metadata": {},
   "outputs": [
    {
     "ename": "TypeError",
     "evalue": "set.add() takes exactly one argument (2 given)",
     "output_type": "error",
     "traceback": [
      "\u001b[0;31m---------------------------------------------------------------------------\u001b[0m",
      "\u001b[0;31mTypeError\u001b[0m                                 Traceback (most recent call last)",
      "Cell \u001b[0;32mIn [12], line 1\u001b[0m\n\u001b[0;32m----> 1\u001b[0m a\u001b[39m.\u001b[39;49madd(\u001b[39m\"\u001b[39;49m\u001b[39ma\u001b[39;49m\u001b[39m\"\u001b[39;49m, \u001b[39m\"\u001b[39;49m\u001b[39mb\u001b[39;49m\u001b[39m\"\u001b[39;49m)\n\u001b[1;32m      2\u001b[0m a\n",
      "\u001b[0;31mTypeError\u001b[0m: set.add() takes exactly one argument (2 given)"
     ]
    }
   ],
   "source": [
    "a.add(\"a\", \"b\")\n",
    "a"
   ]
  },
  {
   "cell_type": "markdown",
   "metadata": {},
   "source": [
    "### Q2 a\n",
    "\n",
    "It seems that the `add` function only accepts 1 argument. Try passing the elements `\"a\"` and `\"b\"` as a list to the `add` function:"
   ]
  },
  {
   "cell_type": "code",
   "execution_count": 13,
   "metadata": {
    "answer_type": "output",
    "id": "2ai",
    "marks": 1,
    "tags": [
     "answer"
    ]
   },
   "outputs": [
    {
     "ename": "TypeError",
     "evalue": "unhashable type: 'list'",
     "output_type": "error",
     "traceback": [
      "\u001b[0;31m---------------------------------------------------------------------------\u001b[0m",
      "\u001b[0;31mTypeError\u001b[0m                                 Traceback (most recent call last)",
      "Cell \u001b[0;32mIn [13], line 2\u001b[0m\n\u001b[1;32m      1\u001b[0m \u001b[39m# answer:\u001b[39;00m\n\u001b[0;32m----> 2\u001b[0m a\u001b[39m.\u001b[39;49madd([\u001b[39m\"\u001b[39;49m\u001b[39ma\u001b[39;49m\u001b[39m\"\u001b[39;49m,\u001b[39m\"\u001b[39;49m\u001b[39mb\u001b[39;49m\u001b[39m\"\u001b[39;49m])\n",
      "\u001b[0;31mTypeError\u001b[0m: unhashable type: 'list'"
     ]
    }
   ],
   "source": [
    "# answer:\n",
    "a.add([\"a\",\"b\"])"
   ]
  },
  {
   "cell_type": "markdown",
   "metadata": {},
   "source": [
    "What is different in this error from the previous one?"
   ]
  },
  {
   "cell_type": "markdown",
   "metadata": {
    "id": "2aii",
    "marks": 1,
    "tags": [
     "answer"
    ]
   },
   "source": [
    "*answer:*\n"
   ]
  },
  {
   "cell_type": "markdown",
   "metadata": {},
   "source": [
    "The first error occurs, as 2 arguments instead of 1  are present. however the add function only allows for 1 argument at a time\n",
    "List are an unhashable data type (doesn't have a hash argument), resulting in the second error"
   ]
  },
  {
   "cell_type": "markdown",
   "metadata": {},
   "source": [
    "### Q2 c\n",
    "\n",
    "Finally, try adding the elements to `a` by passing them as a tuple:"
   ]
  },
  {
   "cell_type": "code",
   "execution_count": 16,
   "metadata": {
    "id": "2ci",
    "marks": 1,
    "tags": [
     "answer"
    ]
   },
   "outputs": [
    {
     "data": {
      "text/plain": [
       "{('a', 'b'), 1, 'a', 'hello'}"
      ]
     },
     "execution_count": 16,
     "metadata": {},
     "output_type": "execute_result"
    }
   ],
   "source": [
    "# answer:\n",
    "a.add((\"a\",\"b\"))\n",
    "a"
   ]
  },
  {
   "cell_type": "markdown",
   "metadata": {},
   "source": [
    "Why does this work?"
   ]
  },
  {
   "cell_type": "markdown",
   "metadata": {
    "id": "2cii",
    "marks": 1,
    "tags": [
     "answer"
    ]
   },
   "source": [
    "*answer:*\n"
   ]
  },
  {
   "cell_type": "markdown",
   "metadata": {},
   "source": [
    "Tuples are considered to be 1 element and are hashabl, therefore they can be added to sets"
   ]
  },
  {
   "cell_type": "markdown",
   "metadata": {},
   "source": [
    "### Important sidenote\n",
    "\n",
    "With sets you can add different types of elements because they are unordered. So Python does not need to compare the values of `1` as an integer and `\"d\"` as a string. In fact, if you try the following you will get an error:"
   ]
  },
  {
   "cell_type": "code",
   "execution_count": 18,
   "metadata": {},
   "outputs": [
    {
     "ename": "TypeError",
     "evalue": "'<' not supported between instances of 'str' and 'int'",
     "output_type": "error",
     "traceback": [
      "\u001b[0;31m---------------------------------------------------------------------------\u001b[0m",
      "\u001b[0;31mTypeError\u001b[0m                                 Traceback (most recent call last)",
      "Cell \u001b[0;32mIn [18], line 1\u001b[0m\n\u001b[0;32m----> 1\u001b[0m \u001b[39m\"\u001b[39;49m\u001b[39md\u001b[39;49m\u001b[39m\"\u001b[39;49m \u001b[39m<\u001b[39;49m \u001b[39m1\u001b[39;49m\n",
      "\u001b[0;31mTypeError\u001b[0m: '<' not supported between instances of 'str' and 'int'"
     ]
    }
   ],
   "source": [
    "\"d\" < 1"
   ]
  },
  {
   "cell_type": "markdown",
   "metadata": {},
   "source": [
    "If sets were an ordered datatype, we would have a problem adding elements which cannot be compared to each other!"
   ]
  },
  {
   "cell_type": "markdown",
   "metadata": {},
   "source": [
    "---\n",
    "## Q3\n",
    "\n",
    "Sets have another function to add elements to it: `update`."
   ]
  },
  {
   "cell_type": "markdown",
   "metadata": {},
   "source": [
    "### Q3 a\n",
    "\n",
    "Write the code to add `\"x\"` to set `a` using the `update` function."
   ]
  },
  {
   "cell_type": "code",
   "execution_count": 19,
   "metadata": {
    "id": "3a",
    "marks": 1,
    "tags": [
     "answer"
    ]
   },
   "outputs": [
    {
     "data": {
      "text/plain": [
       "{('a', 'b'), 1, 'a', 'hello', 'x'}"
      ]
     },
     "execution_count": 19,
     "metadata": {},
     "output_type": "execute_result"
    }
   ],
   "source": [
    "# answer:\n",
    "a.update(\"x\")\n",
    "a"
   ]
  },
  {
   "cell_type": "markdown",
   "metadata": {},
   "source": [
    "### Q3 b\n",
    "\n",
    "Now, try the same function but instead pass the list `[1, 2, 3]` as a parameter to the update function."
   ]
  },
  {
   "cell_type": "code",
   "execution_count": 20,
   "metadata": {
    "id": "3ai",
    "marks": 1,
    "tags": [
     "answer"
    ]
   },
   "outputs": [
    {
     "data": {
      "text/plain": [
       "{('a', 'b'), 1, 2, 3, 'a', 'hello', 'x'}"
      ]
     },
     "execution_count": 20,
     "metadata": {},
     "output_type": "execute_result"
    }
   ],
   "source": [
    "# answer:\n",
    "a.update([1,2,3])\n",
    "a"
   ]
  },
  {
   "cell_type": "markdown",
   "metadata": {},
   "source": [
    "What is happening?"
   ]
  },
  {
   "cell_type": "markdown",
   "metadata": {
    "id": "3aii",
    "marks": 1,
    "tags": [
     "answer"
    ]
   },
   "source": [
    "*answer:*\n",
    "Update function converts the list into a set, and updates it into the original set a"
   ]
  },
  {
   "cell_type": "markdown",
   "metadata": {},
   "source": [
    "---\n",
    "## Q4"
   ]
  },
  {
   "cell_type": "markdown",
   "metadata": {},
   "source": [
    "### Q4 a\n",
    "\n",
    "Let's create the following list:"
   ]
  },
  {
   "cell_type": "code",
   "execution_count": 21,
   "metadata": {},
   "outputs": [],
   "source": [
    "list1 = [1, 2, 20, 6, 210]"
   ]
  },
  {
   "cell_type": "markdown",
   "metadata": {},
   "source": [
    "It is possible to have a list of elements and convert it into a set by passing the list as a parameter to the `set` function. Create the a new set using `list1`."
   ]
  },
  {
   "cell_type": "code",
   "execution_count": 23,
   "metadata": {
    "id": "4ai",
    "marks": 1,
    "tags": [
     "answer"
    ]
   },
   "outputs": [
    {
     "data": {
      "text/plain": [
       "{1, 2, 6, 20, 210}"
      ]
     },
     "execution_count": 23,
     "metadata": {},
     "output_type": "execute_result"
    }
   ],
   "source": [
    "# answer:\n",
    "b = set(list1)\n",
    "b"
   ]
  },
  {
   "cell_type": "markdown",
   "metadata": {},
   "source": [
    "What is happening to the order in the set? "
   ]
  },
  {
   "cell_type": "markdown",
   "metadata": {
    "id": "4aii",
    "marks": 1,
    "tags": [
     "answer"
    ]
   },
   "source": [
    "*answer:*\n",
    "Order of numbers is changed to ascending order"
   ]
  },
  {
   "cell_type": "markdown",
   "metadata": {},
   "source": [
    "### Q4 b\n",
    "\n",
    "Initialise the a set from a list again but this time, include a string in the list:"
   ]
  },
  {
   "cell_type": "code",
   "execution_count": 25,
   "metadata": {},
   "outputs": [],
   "source": [
    "list2 = [1, \"two\", 4, 3, 5, 0.3]"
   ]
  },
  {
   "cell_type": "code",
   "execution_count": 27,
   "metadata": {
    "id": "4bi",
    "marks": 1,
    "tags": [
     "answer"
    ]
   },
   "outputs": [
    {
     "data": {
      "text/plain": [
       "{0.3, 1, 3, 4, 5, 'two'}"
      ]
     },
     "execution_count": 27,
     "metadata": {},
     "output_type": "execute_result"
    }
   ],
   "source": [
    "# answer:\n",
    "c = set(list2)\n",
    "c"
   ]
  },
  {
   "cell_type": "markdown",
   "metadata": {},
   "source": [
    "Now, if you initialise a set as follows:"
   ]
  },
  {
   "cell_type": "code",
   "execution_count": 28,
   "metadata": {},
   "outputs": [
    {
     "data": {
      "text/plain": [
       "{'o', 't', 'w'}"
      ]
     },
     "execution_count": 28,
     "metadata": {},
     "output_type": "execute_result"
    }
   ],
   "source": [
    "set(\"two\")"
   ]
  },
  {
   "cell_type": "markdown",
   "metadata": {},
   "source": [
    "What happens differently to the way the string is handled?"
   ]
  },
  {
   "cell_type": "markdown",
   "metadata": {
    "id": "4bii",
    "marks": 1,
    "tags": [
     "answer"
    ]
   },
   "source": [
    "*answer:*\n",
    "The string gets separated into characters, and the set is outputted alphabetically"
   ]
  },
  {
   "cell_type": "markdown",
   "metadata": {},
   "source": [
    "---\n",
    "## Q5\n",
    "\n",
    "Try accessing a set element in a similar way as we would with a list. "
   ]
  },
  {
   "cell_type": "code",
   "execution_count": 35,
   "metadata": {
    "answer_type": "output",
    "id": "5ii",
    "marks": 1,
    "tags": [
     "answer"
    ]
   },
   "outputs": [
    {
     "ename": "TypeError",
     "evalue": "'set' object is not subscriptable",
     "output_type": "error",
     "traceback": [
      "\u001b[0;31m---------------------------------------------------------------------------\u001b[0m",
      "\u001b[0;31mTypeError\u001b[0m                                 Traceback (most recent call last)",
      "Cell \u001b[0;32mIn [35], line 2\u001b[0m\n\u001b[1;32m      1\u001b[0m \u001b[39m# answer:\u001b[39;00m\n\u001b[0;32m----> 2\u001b[0m c[\u001b[39m0\u001b[39;49m]\n",
      "\u001b[0;31mTypeError\u001b[0m: 'set' object is not subscriptable"
     ]
    }
   ],
   "source": [
    "# answer:\n",
    "c[0]"
   ]
  },
  {
   "cell_type": "markdown",
   "metadata": {},
   "source": [
    "Why does this happen?"
   ]
  },
  {
   "cell_type": "markdown",
   "metadata": {
    "id": "5ii",
    "marks": 1,
    "tags": [
     "answer"
    ]
   },
   "source": [
    "*answer:*\n",
    "An error occurs as set object is not subscriptable (an object which can contain other objects inside it)"
   ]
  },
  {
   "cell_type": "markdown",
   "metadata": {},
   "source": [
    "---\n",
    "## Q6\n",
    "\n",
    "Try the following code:"
   ]
  },
  {
   "cell_type": "code",
   "execution_count": 54,
   "metadata": {},
   "outputs": [
    {
     "name": "stdout",
     "output_type": "stream",
     "text": [
      "True\n",
      "False\n"
     ]
    }
   ],
   "source": [
    "s2 = {1, 2, 3}\n",
    "print(1 in s2)\n",
    "print(4 in s2)"
   ]
  },
  {
   "cell_type": "markdown",
   "metadata": {},
   "source": [
    "What does the `in` keyword do? Feel free to change the values above to see what's happening."
   ]
  },
  {
   "cell_type": "markdown",
   "metadata": {
    "id": "6",
    "marks": 1,
    "tags": [
     "answer"
    ]
   },
   "source": [
    "*answer:*\n",
    "The in keywords checks whether sa value is found inside of something else"
   ]
  },
  {
   "cell_type": "markdown",
   "metadata": {},
   "source": [
    "---\n",
    "## Q7\n",
    "\n",
    "There are some other methods that we use with sets. Try `remove` and `discard` on a set — try removing elements that are in the set and those that aren't in the set."
   ]
  },
  {
   "cell_type": "code",
   "execution_count": 52,
   "metadata": {},
   "outputs": [
    {
     "ename": "KeyError",
     "evalue": "12",
     "output_type": "error",
     "traceback": [
      "\u001b[0;31m---------------------------------------------------------------------------\u001b[0m",
      "\u001b[0;31mKeyError\u001b[0m                                  Traceback (most recent call last)",
      "Cell \u001b[0;32mIn [52], line 3\u001b[0m\n\u001b[1;32m      1\u001b[0m s2\u001b[39m.\u001b[39mremove(\u001b[39m3\u001b[39m)\n\u001b[1;32m      2\u001b[0m s2\n\u001b[0;32m----> 3\u001b[0m s2\u001b[39m.\u001b[39;49mremove(\u001b[39m12\u001b[39;49m)\n\u001b[1;32m      4\u001b[0m s2\n",
      "\u001b[0;31mKeyError\u001b[0m: 12"
     ]
    }
   ],
   "source": [
    "s2.remove(3)\n",
    "s2\n",
    "s2.remove(12)\n",
    "s2"
   ]
  },
  {
   "cell_type": "code",
   "execution_count": 51,
   "metadata": {},
   "outputs": [
    {
     "data": {
      "text/plain": [
       "{2, 3}"
      ]
     },
     "execution_count": 51,
     "metadata": {},
     "output_type": "execute_result"
    }
   ],
   "source": [
    "s2.discard(1)\n",
    "s2\n",
    "s2.discard(13)\n",
    "s2"
   ]
  },
  {
   "cell_type": "markdown",
   "metadata": {},
   "source": [
    "What do the methods do? And in what ways are they different?"
   ]
  },
  {
   "cell_type": "markdown",
   "metadata": {
    "id": "7",
    "marks": 2,
    "tags": [
     "answer"
    ]
   },
   "source": [
    "*answer:*\n",
    "Both methods allow the user to remove elements from a set. However, the remove() method will raise an error if the specified item does not exist,whilst the discard() method will not."
   ]
  },
  {
   "cell_type": "markdown",
   "metadata": {},
   "source": [
    "---\n",
    "## Q8\n",
    "\n",
    "Try the `pop` function on a set."
   ]
  },
  {
   "cell_type": "code",
   "execution_count": 56,
   "metadata": {},
   "outputs": [
    {
     "data": {
      "text/plain": [
       "{3}"
      ]
     },
     "execution_count": 56,
     "metadata": {},
     "output_type": "execute_result"
    }
   ],
   "source": [
    "s2.pop()\n",
    "s2"
   ]
  },
  {
   "cell_type": "markdown",
   "metadata": {},
   "source": [
    "What does it do?"
   ]
  },
  {
   "cell_type": "markdown",
   "metadata": {
    "id": "8",
    "marks": 2,
    "tags": [
     "answer"
    ]
   },
   "source": [
    "*answer:*\n",
    "Removes the first element present in the set"
   ]
  },
  {
   "cell_type": "markdown",
   "metadata": {},
   "source": [
    "---\n",
    "## Appendix\n",
    "\n",
    "Try out some additional methods that are available for the Set Data Structure and familiarise yourself with them:\n",
    "\n",
    "https://docs.python.org/3.9/library/stdtypes.html#set "
   ]
  },
  {
   "cell_type": "code",
   "execution_count": null,
   "metadata": {},
   "outputs": [],
   "source": [
    "-"
   ]
  }
 ],
 "metadata": {
  "celltoolbar": "Tags",
  "kernelspec": {
   "display_name": "Python 3.10.6 ('base')",
   "language": "python",
   "name": "python3"
  },
  "language_info": {
   "codemirror_mode": {
    "name": "ipython",
    "version": 3
   },
   "file_extension": ".py",
   "mimetype": "text/x-python",
   "name": "python",
   "nbconvert_exporter": "python",
   "pygments_lexer": "ipython3",
   "version": "3.10.6"
  },
  "vscode": {
   "interpreter": {
    "hash": "70993373fce430daa4b9e58133f64fa7edb5d7eb76386b3e458b705645ab90c3"
   }
  }
 },
 "nbformat": 4,
 "nbformat_minor": 4
}
