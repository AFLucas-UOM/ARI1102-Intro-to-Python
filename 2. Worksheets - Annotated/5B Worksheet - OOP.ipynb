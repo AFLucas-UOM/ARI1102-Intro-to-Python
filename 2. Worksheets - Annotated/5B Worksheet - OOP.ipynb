{
 "cells": [
  {
   "cell_type": "markdown",
   "metadata": {},
   "source": [
    "# Worksheet 5B: Object Oriented Programming\n",
    "\n",
    "For this exercise, create a bank account `class` that has two attributes:\n",
    "\n",
    "- `owner`\n",
    "- `balance`\n",
    "\n",
    "and two methods:\n",
    "- `deposit`\n",
    "- `withdraw`\n",
    "\n",
    "As an added requirement, withdrawals may not exceed the available balance.\n",
    "\n",
    "Instantiate your class, make several deposits and withdrawals, and test to make sure the account can't be overdrawn."
   ]
  },
  {
   "cell_type": "markdown",
   "metadata": {},
   "source": [
    "## Q1\n",
    "\n",
    "Define the `Account` class.\n",
    "\n",
    "_You can either define it in one go, or else build it out bit by by bit with each question below. If you take the latter approach, don't forget to re-run the cells for **Q1** & **Q2** (otherwise you'll be using old code). **Regardless of which approach you take, the entire class definition should be in this cell below once you finish the worksheet.**_"
   ]
  },
  {
   "cell_type": "code",
   "execution_count": 43,
   "metadata": {
    "id": "1",
    "marks": 10,
    "tags": [
     "answer"
    ]
   },
   "outputs": [
    {
     "name": "stdout",
     "output_type": "stream",
     "text": [
      "Deposit of €60 Accepted\n",
      "Your new total is: €1060\n",
      "Deposit of €2 Accepted\n",
      "Your new total is: €1062\n",
      "Withdrawal of €50 Accepted\n",
      "Your new balance is €1012\n",
      "Withdrawal of €2000 is NOT valid!\n",
      "You ran out of money! :(\n"
     ]
    }
   ],
   "source": [
    "# answer:\n",
    "class Account:\n",
    "    def __init__(self, owner, balance=0):\n",
    "        self.owner = owner\n",
    "        self.balance = balance\n",
    "\n",
    "    def deposit(self, dep_accepted):\n",
    "        self.balance += dep_accepted\n",
    "        print('Deposit of €'+str(dep_accepted)+' Accepted')\n",
    "        print('Your new total is: €'+str(self.balance))\n",
    "\n",
    "    def __str__(self):\n",
    "        return \"Name: %s, balance €%d \" %(self.owner, self.balance)\n",
    "\n",
    "    def withdraw(self, wd_amount):\n",
    "        if self.balance >= wd_amount:\n",
    "            self.balance -= wd_amount\n",
    "            print('Withdrawal of €' +str(wd_amount)+' Accepted')\n",
    "            print('Your new balance is €'+str(self.balance))\n",
    "        else: \n",
    "            print('Withdrawal of €%d is NOT valid!' %(wd_amount))\n",
    "            print(\"You ran out of money! :(\")\n",
    "\n",
    "a1 = Account(\"Andrea\", 1000)\n",
    "a1.owner\n",
    "a1.balance\n",
    "a1.deposit(60)\n",
    "a1.deposit(2)\n",
    "a1.withdraw(50)\n",
    "a1.withdraw(2000)\n"
   ]
  },
  {
   "cell_type": "markdown",
   "metadata": {},
   "source": [
    "## Q2\n",
    "\n",
    "Make an instance of the `Account` class. The instantiation call should receive as the name of the person & the money being put into the bank account as arguments. In this example specify `\"Petru\"` & `200` as the name & amount, respectively, & save the result to a `my_account` variable"
   ]
  },
  {
   "cell_type": "code",
   "execution_count": 44,
   "metadata": {
    "id": "2",
    "marks": 1,
    "tags": [
     "answer"
    ]
   },
   "outputs": [],
   "source": [
    "# answer:\n",
    "my_account = Account(\"Petru\", 200)"
   ]
  },
  {
   "cell_type": "markdown",
   "metadata": {},
   "source": [
    "##  Q3\n",
    "\n",
    "Print `my_account` directly, which should automatically display the account information (the `owner` & the `balance`). *Hint: If you haven't already, you should implement the `__str__` method on your class.*"
   ]
  },
  {
   "cell_type": "code",
   "execution_count": 30,
   "metadata": {
    "id": "3",
    "marks": 1,
    "tags": [
     "answer"
    ]
   },
   "outputs": [
    {
     "name": "stdout",
     "output_type": "stream",
     "text": [
      "Name: Petru, balance €200 \n"
     ]
    }
   ],
   "source": [
    "# answer:\n",
    "print(my_account)"
   ]
  },
  {
   "cell_type": "markdown",
   "metadata": {},
   "source": [
    "## Q4\n",
    "\n",
    "Write the code to print out the `owner` and `balance` attributes directly (not by printing `my_account` as **Q3**)."
   ]
  },
  {
   "cell_type": "code",
   "execution_count": 31,
   "metadata": {
    "id": "4",
    "marks": 2,
    "tags": [
     "answer"
    ]
   },
   "outputs": [
    {
     "name": "stdout",
     "output_type": "stream",
     "text": [
      "Petru\n",
      "200\n"
     ]
    }
   ],
   "source": [
    "# answer:\n",
    "print(my_account.owner)\n",
    "print(my_account.balance)"
   ]
  },
  {
   "cell_type": "markdown",
   "metadata": {},
   "source": [
    "## Q5\n",
    "\n",
    "Make a series of deposits and withdrawals. Check the `balance` after each call to check that the amount is being updated correctly."
   ]
  },
  {
   "cell_type": "code",
   "execution_count": 40,
   "metadata": {
    "id": "5",
    "marks": 1,
    "tags": [
     "answer"
    ]
   },
   "outputs": [
    {
     "name": "stdout",
     "output_type": "stream",
     "text": [
      "Deposit of €400 Accepted\n",
      "Your new total is: €600\n",
      "Withdrawal of €200 Accepted\n",
      "Your new balance is €400\n"
     ]
    }
   ],
   "source": [
    "# answer:\n",
    "my_account.deposit(400)\n",
    "my_account.withdraw(200)"
   ]
  },
  {
   "cell_type": "markdown",
   "metadata": {},
   "source": [
    "## Q6\n",
    "\n",
    "Now ensure the account can't be overdrawn. Make withdrawal(s) which tries to exceed the available `balance`. When trying to withdraw more than what's available, the `balance` shouldn't be modified, but a message should be printed by the class instead."
   ]
  },
  {
   "cell_type": "code",
   "execution_count": 45,
   "metadata": {
    "id": "6",
    "marks": 1,
    "tags": [
     "answer"
    ]
   },
   "outputs": [
    {
     "name": "stdout",
     "output_type": "stream",
     "text": [
      "Withdrawal of €60000 is NOT valid!\n",
      "You ran out of money! :(\n"
     ]
    }
   ],
   "source": [
    "# answer:\n",
    "my_account.withdraw(60000)"
   ]
  }
 ],
 "metadata": {
  "kernelspec": {
   "display_name": "Python 3.9.6 64-bit",
   "language": "python",
   "name": "python3"
  },
  "language_info": {
   "codemirror_mode": {
    "name": "ipython",
    "version": 3
   },
   "file_extension": ".py",
   "mimetype": "text/x-python",
   "name": "python",
   "nbconvert_exporter": "python",
   "pygments_lexer": "ipython3",
   "version": "3.9.6"
  },
  "vscode": {
   "interpreter": {
    "hash": "31f2aee4e71d21fbe5cf8b01ff0e069b9275f58929596ceb00d14d90e3e16cd6"
   }
  }
 },
 "nbformat": 4,
 "nbformat_minor": 2
}
