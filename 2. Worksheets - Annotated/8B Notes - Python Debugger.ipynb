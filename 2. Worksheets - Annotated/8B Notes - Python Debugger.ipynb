{
 "cells": [
  {
   "cell_type": "markdown",
   "metadata": {},
   "source": [
    "# Notes 8B: Python Debugger\n",
    "\n",
    "You've probably used a variety of print statements to try to find errors in your code. A better way of doing this is by using Python's built-in debugger module (`pdb`). The pdb module implements an interactive debugging environment for Python programs. It includes features to let you pause your program, look at the values of variables, and watch program execution step-by-step, so you can understand what your program actually does and find bugs in the logic.\n",
    "\n",
    "This is a bit difficult to show since it requires creating an error on purpose, but hopefully this simple example illustrates the power of the pdb module.\n",
    "\n",
    "*Note: Keep in mind it would be pretty unusual to use `pdb` in an Jupyter Notebook setting.*\n",
    "\n",
    "Here we will create an error on purpose: trying to add a list to an integer"
   ]
  },
  {
   "cell_type": "code",
   "execution_count": null,
   "metadata": {},
   "outputs": [],
   "source": [
    "x = [1,3,4]\n",
    "y = 2\n",
    "z = 3\n",
    "\n",
    "result = y + z\n",
    "print(result)\n",
    "result2 = y + x\n",
    "print(result2)"
   ]
  },
  {
   "cell_type": "markdown",
   "metadata": {},
   "source": [
    "The above results in an error! Using `set_trace()` from the `pdb` module will allow us to pause the code at the point of the trace and check if anything is wrong. You can type out the variables and check what their value is so that you understand the error. This is a rather simple example, but this can be very helpful if you are dealing with something more complex.\n",
    "\n",
    "You can use `q` to quit the debugger. For more information on general debugging techniques and more methods, check out the official documentation: https://docs.python.org/3/library/pdb.html"
   ]
  },
  {
   "cell_type": "code",
   "execution_count": null,
   "metadata": {},
   "outputs": [],
   "source": [
    "import pdb\n",
    "\n",
    "x = [1, 3, 4]\n",
    "y = 2\n",
    "z = 3\n",
    "\n",
    "result = y + z\n",
    "print(result)\n",
    "\n",
    "# Set a trace using Python Debugger\n",
    "pdb.set_trace()\n",
    "\n",
    "result2 = y + x\n",
    "print(result2)\n",
    "\n",
    "# Use the python Debugger to check the values of the variables \n",
    "# at the point that the error was raised so that you can \n",
    "# understand better what's wrong in the code."
   ]
  },
  {
   "cell_type": "markdown",
   "metadata": {},
   "source": [
    "---\n",
    "## IDE debugging\n",
    "\n",
    "Most IDEs today offer debugging capabilities, without having to insert `pdb` statements in your code. Here are some references to get you started if you're interested in learning more:\n",
    "- PyCharm: https://www.jetbrains.com/help/pycharm/debugging-your-first-python-application.html#debug\n",
    "- VSCode: https://code.visualstudio.com/docs/python/debugging"
   ]
  }
 ],
 "metadata": {
  "kernelspec": {
   "display_name": "Python 3 (ipykernel)",
   "language": "python",
   "name": "python3"
  },
  "language_info": {
   "codemirror_mode": {
    "name": "ipython",
    "version": 3
   },
   "file_extension": ".py",
   "mimetype": "text/x-python",
   "name": "python",
   "nbconvert_exporter": "python",
   "pygments_lexer": "ipython3",
   "version": "3.9.5"
  }
 },
 "nbformat": 4,
 "nbformat_minor": 1
}
