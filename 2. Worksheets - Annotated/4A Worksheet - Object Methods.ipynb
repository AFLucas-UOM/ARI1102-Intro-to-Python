{
 "cells": [
  {
   "cell_type": "markdown",
   "metadata": {
    "id": "ogPZZ4wj_Xfz"
   },
   "source": [
    "# Worksheet 4A: Methods\n",
    "\n",
    "We've already seen a few example of methods when learning about data structures in Python. Methods are essentially functions built into objects. Later on in the course we will learn how to create our own objects and methods using Object Oriented Programming (OOP) and classes.\n",
    "\n",
    "Methods perform specific actions on an object and can also take arguments, just like a function. This task will serve as just a brief introduction to methods and get you thinking about overall design methods that we will touch back upon when we reach OOP in the course.\n",
    "\n",
    "Methods syntax takes the form:\n",
    "```python\n",
    "object.method(arg1, arg2)\n",
    "```\n",
    "    \n",
    "You'll later see that we can think of methods as having an argument `self` referring to the object itself. You can't see this argument but we will be using it later on in the course during the OOP lectures."
   ]
  },
  {
   "cell_type": "markdown",
   "metadata": {
    "id": "i-pGcESL_XgF"
   },
   "source": [
    "---\n",
    "## Q1\n",
    "\n",
    "Let's take a quick look at what an example of methods by working with a list. You are encouraged to check out the official documentation for a more comprehensive overview of list methods than what we'll cover here: https://docs.python.org/3/tutorial/datastructures.html#more-on-lists"
   ]
  },
  {
   "cell_type": "code",
   "execution_count": 13,
   "metadata": {
    "id": "1rEA4Tmx_XgB"
   },
   "outputs": [
    {
     "data": {
      "text/plain": [
       "[1, 2, 3, 4]"
      ]
     },
     "execution_count": 13,
     "metadata": {},
     "output_type": "execute_result"
    }
   ],
   "source": [
    "my_list = [1, 2, 3, 4]\n",
    "my_list"
   ]
  },
  {
   "cell_type": "markdown",
   "metadata": {},
   "source": [
    "What are the possible methods for the list data structure?\n",
    "\n",
    "*Hint: this can be easily accessed by typing the variable name, fullstop, then press `Tab`.*"
   ]
  },
  {
   "cell_type": "code",
   "execution_count": null,
   "metadata": {
    "id": "lpYDqTSy_XgG",
    "outputId": "762abe98-099a-45ad-95f6-3f7ac876c664"
   },
   "outputs": [],
   "source": [
    "# press tab after the `.`\n",
    "my_list."
   ]
  },
  {
   "cell_type": "markdown",
   "metadata": {
    "id": "1",
    "marks": 1,
    "tags": [
     "answer"
    ]
   },
   "source": [
    "*answer:*\n",
    "append(), clear(), copy(), count(), extend(), index(), insert(), pop(), remove(), reverse(), sort()\t"
   ]
  },
  {
   "cell_type": "markdown",
   "metadata": {
    "id": "hz1X2fj5_XgH"
   },
   "source": [
    "## Q2\n",
    "\n",
    "`append` is a method we already saw previously. For example, appending `6` & `7` to `my_list`:"
   ]
  },
  {
   "cell_type": "code",
   "execution_count": 3,
   "metadata": {
    "id": "mvgnow2d_XgI",
    "outputId": "84a5a628-40c4-4213-cba3-40c2764ffb6e"
   },
   "outputs": [
    {
     "data": {
      "text/plain": [
       "[1, 2, 3, 4, 6, 7]"
      ]
     },
     "execution_count": 3,
     "metadata": {},
     "output_type": "execute_result"
    }
   ],
   "source": [
    "my_list.append(6)\n",
    "my_list.append(7)\n",
    "my_list"
   ]
  },
  {
   "cell_type": "markdown",
   "metadata": {},
   "source": [
    "### Q2 a\n",
    "\n",
    "Try adding `8` & `9` using `extend`."
   ]
  },
  {
   "cell_type": "code",
   "execution_count": 4,
   "metadata": {
    "id": "2a",
    "marks": 2,
    "tags": [
     "answer"
    ]
   },
   "outputs": [
    {
     "data": {
      "text/plain": [
       "[1, 2, 3, 4, 6, 7, 8, 9]"
      ]
     },
     "execution_count": 4,
     "metadata": {},
     "output_type": "execute_result"
    }
   ],
   "source": [
    "# answer:\n",
    "nos = 8,9\n",
    "my_list.extend(nos)\n",
    "my_list"
   ]
  },
  {
   "cell_type": "markdown",
   "metadata": {},
   "source": [
    "### Q2 b\n",
    "\n",
    "What type of argument does `extend` accept?\n",
    "\n",
    "*Hint: In Jupyter Notebooks you can always use the `Shift`+`Tab` shortcut on the method name to get more help about the method or you can use the `help` function in Python in general.*"
   ]
  },
  {
   "cell_type": "code",
   "execution_count": 4,
   "metadata": {},
   "outputs": [
    {
     "name": "stdout",
     "output_type": "stream",
     "text": [
      "Help on built-in function extend:\n",
      "\n",
      "extend(iterable, /) method of builtins.list instance\n",
      "    Extend list by appending elements from the iterable.\n",
      "\n"
     ]
    }
   ],
   "source": [
    "mylist.extend(nos)\n",
    "# used for shift+tab test"
   ]
  },
  {
   "cell_type": "markdown",
   "metadata": {
    "id": "2b",
    "marks": 2,
    "tags": [
     "answer"
    ]
   },
   "source": [
    "*answer:* (method) extend: (__iterable: Iterable[int], /) Extend only accepts arguments of type iterable (list, set, tuples, etc.)\n"
   ]
  },
  {
   "cell_type": "markdown",
   "metadata": {},
   "source": [
    "### Q2 c\n",
    "\n",
    "`append` inserts elements at the end of a list. But what if we wanted to insert elements anywhere else, for example, if we wanted to insert the missing `5` at index `4`? One way to do this is by slicing the list & using the `+` operator like so:"
   ]
  },
  {
   "cell_type": "code",
   "execution_count": 5,
   "metadata": {},
   "outputs": [
    {
     "data": {
      "text/plain": [
       "[1, 2, 3, 4, 5, 6, 7, 8, 9]"
      ]
     },
     "execution_count": 5,
     "metadata": {},
     "output_type": "execute_result"
    }
   ],
   "source": [
    "my_list[:4] + [5] + my_list[4:]"
   ]
  },
  {
   "cell_type": "markdown",
   "metadata": {},
   "source": [
    "This statement creates a new list & `my_list` hasn't been modified, since we didn't assign the result back to `my_list`. Luckily, Python provides a method for this. Provide the code to insert `5` at index `4` **using a list method**. *Hint: the resultant list should be identical to the output of the cell above.*"
   ]
  },
  {
   "cell_type": "code",
   "execution_count": 14,
   "metadata": {
    "id": "2b",
    "marks": 2,
    "tags": [
     "answer"
    ]
   },
   "outputs": [
    {
     "data": {
      "text/plain": [
       "[1, 2, 3, 4, 5]"
      ]
     },
     "execution_count": 14,
     "metadata": {},
     "output_type": "execute_result"
    }
   ],
   "source": [
    "# answer:\n",
    "my_list.insert(4,5)\n",
    "my_list"
   ]
  },
  {
   "cell_type": "markdown",
   "metadata": {
    "id": "7RWzTSEE_XgK"
   },
   "source": [
    "---\n",
    "## Q3\n",
    "\n",
    "Notice how the list methods we used so far all modify the list without having to assign the result, which is possible since the list is mutable. However, not all list methods do this. Try out the `count` method (feel free to change the contents `my_list` to experiment):"
   ]
  },
  {
   "cell_type": "code",
   "execution_count": 15,
   "metadata": {
    "id": "Z8c39Q1b_XgL"
   },
   "outputs": [
    {
     "data": {
      "text/plain": [
       "1"
      ]
     },
     "execution_count": 15,
     "metadata": {},
     "output_type": "execute_result"
    }
   ],
   "source": [
    "my_list.count(5) \n",
    "#checks how many times 5 is preset in the list and outputs the amount "
   ]
  },
  {
   "cell_type": "markdown",
   "metadata": {},
   "source": [
    "Explain what the `count` method does."
   ]
  },
  {
   "cell_type": "markdown",
   "metadata": {
    "id": "3",
    "marks": 1,
    "tags": [
     "answer"
    ]
   },
   "source": [
    "*answer:*\n",
    "Count method displays the amount of times a certain element is present in the list."
   ]
  },
  {
   "cell_type": "markdown",
   "metadata": {},
   "source": [
    "---\n",
    "## Q4\n",
    "\n",
    "Any object can have methods, of course, not just lists. For example, we already saw the `upper` method for strings which gives a string with all characters uppercased. Take a look at all the available string methods: https://docs.python.org/3/library/stdtypes.html#string-methods"
   ]
  },
  {
   "cell_type": "markdown",
   "metadata": {},
   "source": [
    "### Q4 a\n",
    "\n",
    "Let's work with the following string:"
   ]
  },
  {
   "cell_type": "code",
   "execution_count": 16,
   "metadata": {},
   "outputs": [],
   "source": [
    "text = \"!!Hello World!!\""
   ]
  },
  {
   "cell_type": "markdown",
   "metadata": {},
   "source": [
    "#### Q4 a i\n",
    "\n",
    "Use a string method to give the same string without any `\"!\"` characters. The result should be `\"Hello World\"`."
   ]
  },
  {
   "cell_type": "code",
   "execution_count": 22,
   "metadata": {
    "id": "4ai",
    "marks": 1,
    "tags": [
     "answer"
    ]
   },
   "outputs": [
    {
     "data": {
      "text/plain": [
       "'Hello World'"
      ]
     },
     "execution_count": 22,
     "metadata": {},
     "output_type": "execute_result"
    }
   ],
   "source": [
    "# answer: .strip() method remove ! from string\n",
    "text.strip(\"!\")"
   ]
  },
  {
   "cell_type": "markdown",
   "metadata": {},
   "source": [
    "#### Q4 a ii\n",
    "\n",
    "Use a string method to give the same string without the first `\"!\"` characters. The result should be `\"Hello World!!\"`."
   ]
  },
  {
   "cell_type": "code",
   "execution_count": 28,
   "metadata": {
    "id": "4aii",
    "marks": 1,
    "tags": [
     "answer"
    ]
   },
   "outputs": [
    {
     "data": {
      "text/plain": [
       "'Hello World!!'"
      ]
     },
     "execution_count": 28,
     "metadata": {},
     "output_type": "execute_result"
    }
   ],
   "source": [
    "# answer:\n",
    "text.lstrip(\"!\")\n"
   ]
  },
  {
   "cell_type": "markdown",
   "metadata": {},
   "source": [
    "### Q4 b\n",
    "\n",
    "Using any of these string methods, is the original string in `text` modified? Why does Python do this?"
   ]
  },
  {
   "cell_type": "markdown",
   "metadata": {
    "id": "4b",
    "marks": 2,
    "tags": [
     "answer"
    ]
   },
   "source": [
    "*answer:*\n",
    "The original string text isn't modified. When using specific methods the output is only modified. Python does so, so that the user can change the output of the text variable without the need of continuously changing and saving it"
   ]
  }
 ],
 "metadata": {
  "colab": {
   "name": "202122 Task 4a - Methods - Model Answers.ipynb",
   "provenance": []
  },
  "kernelspec": {
   "display_name": "Python 3.9.6 64-bit",
   "language": "python",
   "name": "python3"
  },
  "language_info": {
   "codemirror_mode": {
    "name": "ipython",
    "version": 3
   },
   "file_extension": ".py",
   "mimetype": "text/x-python",
   "name": "python",
   "nbconvert_exporter": "python",
   "pygments_lexer": "ipython3",
   "version": "3.9.6"
  },
  "vscode": {
   "interpreter": {
    "hash": "31f2aee4e71d21fbe5cf8b01ff0e069b9275f58929596ceb00d14d90e3e16cd6"
   }
  }
 },
 "nbformat": 4,
 "nbformat_minor": 1
}
