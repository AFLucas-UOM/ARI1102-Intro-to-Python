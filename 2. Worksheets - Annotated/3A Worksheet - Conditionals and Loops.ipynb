{
 "cells": [
  {
   "cell_type": "markdown",
   "metadata": {},
   "source": [
    "# Worksheet 3A: Conditionals & Loops\n",
    "\n",
    "In this lecture we will be doing a quick overview of Python Statements. This lecture will emphasize differences between Python and other languages such as C++. \n",
    "\n",
    "There are two reasons we take this approach for learning the context of Python Statements:\n",
    "\n",
    "1. If you are coming from a different language this will rapidly accelerate your understanding of Python.\n",
    "2. Learning about statements will allow you to be able to read other languages more easily in the future."
   ]
  },
  {
   "cell_type": "markdown",
   "metadata": {},
   "source": [
    "## Python vs Other Languages\n",
    "\n",
    "Let's look at some pseudo-code for if-statements (we will learn about building out if statements soon):\n",
    "\n",
    "**Other Languages**\n",
    "```java\n",
    "if (x) {\n",
    "    if (y) {\n",
    "        <code-statement>;\n",
    "    }\n",
    "}\n",
    "else {\n",
    "    <another-code-statement>;\n",
    "}\n",
    "```\n",
    "\n",
    "**Python**\n",
    "```python    \n",
    "if x:\n",
    "    if y:\n",
    "        <code-statement>\n",
    "else:\n",
    "    <another-code-statement>\n",
    "```\n",
    "\n",
    "You'll notice that Python is less cluttered and much more readable than the first version. How does Python manage this? Let's walk through the main differences.\n",
    "\n",
    "Python gets rid of `(` `)` and `{` `}` by incorporating two main factors: a `:` and *whitespace*. The if statement is ended with a colon, and whitespace is used (indentation) to describe what takes place in case of the statement.\n",
    "\n",
    "Another major difference is the lack of semicolons in Python. Semicolons are used to denote statement endings in many other languages, but in Python, the end of a line is the same as the end of a statement.\n",
    "\n",
    "Note how Python is so heavily driven by code indentation and whitespace. This means that code readability is a core part of the design of the Python language.\n",
    "\n",
    "Now let's start diving deeper by coding these sort of statements in Python!"
   ]
  },
  {
   "cell_type": "markdown",
   "metadata": {},
   "source": [
    "---\n",
    "## Conditionals\n",
    "\n",
    "In order to write useful programs, we almost always need the ability to check conditions and change the behavior of the program accordingly. Conditional statements give us this ability. The simplest form is the <code>if</code> statement:\n",
    "```python \n",
    "if x > 0:\n",
    "    print(\"x is positive\")\n",
    "```\n",
    "\n",
    "The boolean expression after `if` is called the **condition**. If it is true, the indented statement runs. If not, the indented statement is skipped.\n",
    "\n",
    "`if` statements have the same structure as function definitions: a header followed by an indented body. Statements like this are called compound statements.\n",
    "\n",
    "There is no limit on the number of statements that can appear in the body, but there has to be at least one. Occasionally, it is useful to have a body with no statements (usually as a placeholder for code you haven’t written yet). In that case, you can use the `pass` statement, which does nothing.\n",
    "```python \n",
    "if x < 0:\n",
    "    pass # TODO: need to handle negative values!\n",
    "```\n",
    "\n",
    "### if, elif, else Statements\n",
    "\n",
    "`if` Statements in Python allows us to tell the program to perform alternative actions based on a certain set of conditions.\n",
    "\n",
    "Verbally, we can imagine we are telling the computer:\n",
    "\n",
    "> \"If this case happens, perform some action.\"\n",
    "\n",
    "We can then expand the idea further with `elif` and `else` statements, which allow us to tell the computer:\n",
    "\n",
    "> \"Hey if this case happens, perform some action. Else, if another case happens, perform some other action. Else, if *none* of the above cases happened, perform this action.\"\n",
    "\n",
    "Let's go ahead and look at the syntax format for `if` statements to get a better idea of this:\n",
    "```python \n",
    "if case1:\n",
    "    <perform action1>\n",
    "elif case2:\n",
    "    <perform action2>\n",
    "else: \n",
    "    <perform action3>\n",
    "```"
   ]
  },
  {
   "cell_type": "markdown",
   "metadata": {},
   "source": [
    "---\n",
    "## Q1"
   ]
  },
  {
   "cell_type": "markdown",
   "metadata": {},
   "source": [
    "Write down the code that evaluates whether `x` is divisible by `2` (and therefore prints `\"x is even\"`) or not (therefore prints `\"x is odd\"`).\n",
    "Feel free to change the value of `x` above to test out different scenarios."
   ]
  },
  {
   "cell_type": "code",
   "execution_count": 119,
   "metadata": {},
   "outputs": [],
   "source": [
    "x = 2"
   ]
  },
  {
   "cell_type": "code",
   "execution_count": 120,
   "metadata": {
    "id": "1",
    "marks": 1,
    "tags": [
     "answer"
    ]
   },
   "outputs": [
    {
     "name": "stdout",
     "output_type": "stream",
     "text": [
      "x is even\n"
     ]
    }
   ],
   "source": [
    "# answer:\n",
    "if x%2==0: \n",
    "    print(\"x is even\")\n",
    "else: \n",
    "    print(\"x is odd\")"
   ]
  },
  {
   "cell_type": "markdown",
   "metadata": {},
   "source": [
    "---\n",
    "## Q2\n",
    "\n",
    "Write down the code that checks whether `x` is greater than `y`, smaller than `y`, or equal to `y`, and prints a statement to that effect."
   ]
  },
  {
   "cell_type": "code",
   "execution_count": 121,
   "metadata": {},
   "outputs": [],
   "source": [
    "x = 12\n",
    "y = 12"
   ]
  },
  {
   "cell_type": "code",
   "execution_count": 122,
   "metadata": {
    "id": "2",
    "marks": 1,
    "tags": [
     "answer"
    ]
   },
   "outputs": [
    {
     "name": "stdout",
     "output_type": "stream",
     "text": [
      "x=y\n"
     ]
    }
   ],
   "source": [
    "# answer:\n",
    "if x>y: \n",
    "    print(\"x>y\")\n",
    "elif x<y:\n",
    "    print(\"x<y\")\n",
    "else:\n",
    "    print(\"x=y\")"
   ]
  },
  {
   "cell_type": "markdown",
   "metadata": {},
   "source": [
    "---\n",
    "## Q3\n",
    "Write a nested conditional that first checks if `x` is greater than `0`; then checks if `x` is smaller than `10`; if both conditions are passed, print `\"x is between 0 and 10\"`."
   ]
  },
  {
   "cell_type": "code",
   "execution_count": 123,
   "metadata": {},
   "outputs": [],
   "source": [
    "x = 4"
   ]
  },
  {
   "cell_type": "code",
   "execution_count": 124,
   "metadata": {
    "id": "3",
    "marks": 1,
    "tags": [
     "answer"
    ]
   },
   "outputs": [
    {
     "name": "stdout",
     "output_type": "stream",
     "text": [
      "x is between 0 and 10\n"
     ]
    }
   ],
   "source": [
    "# answer:\n",
    "if x>0:\n",
    "    if x<10:\n",
    "        print(\"x is between 0 and 10\")"
   ]
  },
  {
   "cell_type": "markdown",
   "metadata": {},
   "source": [
    "---\n",
    "## Q4\n",
    "\n",
    "Now rather than a nested condition, use the `and` keyword between two conditionals in a single `if` statement."
   ]
  },
  {
   "cell_type": "code",
   "execution_count": 125,
   "metadata": {
    "id": "4",
    "marks": 1,
    "tags": [
     "answer"
    ]
   },
   "outputs": [
    {
     "name": "stdout",
     "output_type": "stream",
     "text": [
      " x is between 0 adn 10\n"
     ]
    }
   ],
   "source": [
    "# answer:\n",
    "if x>0 and x<10:\n",
    "    print(\" x is between 0 adn 10\")\n"
   ]
  },
  {
   "cell_type": "markdown",
   "metadata": {},
   "source": [
    "---\n",
    "## Indentation\n",
    "\n",
    "It is important to keep a good understanding of how indentation works in Python to maintain the structure and order of your code. We will touch on this topic again when we start building out functions!"
   ]
  },
  {
   "cell_type": "markdown",
   "metadata": {},
   "source": [
    "---\n",
    "## Loops\n",
    "\n",
    "### `for` Loops\n",
    "\n",
    "A `for` loop acts as an iterator in Python; it goes through items that are in a *sequence* or any other iterable item. Objects that we've learned about that we can iterate over include strings, lists, tuples, and even built-in iterables for dictionaries, such as dictionary keys or values.\n",
    "\n",
    "Here's the general format for a `for` loop in Python:\n",
    "```python\n",
    "for item in object:\n",
    "    <statements to do stuff>\n",
    "```\n",
    "\n",
    "The variable name used for the item is completely up to the coder, so use your best judgment for choosing a name that makes sense and you will be able to understand when revisiting your code. This item name can then be referenced inside your loop, for example if you wanted to use `if` statements to perform checks.\n",
    "\n",
    "Let's go ahead and work through several example of `for` loops using a variety of data object types. We'll start simple and build more complexity later on."
   ]
  },
  {
   "cell_type": "markdown",
   "metadata": {},
   "source": [
    "---\n",
    "## Q5\n",
    "\n",
    "Use a `for` loop to iterate through `list1` and print each item."
   ]
  },
  {
   "cell_type": "code",
   "execution_count": 126,
   "metadata": {},
   "outputs": [],
   "source": [
    "list1 = [1, 2, 3, 4, 5, 6, 7, 8, 9, 10]"
   ]
  },
  {
   "cell_type": "code",
   "execution_count": 127,
   "metadata": {
    "id": "5",
    "marks": 1,
    "tags": [
     "answer"
    ]
   },
   "outputs": [
    {
     "name": "stdout",
     "output_type": "stream",
     "text": [
      "1\n",
      "2\n",
      "3\n",
      "4\n",
      "5\n",
      "6\n",
      "7\n",
      "8\n",
      "9\n",
      "10\n"
     ]
    }
   ],
   "source": [
    "# answer:\n",
    "for i in list1:\n",
    "    print(i)"
   ]
  },
  {
   "cell_type": "markdown",
   "metadata": {},
   "source": [
    "---\n",
    "## Q6\n",
    "\n",
    "Now iterate through `list1` and check whether a number is odd or even and print out this info. *Hint: the answer for **Q1** can be partially used.*"
   ]
  },
  {
   "cell_type": "code",
   "execution_count": 128,
   "metadata": {
    "id": "6",
    "marks": 1,
    "tags": [
     "answer"
    ]
   },
   "outputs": [
    {
     "name": "stdout",
     "output_type": "stream",
     "text": [
      "1 is odd\n",
      "2 is even\n",
      "3 is odd\n",
      "4 is even\n",
      "5 is odd\n",
      "6 is even\n",
      "7 is odd\n",
      "8 is even\n",
      "9 is odd\n",
      "10 is even\n"
     ]
    }
   ],
   "source": [
    "# answer:\n",
    "for i in list1:\n",
    "    if i%2==0:\n",
    "        print(str(i)+\" is even\")\n",
    "    else:\n",
    "        print (str(i)+\" is odd\")"
   ]
  },
  {
   "cell_type": "markdown",
   "metadata": {},
   "source": [
    "---\n",
    "## Q7\n",
    "\n",
    "Using a `for` loop, calculate the sum of integers in `list1`."
   ]
  },
  {
   "cell_type": "code",
   "execution_count": 129,
   "metadata": {
    "id": "7",
    "marks": 1,
    "tags": [
     "answer"
    ]
   },
   "outputs": [
    {
     "name": "stdout",
     "output_type": "stream",
     "text": [
      "sum: 55\n"
     ]
    }
   ],
   "source": [
    "# answer:\n",
    "sum=0\n",
    "for i in list1:\n",
    "    sum += i\n",
    "print(\"sum: \"+str(sum))"
   ]
  },
  {
   "cell_type": "markdown",
   "metadata": {},
   "source": [
    "---\n",
    "## Q8\n",
    "\n",
    "Use a `for` loop to iterate through `text` and print every character on a separate line. _Hint: remember that a string is merely a list of characters and you have already processed a list through a `for` loop._"
   ]
  },
  {
   "cell_type": "code",
   "execution_count": 130,
   "metadata": {},
   "outputs": [],
   "source": [
    "text = \"Hello, World\""
   ]
  },
  {
   "cell_type": "code",
   "execution_count": 131,
   "metadata": {
    "id": "8",
    "marks": 1,
    "tags": [
     "answer"
    ]
   },
   "outputs": [
    {
     "name": "stdout",
     "output_type": "stream",
     "text": [
      "H\n",
      "e\n",
      "l\n",
      "l\n",
      "o\n",
      ",\n",
      " \n",
      "W\n",
      "o\n",
      "r\n",
      "l\n",
      "d\n"
     ]
    }
   ],
   "source": [
    "# answer:\n",
    "for i in text:\n",
    "    print(i)"
   ]
  },
  {
   "cell_type": "markdown",
   "metadata": {},
   "source": [
    "---\n",
    "### Unpacking tuples\n",
    "\n",
    "Tuples have a special quality when it comes to `for` loops. If you are iterating through a sequence that contains tuples, the item can actually be the tuple itself, this is an example of *tuple unpacking*. \n",
    "\n",
    "During the `for` loop we will be unpacking the tuple inside of a sequence and we can access the individual items inside that tuple!\n",
    "\n",
    "Say we have a list of tuples:"
   ]
  },
  {
   "cell_type": "code",
   "execution_count": 132,
   "metadata": {},
   "outputs": [],
   "source": [
    "list2 = [(2, 4), (6, 8), (10, 12)]"
   ]
  },
  {
   "cell_type": "markdown",
   "metadata": {},
   "source": [
    "When iterating through the list & knowing that the list contains tuples that always have two values, we can unpack those values in this way:"
   ]
  },
  {
   "cell_type": "code",
   "execution_count": 133,
   "metadata": {},
   "outputs": [
    {
     "name": "stdout",
     "output_type": "stream",
     "text": [
      "2 and 4\n",
      "6 and 8\n",
      "10 and 12\n"
     ]
    }
   ],
   "source": [
    "for (x, y) in list2:\n",
    "    print(x, \"and\", y)"
   ]
  },
  {
   "cell_type": "markdown",
   "metadata": {},
   "source": [
    "This is convenient because it allows you to name the individual items in the tuple without having to declare variables in the body of the `for` loop. It makes your code more concise and more readable."
   ]
  },
  {
   "cell_type": "markdown",
   "metadata": {},
   "source": [
    "---\n",
    "## Q9\n",
    "\n",
    "Modify the code above to print the addition of the two values in each tuple in `list2`."
   ]
  },
  {
   "cell_type": "code",
   "execution_count": 134,
   "metadata": {
    "id": "9",
    "marks": 0.5,
    "tags": [
     "answer"
    ]
   },
   "outputs": [
    {
     "name": "stdout",
     "output_type": "stream",
     "text": [
      "2 and 4 sum: 6\n",
      "6 and 8 sum: 14\n",
      "10 and 12 sum: 22\n"
     ]
    }
   ],
   "source": [
    "# answer:\n",
    "for (x, y) in list2:\n",
    "    print(x, \"and\", str(y)+\" sum: \"+str((x+y)))"
   ]
  },
  {
   "cell_type": "markdown",
   "metadata": {},
   "source": [
    "---\n",
    "## Q10\n",
    "\n",
    "For this question we will use the same code from above, but try out different lists."
   ]
  },
  {
   "cell_type": "markdown",
   "metadata": {},
   "source": [
    "### Q10 a\n",
    "\n",
    "If you iterate over the folllowing list, you get an error:"
   ]
  },
  {
   "cell_type": "code",
   "execution_count": 135,
   "metadata": {},
   "outputs": [
    {
     "ename": "ValueError",
     "evalue": "too many values to unpack (expected 2)",
     "output_type": "error",
     "traceback": [
      "\u001b[0;31m---------------------------------------------------------------------------\u001b[0m",
      "\u001b[0;31mValueError\u001b[0m                                Traceback (most recent call last)",
      "Cell \u001b[0;32mIn [135], line 3\u001b[0m\n\u001b[1;32m      1\u001b[0m list3 \u001b[39m=\u001b[39m [(\u001b[39m2\u001b[39m, \u001b[39m4\u001b[39m, \u001b[39m3\u001b[39m), (\u001b[39m6\u001b[39m), (\u001b[39m10\u001b[39m, \u001b[39m12\u001b[39m), \u001b[39m\"\u001b[39m\u001b[39ma\u001b[39m\u001b[39m\"\u001b[39m]\n\u001b[0;32m----> 3\u001b[0m \u001b[39mfor\u001b[39;00m (x, y) \u001b[39min\u001b[39;00m list3:\n\u001b[1;32m      4\u001b[0m     \u001b[39mprint\u001b[39m(x, \u001b[39m\"\u001b[39m\u001b[39mand\u001b[39m\u001b[39m\"\u001b[39m, y)\n",
      "\u001b[0;31mValueError\u001b[0m: too many values to unpack (expected 2)"
     ]
    }
   ],
   "source": [
    "list3 = [(2, 4, 3), (6), (10, 12), \"a\"]\n",
    "\n",
    "for (x, y) in list3:\n",
    "    print(x, \"and\", y)"
   ]
  },
  {
   "cell_type": "markdown",
   "metadata": {},
   "source": [
    "Why do you get this error?"
   ]
  },
  {
   "cell_type": "markdown",
   "metadata": {
    "id": "10a",
    "marks": 1,
    "tags": [
     "answer"
    ]
   },
   "source": [
    "*answer:*\n",
    "\n",
    "do for loops checks for two variables (x,y), however list 3 has 3 in the first tuple (x,y,z), therefore it can not unpack more variables\n"
   ]
  },
  {
   "cell_type": "markdown",
   "metadata": {},
   "source": [
    "### Q10 b\n",
    "\n",
    "Let's now delete the first element & try the same code again."
   ]
  },
  {
   "cell_type": "code",
   "execution_count": null,
   "metadata": {
    "scrolled": true
   },
   "outputs": [
    {
     "ename": "TypeError",
     "evalue": "cannot unpack non-iterable int object",
     "output_type": "error",
     "traceback": [
      "\u001b[0;31m---------------------------------------------------------------------------\u001b[0m",
      "\u001b[0;31mTypeError\u001b[0m                                 Traceback (most recent call last)",
      "Cell \u001b[0;32mIn [87], line 3\u001b[0m\n\u001b[1;32m      1\u001b[0m list3 \u001b[39m=\u001b[39m [(\u001b[39m6\u001b[39m), (\u001b[39m10\u001b[39m, \u001b[39m12\u001b[39m), \u001b[39m\"\u001b[39m\u001b[39ma\u001b[39m\u001b[39m\"\u001b[39m]\n\u001b[0;32m----> 3\u001b[0m \u001b[39mfor\u001b[39;00m (x, y) \u001b[39min\u001b[39;00m list3:\n\u001b[1;32m      4\u001b[0m     \u001b[39mprint\u001b[39m(x, \u001b[39m\"\u001b[39m\u001b[39mand\u001b[39m\u001b[39m\"\u001b[39m, y)\n",
      "\u001b[0;31mTypeError\u001b[0m: cannot unpack non-iterable int object"
     ]
    }
   ],
   "source": [
    "list3 = [(6), (10, 12), \"a\"]\n",
    "\n",
    "for (x, y) in list3:\n",
    "    print(x, \"and\", y)"
   ]
  },
  {
   "cell_type": "markdown",
   "metadata": {},
   "source": [
    "The error we get is different now. Why do we get this?"
   ]
  },
  {
   "cell_type": "markdown",
   "metadata": {
    "id": "10b",
    "marks": 1,
    "tags": [
     "answer"
    ]
   },
   "source": [
    "*answer:*\n",
    "The variable \"a\",is a non-iterable int object meaning. an non-iterable object error means one is trying to loop through an integer or other data type that loops cannot work on"
   ]
  },
  {
   "cell_type": "markdown",
   "metadata": {},
   "source": [
    "### Q10 c\n",
    "\n",
    "Again, let's delete the first element & try the same code again. What's the error now and what is it telling us?"
   ]
  },
  {
   "cell_type": "code",
   "execution_count": null,
   "metadata": {},
   "outputs": [
    {
     "name": "stdout",
     "output_type": "stream",
     "text": [
      "10 and 12\n"
     ]
    },
    {
     "ename": "ValueError",
     "evalue": "not enough values to unpack (expected 2, got 1)",
     "output_type": "error",
     "traceback": [
      "\u001b[0;31m---------------------------------------------------------------------------\u001b[0m",
      "\u001b[0;31mValueError\u001b[0m                                Traceback (most recent call last)",
      "Cell \u001b[0;32mIn [100], line 3\u001b[0m\n\u001b[1;32m      1\u001b[0m list3 \u001b[39m=\u001b[39m [(\u001b[39m10\u001b[39m, \u001b[39m12\u001b[39m), \u001b[39m\"\u001b[39m\u001b[39ma\u001b[39m\u001b[39m\"\u001b[39m]\n\u001b[0;32m----> 3\u001b[0m \u001b[39mfor\u001b[39;00m (x, y,) \u001b[39min\u001b[39;00m list3:\n\u001b[1;32m      4\u001b[0m     \u001b[39mprint\u001b[39m(x, \u001b[39m\"\u001b[39m\u001b[39mand\u001b[39m\u001b[39m\"\u001b[39m, y)\n",
      "\u001b[0;31mValueError\u001b[0m: not enough values to unpack (expected 2, got 1)"
     ]
    }
   ],
   "source": [
    "list3 = [(10, 12), \"a\"]\n",
    "\n",
    "for (x, y,) in list3:\n",
    "    print(x, \"and\", y)"
   ]
  },
  {
   "cell_type": "markdown",
   "metadata": {},
   "source": [
    "Why do we get an different error now?"
   ]
  },
  {
   "cell_type": "markdown",
   "metadata": {
    "id": "10c",
    "marks": 1,
    "tags": [
     "answer"
    ]
   },
   "source": [
    "*answer:*\n",
    "The string variable \"a\", has only one value to unpack, however the for loop is looking for two values per variables to unpack, in which in this case it has only found one"
   ]
  },
  {
   "cell_type": "markdown",
   "metadata": {},
   "source": [
    "### Question 10 d\n",
    "\n",
    "If we modify `list3` slightly & rerun the same code again:"
   ]
  },
  {
   "cell_type": "code",
   "execution_count": null,
   "metadata": {
    "scrolled": true
   },
   "outputs": [
    {
     "name": "stdout",
     "output_type": "stream",
     "text": [
      "10 and 12\n",
      "a and b\n"
     ]
    }
   ],
   "source": [
    "list3 = [(10, 12), \"ab\"]\n",
    "\n",
    "for (x, y) in list3:\n",
    "    print(x, \"and\", y)"
   ]
  },
  {
   "cell_type": "markdown",
   "metadata": {},
   "source": [
    "What happens and why?"
   ]
  },
  {
   "cell_type": "markdown",
   "metadata": {
    "id": "10d",
    "marks": 1,
    "tags": [
     "answer"
    ]
   },
   "source": [
    "*answer:*\n",
    "Since both (10,12) and \"ab\" have two values per variable and the code for the for loop asks for (x,y) values, the for loop works and it is printed properly"
   ]
  },
  {
   "cell_type": "markdown",
   "metadata": {},
   "source": [
    "---\n",
    "### Iterating over dictionaries\n",
    "\n",
    "We can do the same with Dictionaries - remember that they contain items of key:value pairs. To access these we can use the fuctions from last week: `keys`, `values`, & `items`.\n",
    "\n",
    "In Python each of these methods return a *dictionary view object*. It supports operations like membership test and iteration, but its contents are not independent of the original dictionary – it is only a view. Let's see it in action."
   ]
  },
  {
   "cell_type": "markdown",
   "metadata": {},
   "source": [
    "---\n",
    "## Q11\n",
    "\n",
    "Let's work with the following dictionary:"
   ]
  },
  {
   "cell_type": "code",
   "execution_count": null,
   "metadata": {},
   "outputs": [],
   "source": [
    "d = {\"k1\": 1, \"k2\": 2, \"k3\": 3}"
   ]
  },
  {
   "cell_type": "markdown",
   "metadata": {},
   "source": [
    "### Q11 a\n",
    "\n",
    "Print `d`'s keys using a `for` loop."
   ]
  },
  {
   "cell_type": "code",
   "execution_count": null,
   "metadata": {
    "id": "11a",
    "marks": 0.5,
    "tags": [
     "answer"
    ]
   },
   "outputs": [
    {
     "name": "stdout",
     "output_type": "stream",
     "text": [
      "k1\n",
      "k2\n",
      "k3\n"
     ]
    }
   ],
   "source": [
    "# answer:\n",
    "for keys, value, in d.items():\n",
    "   print(keys)"
   ]
  },
  {
   "cell_type": "markdown",
   "metadata": {},
   "source": [
    "### Q11 b\n",
    "\n",
    "Print `d`'s values using a `for` loop."
   ]
  },
  {
   "cell_type": "code",
   "execution_count": null,
   "metadata": {
    "id": "11b",
    "marks": 0.5,
    "tags": [
     "answer"
    ]
   },
   "outputs": [
    {
     "name": "stdout",
     "output_type": "stream",
     "text": [
      "1\n",
      "2\n",
      "3\n"
     ]
    }
   ],
   "source": [
    "# answer:\n",
    "for keys, value, in d.items():\n",
    "   print(value)"
   ]
  },
  {
   "cell_type": "markdown",
   "metadata": {},
   "source": [
    "### Q11 c\n",
    "\n",
    "Print `d`'s items using a `for` loop."
   ]
  },
  {
   "cell_type": "code",
   "execution_count": null,
   "metadata": {
    "id": "11c",
    "marks": 0.5,
    "tags": [
     "answer"
    ]
   },
   "outputs": [
    {
     "name": "stdout",
     "output_type": "stream",
     "text": [
      "k1 1\n",
      "k2 2\n",
      "k3 3\n"
     ]
    }
   ],
   "source": [
    "# answer:\n",
    "for x,y in d.items():\n",
    "   print(x,y)"
   ]
  },
  {
   "cell_type": "markdown",
   "metadata": {},
   "source": [
    "---\n",
    "### `while` Loops\n",
    "\n",
    "The `while` statement in Python is one of most general ways to perform iteration. A `while` statement will repeatedly execute a single statement or group of statements as long as the condition is true. The reason it is called a \"loop\" is because the code statements are looped through over and over again until the condition is no longer met.\n",
    "\n",
    "The general format of a while loop is:\n",
    "```python\n",
    "while test:\n",
    "    <code statements>\n",
    "else:\n",
    "    <final code statements>\n",
    "```\n",
    "\n",
    "Let’s look at a few simple `while` loops in action."
   ]
  },
  {
   "cell_type": "markdown",
   "metadata": {},
   "source": [
    "---\n",
    "## Q12\n",
    "\n",
    "Start with `x = 0`. Create a `while` loop which prints `\"x < 10\"` for 10 times. After these 10 separate prints, print `\"x >= 10\"`."
   ]
  },
  {
   "cell_type": "code",
   "execution_count": null,
   "metadata": {
    "id": "12",
    "marks": 1,
    "tags": [
     "answer"
    ]
   },
   "outputs": [
    {
     "name": "stdout",
     "output_type": "stream",
     "text": [
      "x<10\n",
      "x<10\n",
      "x<10\n",
      "x<10\n",
      "x<10\n",
      "x<10\n",
      "x<10\n",
      "x<10\n",
      "x<10\n",
      "x<10\n",
      "x>=10\n"
     ]
    }
   ],
   "source": [
    "# answer:\n",
    "x = 0\n",
    "while x<10:\n",
    "    print(\"x<10\")\n",
    "    x+=1\n",
    "else:\n",
    "    print(\"x>=10\")\n"
   ]
  },
  {
   "cell_type": "markdown",
   "metadata": {},
   "source": [
    "---\n",
    "#### `break`, `continue`, `pass`\n",
    "\n",
    "We can use `break`, `continue`, and `pass` statements in our loops to add additional functionality for various cases. We already saw that `pass` does nothing & typically acts as a placeholder. `break` is used to break out of the current closest enclosing loop, while `continue` goes to the top of the closest enclosing loop.\n",
    "    \n",
    "Thinking about `break` and `continue` statements, the general format of the `while` loop looks like this:\n",
    "```python\n",
    "while test:\n",
    "    <statement>\n",
    "    if case1:\n",
    "        <statement>\n",
    "        break # exit while\n",
    "    if case2:\n",
    "        <statement>\n",
    "        continue # back to while\n",
    "else:\n",
    "    <statement>\n",
    "```\n",
    "`break` and `continue` statements can appear anywhere inside the loop’s body, but we will usually put them further nested in conjunction with an `if` statement to perform an action based on some condition."
   ]
  },
  {
   "cell_type": "markdown",
   "metadata": {},
   "source": [
    "---\n",
    "## Q13\n",
    "\n",
    "For this question we will use the code from **Q12**. For each part copy the code & modify it accordingly."
   ]
  },
  {
   "cell_type": "markdown",
   "metadata": {},
   "source": [
    "### Q13 a\n",
    "\n",
    "Modify the code to print `\"x == 3\"` when `x` is `3`. When `x` is `3` it should `continue` with the loop & not print `\"x < 10\"`. For the other cases the code should still print `\"x < 10\"` just the same."
   ]
  },
  {
   "cell_type": "code",
   "execution_count": 159,
   "metadata": {
    "id": "13a",
    "marks": 1,
    "tags": []
   },
   "outputs": [
    {
     "name": "stdout",
     "output_type": "stream",
     "text": [
      "x<10\n",
      "x<10\n",
      "x<10\n",
      "x==3\n",
      "x<10\n",
      "x<10\n",
      "x<10\n",
      "x<10\n",
      "x<10\n",
      "x<10\n",
      "x>=10\n"
     ]
    }
   ],
   "source": [
    "# answer:\n",
    "x = 0\n",
    "while x<10: \n",
    "    if x == 3:\n",
    "        print(\"x==3\")\n",
    "    else:   \n",
    "        print(\"x<10\") \n",
    "    x+=1        \n",
    "else:\n",
    "    print(\"x>=10\")"
   ]
  },
  {
   "cell_type": "markdown",
   "metadata": {},
   "source": [
    "### Q13 b\n",
    "\n",
    "Now modify the code to `break` the loop when `x` is equal to `3`."
   ]
  },
  {
   "cell_type": "code",
   "execution_count": 160,
   "metadata": {
    "id": "13b",
    "marks": 1,
    "tags": [
     "answer"
    ]
   },
   "outputs": [
    {
     "name": "stdout",
     "output_type": "stream",
     "text": [
      "x<10\n",
      "x<10\n",
      "x<10\n",
      "x==3\n"
     ]
    }
   ],
   "source": [
    "# answer:\n",
    "x = 0\n",
    "while x<10: \n",
    "    if x == 3:\n",
    "        print(\"x==3\")\n",
    "        break\n",
    "    else:   \n",
    "        print(\"x<10\") \n",
    "    x+=1        \n",
    "else:\n",
    "    print(\"x>=10\")"
   ]
  }
 ],
 "metadata": {
  "kernelspec": {
   "display_name": "Python 3.9.6 64-bit",
   "language": "python",
   "name": "python3"
  },
  "language_info": {
   "codemirror_mode": {
    "name": "ipython",
    "version": 3
   },
   "file_extension": ".py",
   "mimetype": "text/x-python",
   "name": "python",
   "nbconvert_exporter": "python",
   "pygments_lexer": "ipython3",
   "version": "3.9.6"
  },
  "vscode": {
   "interpreter": {
    "hash": "31f2aee4e71d21fbe5cf8b01ff0e069b9275f58929596ceb00d14d90e3e16cd6"
   }
  }
 },
 "nbformat": 4,
 "nbformat_minor": 4
}
