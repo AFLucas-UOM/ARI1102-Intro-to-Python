{
 "cells": [
  {
   "cell_type": "markdown",
   "metadata": {},
   "source": [
    "# Worksheet 5D: OOP\n",
    "\n",
    "### Let's play cards! \n",
    "\n",
    "We will be creating an object representing a deck of cards - with each card being an object itself. You have the following requirements:\n",
    "\n",
    "- The `Card` class should have a suit (**H**earts, **D**iamonds, **C**lubs, **S**pades) and a value (A,2,3,4,5,6,7,8,9,10,J,Q,K).\n",
    "- The `Deck` class will start off with a list of all 52 cards.\n",
    "- The `Deck` class will have a method to `shuffle` the cards and rearrange them in random order.\n",
    "- The `Deck` class will have a `deal` method to draw a single card from the deck. Once the card is drawn, it is discarded."
   ]
  },
  {
   "cell_type": "code",
   "execution_count": 9,
   "metadata": {
    "id": "1",
    "marks": 20,
    "tags": [
     "answer"
    ]
   },
   "outputs": [
    {
     "name": "stdout",
     "output_type": "stream",
     "text": [
      "Unshuffled Cards: ['A of Hearts', '2 of Hearts', '3 of Hearts', '4 of Hearts', '5 of Hearts', '6 of Hearts', '7 of Hearts', '8 of Hearts', '9 of Hearts', '10 of Hearts', 'J of Hearts', 'Q of Hearts', 'K of Hearts', 'A of Diamonds', '2 of Diamonds', '3 of Diamonds', '4 of Diamonds', '5 of Diamonds', '6 of Diamonds', '7 of Diamonds', '8 of Diamonds', '9 of Diamonds', '10 of Diamonds', 'J of Diamonds', 'Q of Diamonds', 'K of Diamonds', 'A of Clubs', '2 of Clubs', '3 of Clubs', '4 of Clubs', '5 of Clubs', '6 of Clubs', '7 of Clubs', '8 of Clubs', '9 of Clubs', '10 of Clubs', 'J of Clubs', 'Q of Clubs', 'K of Clubs', 'A of Spades', '2 of Spades', '3 of Spades', '4 of Spades', '5 of Spades', '6 of Spades', '7 of Spades', '8 of Spades', '9 of Spades', '10 of Spades', 'J of Spades', 'Q of Spades', 'K of Spades']\n",
      "\n",
      "Shuffled Cards: ['10 of Hearts', '6 of Diamonds', '9 of Hearts', '5 of Clubs', '4 of Spades', 'J of Diamonds', 'J of Spades', '9 of Diamonds', '9 of Spades', '7 of Spades', '5 of Hearts', '3 of Diamonds', '7 of Clubs', 'A of Spades', '3 of Spades', '3 of Clubs', '8 of Diamonds', '6 of Hearts', 'J of Clubs', 'K of Diamonds', '2 of Spades', '5 of Diamonds', 'Q of Spades', 'A of Hearts', '4 of Clubs', '9 of Clubs', '8 of Clubs', '2 of Hearts', '5 of Spades', '8 of Hearts', '4 of Diamonds', 'Q of Diamonds', 'Q of Hearts', '3 of Hearts', '2 of Clubs', '7 of Hearts', '2 of Diamonds', 'A of Diamonds', '8 of Spades', '10 of Diamonds', 'J of Hearts', '10 of Spades', '6 of Clubs', '6 of Spades', '4 of Hearts', 'K of Clubs', '7 of Diamonds', 'Q of Clubs', 'K of Hearts', 'A of Clubs', '10 of Clubs', 'K of Spades']\n",
      "\n",
      "Dealing of cards: Card removed is K of Spades\n"
     ]
    }
   ],
   "source": [
    "# answer:\n",
    "from random import shuffle\n",
    "\n",
    "class Cards:\n",
    "    def _init_(self, values, suits):\n",
    "        self.values = values\n",
    "        self.suits = suits\n",
    "\n",
    "class Deck(Cards):\n",
    "    def __init__(self):\n",
    "        Cards.__init__(self)\n",
    "        self.cardset = []\n",
    "        suits = ['Hearts', 'Diamonds', 'Clubs', 'Spades']\n",
    "        values = ['A', '2', '3', '4', '5', '6', '7', '8', '9', '10', 'J', 'Q', 'K']\n",
    "        for i in suits:\n",
    "            for j in values:\n",
    "                self.cardset.append((j)+\" \"+\"of\"+\" \"+i)\n",
    "\n",
    "    def shuffle(self):\n",
    "        shuffle(self.cardset)\n",
    "        return self.cardset\n",
    "    \n",
    "    def deal(self):\n",
    "            card_popped = self.cardset.pop()\n",
    "            return \"Card removed is \"+card_popped\n",
    "\n",
    "objCards = Cards()\n",
    "objDeck = Deck()\n",
    "print(\"Unshuffled Cards: \"+str(objDeck.cardset))\n",
    "print(\"\\nShuffled Cards: \"+str(objDeck.shuffle()))\n",
    "print(\"\\nDealing of cards: \"+str(objDeck.deal()))"
   ]
  }
 ],
 "metadata": {
  "kernelspec": {
   "display_name": "Python 3.10.6 ('base')",
   "language": "python",
   "name": "python3"
  },
  "language_info": {
   "codemirror_mode": {
    "name": "ipython",
    "version": 3
   },
   "file_extension": ".py",
   "mimetype": "text/x-python",
   "name": "python",
   "nbconvert_exporter": "python",
   "pygments_lexer": "ipython3",
   "version": "3.10.6"
  },
  "vscode": {
   "interpreter": {
    "hash": "70993373fce430daa4b9e58133f64fa7edb5d7eb76386b3e458b705645ab90c3"
   }
  }
 },
 "nbformat": 4,
 "nbformat_minor": 4
}
