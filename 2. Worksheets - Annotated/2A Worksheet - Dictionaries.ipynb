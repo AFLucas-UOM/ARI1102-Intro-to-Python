{
 "cells": [
  {
   "cell_type": "markdown",
   "metadata": {
    "pycharm": {
     "name": "#%% md\n"
    }
   },
   "source": [
    "# Worksheet 2A: Dictionaries\n",
    "\n",
    "Welcome to _Slightly Advanced_ Data Structures!\n",
    "\n",
    "First we will look at Dictionaries in Python - this is the equivalent to Hash Maps or Associative Arrays in other programming langauges. \n",
    "\n",
    "In order to complete this task sheet, you will probably need to search using your favourite search engine. Here is one starting point:\n",
    "\n",
    "https://www.w3schools.com/python/python_dictionaries.asp"
   ]
  },
  {
   "cell_type": "markdown",
   "metadata": {},
   "source": [
    "---\n",
    "## Q1\n",
    "\n",
    "A dictionary is like a list, but more general. In a list, the indices have to be integers; in a\n",
    "dictionary they can be (almost) any type.\n",
    "\n",
    "A dictionary contains a collection of indices, which are called keys, and a collection of values. Each key is associated with a single value. The association of a key and a value is called a key-value pair or sometimes an item."
   ]
  },
  {
   "cell_type": "markdown",
   "metadata": {},
   "source": [
    "### Q1 a\n",
    "\n",
    "Create a dictionary using the following statement:"
   ]
  },
  {
   "cell_type": "code",
   "execution_count": 1,
   "metadata": {
    "pycharm": {
     "name": "#%%\n"
    }
   },
   "outputs": [],
   "source": [
    "tele = dict()"
   ]
  },
  {
   "cell_type": "markdown",
   "metadata": {},
   "source": [
    "What do you get if you simply type out the variable name? What does this indicate?"
   ]
  },
  {
   "cell_type": "code",
   "execution_count": 2,
   "metadata": {
    "pycharm": {
     "name": "#%%\n"
    }
   },
   "outputs": [
    {
     "data": {
      "text/plain": [
       "{}"
      ]
     },
     "execution_count": 2,
     "metadata": {},
     "output_type": "execute_result"
    }
   ],
   "source": [
    "tele"
   ]
  },
  {
   "cell_type": "markdown",
   "metadata": {
    "id": "1a",
    "marks": 1,
    "tags": [
     "answer"
    ]
   },
   "source": [
    "*answer:*\n",
    "Since no data was stored just curly brackets{} are outputted. ( empty dictionary)"
   ]
  },
  {
   "cell_type": "markdown",
   "metadata": {
    "pycharm": {
     "name": "#%% md\n"
    }
   },
   "source": [
    "### Q1 b\n",
    "\n",
    "There is also another way of declaring a dictionary (retaining the variable name `tele`). Provide the code."
   ]
  },
  {
   "cell_type": "code",
   "execution_count": 6,
   "metadata": {
    "id": "1b",
    "marks": 1,
    "tags": [
     "answer"
    ]
   },
   "outputs": [],
   "source": [
    "# answer:\n",
    "tele = {}"
   ]
  },
  {
   "cell_type": "markdown",
   "metadata": {},
   "source": [
    "---\n",
    "## Q2"
   ]
  },
  {
   "cell_type": "markdown",
   "metadata": {
    "pycharm": {
     "name": "#%% md\n"
    }
   },
   "source": [
    "### Q2 a\n",
    "\n",
    "Unlike lists, with dictionaries we need to provide both the __key__ (index) and the __value__ of the item when inserting an item. Write down the code to assign the value `3233` to the key `\"harry\"` in the existing dictionary `tele` (without re-declaring it)."
   ]
  },
  {
   "cell_type": "code",
   "execution_count": 4,
   "metadata": {
    "id": "2a",
    "marks": 2,
    "tags": [
     "answer"
    ]
   },
   "outputs": [
    {
     "data": {
      "text/plain": [
       "{'harry': 3233}"
      ]
     },
     "execution_count": 4,
     "metadata": {},
     "output_type": "execute_result"
    }
   ],
   "source": [
    "# answer:\n",
    "{'harry':3233}\n"
   ]
  },
  {
   "cell_type": "markdown",
   "metadata": {
    "pycharm": {
     "name": "#%% md\n"
    }
   },
   "source": [
    "### Q2 b\n",
    "What happens if you use the same code, but instead using a new variable name which is undeclared? e.g. `fido`"
   ]
  },
  {
   "cell_type": "code",
   "execution_count": 7,
   "metadata": {
    "answer_type": "output",
    "id": "2b",
    "marks": 2,
    "tags": [
     "answer"
    ]
   },
   "outputs": [
    {
     "data": {
      "text/plain": [
       "{'fido': 3233}"
      ]
     },
     "execution_count": 7,
     "metadata": {},
     "output_type": "execute_result"
    }
   ],
   "source": [
    "# answer:\n",
    "{'fido': 3233}"
   ]
  },
  {
   "cell_type": "markdown",
   "metadata": {
    "pycharm": {
     "name": "#%% md\n"
    }
   },
   "source": [
    "---\n",
    "## Q3\n",
    "In question `2a`, we added a key-value pair that was of type string-integer. Try assigning some different types, e.g:\n",
    "\n",
    "(i) integer:string \n",
    "\n",
    "(ii) integer:list \n",
    "\n",
    "(iii) list:string \n",
    "\n",
    "Do you get any errors? On which, and why? \n",
    "\n",
    "_Hint: search up restrictions on python dictionaries_ "
   ]
  },
  {
   "cell_type": "code",
   "execution_count": 8,
   "metadata": {
    "pycharm": {
     "name": "#%%\n"
    }
   },
   "outputs": [
    {
     "ename": "TypeError",
     "evalue": "unhashable type: 'list'",
     "output_type": "error",
     "traceback": [
      "\u001b[0;31m---------------------------------------------------------------------------\u001b[0m",
      "\u001b[0;31mTypeError\u001b[0m                                 Traceback (most recent call last)",
      "Cell \u001b[0;32mIn [8], line 3\u001b[0m\n\u001b[1;32m      1\u001b[0m tele \u001b[39m=\u001b[39m {\u001b[39m1\u001b[39m: \u001b[39m\"\u001b[39m\u001b[39mAndrea\u001b[39m\u001b[39m\"\u001b[39m}\n\u001b[1;32m      2\u001b[0m tele \u001b[39m=\u001b[39m {\u001b[39m2\u001b[39m: [\u001b[39m\"\u001b[39m\u001b[39mAndrea\u001b[39m\u001b[39m\"\u001b[39m, \u001b[39m\"\u001b[39m\u001b[39mMosh\u001b[39m\u001b[39m\"\u001b[39m]}\n\u001b[0;32m----> 3\u001b[0m tele \u001b[39m=\u001b[39m {[\u001b[39m\"\u001b[39m\u001b[39mAndrea, Thomas\u001b[39m\u001b[39m\"\u001b[39m]: \u001b[39m\"\u001b[39m\u001b[39mClass\u001b[39m\u001b[39m\"\u001b[39m}\n",
      "\u001b[0;31mTypeError\u001b[0m: unhashable type: 'list'"
     ]
    }
   ],
   "source": [
    "tele = {1: \"Andrea\"}\n",
    "tele = {2: [\"Andrea\", \"Mosh\"]}\n",
    "tele = {[\"Andrea, Thomas\"]: \"Class\"}"
   ]
  },
  {
   "cell_type": "markdown",
   "metadata": {
    "id": "3",
    "marks": 4,
    "tags": [
     "answer"
    ]
   },
   "source": [
    "*answer:*\n",
    "An error occurs during (iii), since list can not be keys. This is because keys must always be immutable, however lists aren't"
   ]
  },
  {
   "cell_type": "markdown",
   "metadata": {
    "pycharm": {
     "name": "#%% md\n"
    }
   },
   "source": [
    "---\n",
    "## Q4\n",
    "\n",
    "Write the code to access the value for the key `\"harry\"` from our `tele` dictionary. "
   ]
  },
  {
   "cell_type": "code",
   "execution_count": 17,
   "metadata": {
    "id": "4",
    "marks": 1,
    "tags": [
     "answer"
    ]
   },
   "outputs": [
    {
     "data": {
      "text/plain": [
       "3233"
      ]
     },
     "execution_count": 17,
     "metadata": {},
     "output_type": "execute_result"
    }
   ],
   "source": [
    "# answer:\n",
    "tele = {\"harry\":3233}\n",
    "tele['harry']"
   ]
  },
  {
   "cell_type": "markdown",
   "metadata": {
    "pycharm": {
     "name": "#%% md\n"
    }
   },
   "source": [
    "---\n",
    "## Q5\n",
    "\n",
    "Write the code to access the key `\"harry\"` and change its value by incrementing it by `1` using the `+=` operator"
   ]
  },
  {
   "cell_type": "code",
   "execution_count": null,
   "metadata": {
    "id": "5",
    "marks": 1,
    "tags": [
     "answer"
    ]
   },
   "outputs": [],
   "source": [
    "# answer:\n",
    "tele['harry'] += 1\n",
    "print(tele['harry'])\n"
   ]
  },
  {
   "cell_type": "markdown",
   "metadata": {},
   "source": [
    "---\n",
    "## Q6"
   ]
  },
  {
   "cell_type": "markdown",
   "metadata": {
    "pycharm": {
     "name": "#%% md\n"
    }
   },
   "source": [
    "### Q6 a\n",
    "\n",
    "Try out the following statement:"
   ]
  },
  {
   "cell_type": "code",
   "execution_count": 20,
   "metadata": {
    "pycharm": {
     "name": "#%%\n"
    }
   },
   "outputs": [
    {
     "ename": "AttributeError",
     "evalue": "'int' object has no attribute 'upper'",
     "output_type": "error",
     "traceback": [
      "\u001b[0;31m---------------------------------------------------------------------------\u001b[0m",
      "\u001b[0;31mAttributeError\u001b[0m                            Traceback (most recent call last)",
      "Cell \u001b[0;32mIn [20], line 1\u001b[0m\n\u001b[0;32m----> 1\u001b[0m tele[\u001b[39m\"\u001b[39;49m\u001b[39mharry\u001b[39;49m\u001b[39m\"\u001b[39;49m]\u001b[39m.\u001b[39;49mupper()\n",
      "\u001b[0;31mAttributeError\u001b[0m: 'int' object has no attribute 'upper'"
     ]
    }
   ],
   "source": [
    "tele[\"harry\"].upper()"
   ]
  },
  {
   "cell_type": "markdown",
   "metadata": {},
   "source": [
    "Why do you get an `AttributeError`?"
   ]
  },
  {
   "cell_type": "markdown",
   "metadata": {
    "id": "6a",
    "marks": 2,
    "tags": [
     "answer"
    ]
   },
   "source": [
    "*answer:*\n",
    "since the value stored in the tele['harry'] is int, it can not be called using the Upper method (which is only used for String variables)"
   ]
  },
  {
   "cell_type": "markdown",
   "metadata": {
    "pycharm": {
     "name": "#%% md\n"
    }
   },
   "source": [
    "### Q6 b\n",
    "\n",
    "Now, change the value of `tele[\"harry\"]` to a `string` and rerun the `upper` function on it. What happens and why? "
   ]
  },
  {
   "cell_type": "code",
   "execution_count": 23,
   "metadata": {
    "pycharm": {
     "name": "#%%\n"
    }
   },
   "outputs": [
    {
     "data": {
      "text/plain": [
       "'TEST'"
      ]
     },
     "execution_count": 23,
     "metadata": {},
     "output_type": "execute_result"
    }
   ],
   "source": [
    "tele= {'harry': \"test\"}\n",
    "tele[\"harry\"].upper()"
   ]
  },
  {
   "cell_type": "markdown",
   "metadata": {
    "id": "6b",
    "marks": 2,
    "tags": [
     "answer"
    ]
   },
   "source": [
    "*answer:*\n",
    "the lower case \"test\" vale, is printed in caps, since the upper method is being called and is executed since the value now is String"
   ]
  },
  {
   "cell_type": "markdown",
   "metadata": {
    "pycharm": {
     "name": "#%% md\n"
    }
   },
   "source": [
    "---\n",
    "## Q7\n",
    "\n",
    "It is possible to have nested dictionaries, whereby the value of an item is a dictionary."
   ]
  },
  {
   "cell_type": "markdown",
   "metadata": {},
   "source": [
    "### Q7 a\n",
    "\n",
    "Create a new dictionary called `nest`, where the key `\"nested1\"` will have the dictionary value `{\"subdict\": 46}`."
   ]
  },
  {
   "cell_type": "code",
   "execution_count": 27,
   "metadata": {
    "id": "7a",
    "marks": 2,
    "tags": [
     "answer"
    ]
   },
   "outputs": [],
   "source": [
    "# answer:\n",
    "nest = {\"nested1\":{\"subdict\": 46}}\n",
    "  "
   ]
  },
  {
   "cell_type": "markdown",
   "metadata": {
    "pycharm": {
     "name": "#%% md\n"
    }
   },
   "source": [
    "### Q7 b\n",
    "\n",
    "How would you access the value `46` from `nest`?"
   ]
  },
  {
   "cell_type": "code",
   "execution_count": 34,
   "metadata": {
    "id": "7b",
    "marks": 1,
    "tags": [
     "answer"
    ]
   },
   "outputs": [
    {
     "name": "stdout",
     "output_type": "stream",
     "text": [
      "46\n"
     ]
    }
   ],
   "source": [
    "# answer:\n",
    "print(nest[\"nested1\"][\"subdict\"])"
   ]
  },
  {
   "cell_type": "markdown",
   "metadata": {
    "pycharm": {
     "name": "#%% md\n"
    }
   },
   "source": [
    "---\n",
    "## Q8\n",
    "\n",
    "Let us use the following dictionary:"
   ]
  },
  {
   "cell_type": "code",
   "execution_count": 13,
   "metadata": {
    "pycharm": {
     "name": "#%%\n"
    }
   },
   "outputs": [
    {
     "data": {
      "text/plain": [
       "{'key1': 1, 'key2': 2, 'key3': 3}"
      ]
     },
     "execution_count": 13,
     "metadata": {},
     "output_type": "execute_result"
    }
   ],
   "source": [
    "d = {\"key1\": 1, \"key2\": 2, \"key3\": 3}\n",
    "d"
   ]
  },
  {
   "cell_type": "markdown",
   "metadata": {},
   "source": [
    "### Q8 a\n",
    "There is a way of extracting a list of all the values in the dictionary. Write the code for this."
   ]
  },
  {
   "cell_type": "code",
   "execution_count": 43,
   "metadata": {
    "id": "8a",
    "marks": 1,
    "tags": [
     "answer"
    ]
   },
   "outputs": [
    {
     "data": {
      "text/plain": [
       "dict_values([1, 2, 3])"
      ]
     },
     "execution_count": 43,
     "metadata": {},
     "output_type": "execute_result"
    }
   ],
   "source": [
    "# answer:\n",
    "\n",
    "d.values()"
   ]
  },
  {
   "cell_type": "markdown",
   "metadata": {
    "pycharm": {
     "name": "#%% md\n"
    }
   },
   "source": [
    "### Q8 b\n",
    "\n",
    "Adjust the statement above and save the list of values into a variable & check its type."
   ]
  },
  {
   "cell_type": "code",
   "execution_count": 47,
   "metadata": {
    "answer_type": "output",
    "id": "8b",
    "marks": 1,
    "tags": [
     "answer"
    ]
   },
   "outputs": [
    {
     "name": "stdout",
     "output_type": "stream",
     "text": [
      "dict_values([1, 2, 3])\n"
     ]
    }
   ],
   "source": [
    "# answer:\n",
    "type = d.values()\n",
    "print(type)"
   ]
  },
  {
   "cell_type": "markdown",
   "metadata": {},
   "source": [
    "---\n",
    "## Q9"
   ]
  },
  {
   "cell_type": "markdown",
   "metadata": {
    "pycharm": {
     "name": "#%% md\n"
    }
   },
   "source": [
    "### Q9 a\n",
    "\n",
    "Similarly, write the code to get the keys of `d`."
   ]
  },
  {
   "cell_type": "code",
   "execution_count": 64,
   "metadata": {
    "id": "9a",
    "marks": 1,
    "tags": [
     "answer"
    ]
   },
   "outputs": [
    {
     "data": {
      "text/plain": [
       "dict_keys(['key1', 'key2', 'key3'])"
      ]
     },
     "execution_count": 64,
     "metadata": {},
     "output_type": "execute_result"
    }
   ],
   "source": [
    "# answer:\n",
    "d.keys()"
   ]
  },
  {
   "cell_type": "markdown",
   "metadata": {
    "pycharm": {
     "name": "#%% md\n"
    }
   },
   "source": [
    "### Q9 b\n",
    "\n",
    "What is the type of the list of keys? "
   ]
  },
  {
   "cell_type": "code",
   "execution_count": 5,
   "metadata": {
    "answer_type": "output",
    "id": "9b",
    "marks": 1,
    "tags": [
     "answer"
    ]
   },
   "outputs": [
    {
     "data": {
      "text/plain": [
       "dict_keys"
      ]
     },
     "execution_count": 5,
     "metadata": {},
     "output_type": "execute_result"
    }
   ],
   "source": [
    "# answer:\n",
    "type(d.keys())\n"
   ]
  },
  {
   "cell_type": "markdown",
   "metadata": {
    "pycharm": {
     "name": "#%% md\n"
    }
   },
   "source": [
    "---\n",
    "## Q10"
   ]
  },
  {
   "cell_type": "markdown",
   "metadata": {},
   "source": [
    "### Q10 a\n",
    "\n",
    "Finally, there is a function to access all the __items__ in a dictionary. Write code for this."
   ]
  },
  {
   "cell_type": "code",
   "execution_count": 6,
   "metadata": {
    "id": "10a",
    "marks": 0.5,
    "tags": [
     "answer"
    ]
   },
   "outputs": [
    {
     "data": {
      "text/plain": [
       "dict_items([('key1', 1), ('key2', 2), ('key3', 3)])"
      ]
     },
     "execution_count": 6,
     "metadata": {},
     "output_type": "execute_result"
    }
   ],
   "source": [
    "# answer:\n",
    "d.items()"
   ]
  },
  {
   "cell_type": "markdown",
   "metadata": {
    "pycharm": {
     "name": "#%% md\n"
    }
   },
   "source": [
    "### Q10 b\n",
    "What is the type of the list of items?"
   ]
  },
  {
   "cell_type": "code",
   "execution_count": 7,
   "metadata": {
    "answer_type": "output",
    "id": "10b",
    "marks": 0.5,
    "tags": [
     "answer"
    ]
   },
   "outputs": [
    {
     "data": {
      "text/plain": [
       "dict_items"
      ]
     },
     "execution_count": 7,
     "metadata": {},
     "output_type": "execute_result"
    }
   ],
   "source": [
    "# answer:\n",
    "type(d.items())"
   ]
  },
  {
   "cell_type": "markdown",
   "metadata": {
    "pycharm": {
     "name": "#%% md\n"
    }
   },
   "source": [
    "---\n",
    "## Q11\n",
    "\n",
    "Try to access a key that isn't in the dictionary like `\"key100\"`. What error do you get? "
   ]
  },
  {
   "cell_type": "code",
   "execution_count": 8,
   "metadata": {
    "answer_type": "output",
    "id": "11",
    "marks": 1,
    "tags": [
     "answer"
    ]
   },
   "outputs": [
    {
     "ename": "KeyError",
     "evalue": "'key100'",
     "output_type": "error",
     "traceback": [
      "\u001b[0;31m---------------------------------------------------------------------------\u001b[0m",
      "\u001b[0;31mKeyError\u001b[0m                                  Traceback (most recent call last)",
      "Cell \u001b[0;32mIn [8], line 2\u001b[0m\n\u001b[1;32m      1\u001b[0m \u001b[39m# answer:\u001b[39;00m\n\u001b[0;32m----> 2\u001b[0m d[\u001b[39m\"\u001b[39;49m\u001b[39mkey100\u001b[39;49m\u001b[39m\"\u001b[39;49m]\n",
      "\u001b[0;31mKeyError\u001b[0m: 'key100'"
     ]
    }
   ],
   "source": [
    "# answer: Key error occurs, since \"key100\" isn't in the dictionary\n",
    "d[\"key100\"]"
   ]
  },
  {
   "cell_type": "markdown",
   "metadata": {
    "pycharm": {
     "name": "#%% md\n"
    }
   },
   "source": [
    "---\n",
    "## Q12\n",
    "\n",
    "Try out the `len` function on `d`. Are the results what you'd expect? "
   ]
  },
  {
   "cell_type": "code",
   "execution_count": 28,
   "metadata": {
    "id": "12",
    "marks": 1,
    "tags": [
     "answer"
    ]
   },
   "outputs": [
    {
     "data": {
      "text/plain": [
       "3"
      ]
     },
     "execution_count": 28,
     "metadata": {},
     "output_type": "execute_result"
    }
   ],
   "source": [
    "# answer: prints out the number of keys\n",
    "len(d)"
   ]
  },
  {
   "cell_type": "markdown",
   "metadata": {
    "pycharm": {
     "name": "#%% md\n"
    }
   },
   "source": [
    "## Appendix\n",
    "\n",
    "Try out some additional methods that are available for the _Dictionary_ Data Structure and familiarise yourself with them:\n",
    "\n",
    "https://docs.python.org/3.9/library/stdtypes.html#mapping-types-dict"
   ]
  },
  {
   "cell_type": "code",
   "execution_count": null,
   "metadata": {
    "pycharm": {
     "name": "#%%\n"
    }
   },
   "outputs": [],
   "source": [
    "-"
   ]
  }
 ],
 "metadata": {
  "kernelspec": {
   "display_name": "Python 3.10.6 ('base')",
   "language": "python",
   "name": "python3"
  },
  "language_info": {
   "codemirror_mode": {
    "name": "ipython",
    "version": 3
   },
   "file_extension": ".py",
   "mimetype": "text/x-python",
   "name": "python",
   "nbconvert_exporter": "python",
   "pygments_lexer": "ipython3",
   "version": "3.10.6"
  },
  "vscode": {
   "interpreter": {
    "hash": "70993373fce430daa4b9e58133f64fa7edb5d7eb76386b3e458b705645ab90c3"
   }
  }
 },
 "nbformat": 4,
 "nbformat_minor": 4
}
